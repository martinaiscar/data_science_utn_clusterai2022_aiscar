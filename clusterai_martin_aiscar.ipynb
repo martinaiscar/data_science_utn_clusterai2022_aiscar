{
 "cells": [
  {
   "cell_type": "markdown",
   "metadata": {
    "id": "P3ANPsbtkuXj"
   },
   "source": [
    "## **Trabajo Práctico Final Grupal: Bank Subscription**\n",
    "____\n",
    "__Universidad Tecnológica Nacional, Buenos Aires__\\\n",
    "__Ingeniería Industrial__\\\n",
    "__Ciencia de Datos - Curso I5521__\n",
    "____"
   ]
  },
  {
   "cell_type": "markdown",
   "metadata": {
    "id": "cTPsPHb_lWTE"
   },
   "source": [
    "- Nombre: Candela\n",
    "- Apellido: Abatedaga\n",
    "- Legajo: 1673117\n",
    "\n",
    "\n",
    "\n",
    "- Nombre: Martín\n",
    "- Apellido: Aiscar\n",
    "- Legajo: 1635487"
   ]
  },
  {
   "cell_type": "markdown",
   "metadata": {
    "id": "YMdU-MqS543H"
   },
   "source": [
    "**Entrega del trabajo: Viernes 25 de noviembre a las 23h59.**"
   ]
  },
  {
   "cell_type": "markdown",
   "metadata": {
    "id": "E5W-65MskuXx"
   },
   "source": [
    "## **En este trabajo práctico buscaremos predecir que clientes se subscribirán a una campaña de marketing.**\n",
    "\n",
    "Trabajaremos con un dataset que cuenta con información de 45.211 clientes (samples) y tiene 17 variables (features) que muestran algunas características de estos."
   ]
  },
  {
   "cell_type": "markdown",
   "metadata": {
    "id": "hWk9Vqs8l5jg"
   },
   "source": [
    "## **Importación de librerías**"
   ]
  },
  {
   "cell_type": "code",
   "execution_count": null,
   "metadata": {
    "id": "7VzMW3fvkuX0"
   },
   "outputs": [],
   "source": [
    "## Importamos librerías para manipulación de datos.\n",
    "import pandas as pd\n",
    "import numpy as np\n",
    "import seaborn as sns\n",
    "import matplotlib.pyplot as plt"
   ]
  },
  {
   "cell_type": "code",
   "execution_count": null,
   "metadata": {
    "id": "NFgDAUVLNfhE"
   },
   "outputs": [],
   "source": [
    "## Importamos librerías de aprendizaje automático.\n",
    "from sklearn import preprocessing\n",
    "from sklearn.model_selection import train_test_split, cross_val_score\n",
    "from sklearn.utils import shuffle\n",
    "from sklearn.preprocessing import StandardScaler\n",
    "from sklearn.preprocessing import LabelEncoder\n",
    "from sklearn.model_selection import GridSearchCV\n",
    "from sklearn import svm\n",
    "from sklearn.svm import SVC\n",
    "from sklearn.metrics import accuracy_score\n",
    "from sklearn.model_selection import cross_val_score\n",
    "from sklearn.metrics import roc_curve, auc\n",
    "from sklearn.metrics import confusion_matrix\n",
    "from sklearn.neighbors import KNeighborsClassifier\n",
    "from sklearn.datasets import make_classification\n",
    "from sklearn.ensemble import RandomForestClassifier\n",
    "from sklearn.linear_model import LogisticRegression\n",
    "from sklearn import set_config"
   ]
  },
  {
   "cell_type": "code",
   "execution_count": null,
   "metadata": {
    "id": "Ga5ltZUcMTtO"
   },
   "outputs": [],
   "source": [
    "## Importamos librerías para poder crear Pipelines.\n",
    "from sklearn.pipeline import Pipeline\n",
    "from sklearn.impute import SimpleImputer\n",
    "from sklearn.compose import ColumnTransformer\n",
    "from sklearn.preprocessing import OneHotEncoder"
   ]
  },
  {
   "cell_type": "code",
   "execution_count": null,
   "metadata": {
    "id": "pmlKQaferj-H"
   },
   "outputs": [],
   "source": [
    "## Importamos librerías para realizar PCA.\n",
    "from sklearn.decomposition import PCA"
   ]
  },
  {
   "cell_type": "markdown",
   "metadata": {
    "id": "3SbYS6Q7qn4-"
   },
   "source": [
    "## **Google Colaboratory o Local**\n",
    "El notebook podrá ser corrido directamente tanto localmente como en Google Colaboratory.\n"
   ]
  },
  {
   "cell_type": "code",
   "execution_count": null,
   "metadata": {
    "colab": {
     "base_uri": "https://localhost:8080/"
    },
    "executionInfo": {
     "elapsed": 5108,
     "status": "ok",
     "timestamp": 1669298178324,
     "user": {
      "displayName": "MARTÍN NICOLAS AISCAR",
      "userId": "18143931623073660355"
     },
     "user_tz": 180
    },
    "id": "-sMQ0Jxuo982",
    "outputId": "ec657f9d-6b8a-4a8c-c600-2c2b43efb222"
   },
   "outputs": [
    {
     "name": "stdout",
     "output_type": "stream",
     "text": [
      "True\n",
      "Mounted at /content/gdrive\n"
     ]
    }
   ],
   "source": [
    "## Verificamos si estamos corriendo el noteboock en Google Colaboratory.\n",
    "var_google_colab = 'google.colab' in str(get_ipython())\n",
    "print(var_google_colab)\n",
    "\n",
    "## En el caso de estar en Google Colab, montamos nuestro Drive.\n",
    "if var_google_colab:\n",
    "  from google.colab import drive\n",
    "  drive.mount('/content/gdrive',force_remount=True)\n",
    "  ## Dirección root donde está el notebook.\n",
    "  root_path = \"/content/gdrive/MyDrive/Ciencia de Datos/tpfinal/\"\n",
    "  ## Direccion donde se guardarán las fotos.\n",
    "  plot_path = root_path+\"Imagenes/\"\n",
    "\n",
    "## En el caso de no estar en Google Colab, estamos corriendo localmente el notebook.\n",
    "else:\n",
    "  root_path = \"\"\n",
    "  plot_path = root_path"
   ]
  },
  {
   "cell_type": "markdown",
   "metadata": {
    "id": "cd4eSEt9vaji"
   },
   "source": [
    "## **Dataset**\n"
   ]
  },
  {
   "cell_type": "code",
   "execution_count": null,
   "metadata": {
    "colab": {
     "base_uri": "https://localhost:8080/"
    },
    "executionInfo": {
     "elapsed": 11,
     "status": "ok",
     "timestamp": 1669298178325,
     "user": {
      "displayName": "MARTÍN NICOLAS AISCAR",
      "userId": "18143931623073660355"
     },
     "user_tz": 180
    },
    "id": "luLmTrKqeGhw",
    "outputId": "bdc4f6da-40df-4f1b-ba3a-fc4a4fbc0289"
   },
   "outputs": [
    {
     "data": {
      "text/html": [
       "\n",
       "  <div id=\"df-16152655-ef04-44e2-8d72-58723c3b23eb\">\n",
       "    <div class=\"colab-df-container\">\n",
       "      <div>\n",
       "<style scoped>\n",
       "    .dataframe tbody tr th:only-of-type {\n",
       "        vertical-align: middle;\n",
       "    }\n",
       "\n",
       "    .dataframe tbody tr th {\n",
       "        vertical-align: top;\n",
       "    }\n",
       "\n",
       "    .dataframe thead th {\n",
       "        text-align: right;\n",
       "    }\n",
       "</style>\n",
       "<table border=\"1\" class=\"dataframe\">\n",
       "  <thead>\n",
       "    <tr style=\"text-align: right;\">\n",
       "      <th></th>\n",
       "      <th>Unnamed: 0</th>\n",
       "      <th>Age</th>\n",
       "      <th>Job</th>\n",
       "      <th>Marital Status</th>\n",
       "      <th>Education</th>\n",
       "      <th>Credit</th>\n",
       "      <th>Balance (euros)</th>\n",
       "      <th>Housing Loan</th>\n",
       "      <th>Personal Loan</th>\n",
       "      <th>Contact</th>\n",
       "      <th>Last Contact Day</th>\n",
       "      <th>Last Contact Month</th>\n",
       "      <th>Last Contact Duration</th>\n",
       "      <th>Campaign</th>\n",
       "      <th>Pdays</th>\n",
       "      <th>Previous</th>\n",
       "      <th>Poutcome</th>\n",
       "      <th>Subscription</th>\n",
       "    </tr>\n",
       "  </thead>\n",
       "  <tbody>\n",
       "    <tr>\n",
       "      <th>0</th>\n",
       "      <td>0</td>\n",
       "      <td>58.0</td>\n",
       "      <td>management</td>\n",
       "      <td>married</td>\n",
       "      <td>NaN</td>\n",
       "      <td>no</td>\n",
       "      <td>2143.0</td>\n",
       "      <td>yes</td>\n",
       "      <td>no</td>\n",
       "      <td>unknown</td>\n",
       "      <td>5</td>\n",
       "      <td>may</td>\n",
       "      <td>261.0</td>\n",
       "      <td>1</td>\n",
       "      <td>-1.0</td>\n",
       "      <td>0</td>\n",
       "      <td>unknown</td>\n",
       "      <td>1</td>\n",
       "    </tr>\n",
       "    <tr>\n",
       "      <th>1</th>\n",
       "      <td>1</td>\n",
       "      <td>44.0</td>\n",
       "      <td>technician</td>\n",
       "      <td>single</td>\n",
       "      <td>secondary</td>\n",
       "      <td>no</td>\n",
       "      <td>29.0</td>\n",
       "      <td>NaN</td>\n",
       "      <td>no</td>\n",
       "      <td>unknown</td>\n",
       "      <td>5</td>\n",
       "      <td>may</td>\n",
       "      <td>NaN</td>\n",
       "      <td>1</td>\n",
       "      <td>-1.0</td>\n",
       "      <td>0</td>\n",
       "      <td>unknown</td>\n",
       "      <td>1</td>\n",
       "    </tr>\n",
       "    <tr>\n",
       "      <th>2</th>\n",
       "      <td>2</td>\n",
       "      <td>NaN</td>\n",
       "      <td>entrepreneur</td>\n",
       "      <td>married</td>\n",
       "      <td>secondary</td>\n",
       "      <td>no</td>\n",
       "      <td>2.0</td>\n",
       "      <td>yes</td>\n",
       "      <td>yes</td>\n",
       "      <td>unknown</td>\n",
       "      <td>5</td>\n",
       "      <td>may</td>\n",
       "      <td>76.0</td>\n",
       "      <td>1</td>\n",
       "      <td>-1.0</td>\n",
       "      <td>0</td>\n",
       "      <td>unknown</td>\n",
       "      <td>1</td>\n",
       "    </tr>\n",
       "    <tr>\n",
       "      <th>3</th>\n",
       "      <td>3</td>\n",
       "      <td>47.0</td>\n",
       "      <td>blue-collar</td>\n",
       "      <td>married</td>\n",
       "      <td>unknown</td>\n",
       "      <td>no</td>\n",
       "      <td>NaN</td>\n",
       "      <td>yes</td>\n",
       "      <td>NaN</td>\n",
       "      <td>unknown</td>\n",
       "      <td>5</td>\n",
       "      <td>may</td>\n",
       "      <td>NaN</td>\n",
       "      <td>1</td>\n",
       "      <td>-1.0</td>\n",
       "      <td>0</td>\n",
       "      <td>unknown</td>\n",
       "      <td>1</td>\n",
       "    </tr>\n",
       "    <tr>\n",
       "      <th>4</th>\n",
       "      <td>4</td>\n",
       "      <td>NaN</td>\n",
       "      <td>unknown</td>\n",
       "      <td>single</td>\n",
       "      <td>unknown</td>\n",
       "      <td>NaN</td>\n",
       "      <td>1.0</td>\n",
       "      <td>no</td>\n",
       "      <td>no</td>\n",
       "      <td>unknown</td>\n",
       "      <td>5</td>\n",
       "      <td>may</td>\n",
       "      <td>NaN</td>\n",
       "      <td>1</td>\n",
       "      <td>-1.0</td>\n",
       "      <td>0</td>\n",
       "      <td>unknown</td>\n",
       "      <td>1</td>\n",
       "    </tr>\n",
       "  </tbody>\n",
       "</table>\n",
       "</div>\n",
       "      <button class=\"colab-df-convert\" onclick=\"convertToInteractive('df-16152655-ef04-44e2-8d72-58723c3b23eb')\"\n",
       "              title=\"Convert this dataframe to an interactive table.\"\n",
       "              style=\"display:none;\">\n",
       "        \n",
       "  <svg xmlns=\"http://www.w3.org/2000/svg\" height=\"24px\"viewBox=\"0 0 24 24\"\n",
       "       width=\"24px\">\n",
       "    <path d=\"M0 0h24v24H0V0z\" fill=\"none\"/>\n",
       "    <path d=\"M18.56 5.44l.94 2.06.94-2.06 2.06-.94-2.06-.94-.94-2.06-.94 2.06-2.06.94zm-11 1L8.5 8.5l.94-2.06 2.06-.94-2.06-.94L8.5 2.5l-.94 2.06-2.06.94zm10 10l.94 2.06.94-2.06 2.06-.94-2.06-.94-.94-2.06-.94 2.06-2.06.94z\"/><path d=\"M17.41 7.96l-1.37-1.37c-.4-.4-.92-.59-1.43-.59-.52 0-1.04.2-1.43.59L10.3 9.45l-7.72 7.72c-.78.78-.78 2.05 0 2.83L4 21.41c.39.39.9.59 1.41.59.51 0 1.02-.2 1.41-.59l7.78-7.78 2.81-2.81c.8-.78.8-2.07 0-2.86zM5.41 20L4 18.59l7.72-7.72 1.47 1.35L5.41 20z\"/>\n",
       "  </svg>\n",
       "      </button>\n",
       "      \n",
       "  <style>\n",
       "    .colab-df-container {\n",
       "      display:flex;\n",
       "      flex-wrap:wrap;\n",
       "      gap: 12px;\n",
       "    }\n",
       "\n",
       "    .colab-df-convert {\n",
       "      background-color: #E8F0FE;\n",
       "      border: none;\n",
       "      border-radius: 50%;\n",
       "      cursor: pointer;\n",
       "      display: none;\n",
       "      fill: #1967D2;\n",
       "      height: 32px;\n",
       "      padding: 0 0 0 0;\n",
       "      width: 32px;\n",
       "    }\n",
       "\n",
       "    .colab-df-convert:hover {\n",
       "      background-color: #E2EBFA;\n",
       "      box-shadow: 0px 1px 2px rgba(60, 64, 67, 0.3), 0px 1px 3px 1px rgba(60, 64, 67, 0.15);\n",
       "      fill: #174EA6;\n",
       "    }\n",
       "\n",
       "    [theme=dark] .colab-df-convert {\n",
       "      background-color: #3B4455;\n",
       "      fill: #D2E3FC;\n",
       "    }\n",
       "\n",
       "    [theme=dark] .colab-df-convert:hover {\n",
       "      background-color: #434B5C;\n",
       "      box-shadow: 0px 1px 3px 1px rgba(0, 0, 0, 0.15);\n",
       "      filter: drop-shadow(0px 1px 2px rgba(0, 0, 0, 0.3));\n",
       "      fill: #FFFFFF;\n",
       "    }\n",
       "  </style>\n",
       "\n",
       "      <script>\n",
       "        const buttonEl =\n",
       "          document.querySelector('#df-16152655-ef04-44e2-8d72-58723c3b23eb button.colab-df-convert');\n",
       "        buttonEl.style.display =\n",
       "          google.colab.kernel.accessAllowed ? 'block' : 'none';\n",
       "\n",
       "        async function convertToInteractive(key) {\n",
       "          const element = document.querySelector('#df-16152655-ef04-44e2-8d72-58723c3b23eb');\n",
       "          const dataTable =\n",
       "            await google.colab.kernel.invokeFunction('convertToInteractive',\n",
       "                                                     [key], {});\n",
       "          if (!dataTable) return;\n",
       "\n",
       "          const docLinkHtml = 'Like what you see? Visit the ' +\n",
       "            '<a target=\"_blank\" href=https://colab.research.google.com/notebooks/data_table.ipynb>data table notebook</a>'\n",
       "            + ' to learn more about interactive tables.';\n",
       "          element.innerHTML = '';\n",
       "          dataTable['output_type'] = 'display_data';\n",
       "          await google.colab.output.renderOutput(dataTable, element);\n",
       "          const docLink = document.createElement('div');\n",
       "          docLink.innerHTML = docLinkHtml;\n",
       "          element.appendChild(docLink);\n",
       "        }\n",
       "      </script>\n",
       "    </div>\n",
       "  </div>\n",
       "  "
      ],
      "text/plain": [
       "   Unnamed: 0   Age           Job Marital Status  Education Credit  \\\n",
       "0           0  58.0    management        married        NaN     no   \n",
       "1           1  44.0    technician         single  secondary     no   \n",
       "2           2   NaN  entrepreneur        married  secondary     no   \n",
       "3           3  47.0   blue-collar        married    unknown     no   \n",
       "4           4   NaN       unknown         single    unknown    NaN   \n",
       "\n",
       "   Balance (euros) Housing Loan Personal Loan  Contact  Last Contact Day  \\\n",
       "0           2143.0          yes            no  unknown                 5   \n",
       "1             29.0          NaN            no  unknown                 5   \n",
       "2              2.0          yes           yes  unknown                 5   \n",
       "3              NaN          yes           NaN  unknown                 5   \n",
       "4              1.0           no            no  unknown                 5   \n",
       "\n",
       "  Last Contact Month  Last Contact Duration  Campaign  Pdays  Previous  \\\n",
       "0                may                  261.0         1   -1.0         0   \n",
       "1                may                    NaN         1   -1.0         0   \n",
       "2                may                   76.0         1   -1.0         0   \n",
       "3                may                    NaN         1   -1.0         0   \n",
       "4                may                    NaN         1   -1.0         0   \n",
       "\n",
       "  Poutcome  Subscription  \n",
       "0  unknown             1  \n",
       "1  unknown             1  \n",
       "2  unknown             1  \n",
       "3  unknown             1  \n",
       "4  unknown             1  "
      ]
     },
     "execution_count": 6,
     "metadata": {},
     "output_type": "execute_result"
    }
   ],
   "source": [
    "## Importamos el dataset bajo el nombre \"bank_ds\".\n",
    "bank_ds = pd.read_csv(root_path + 'bank_subscription.csv')\n",
    "\n",
    "## Corroboramos haberlo cargado correctamente.\n",
    "bank_ds.head()"
   ]
  },
  {
   "cell_type": "markdown",
   "metadata": {
    "id": "v7h4SOeAkuX4"
   },
   "source": [
    "## **EDA**\n",
    "Análisis exploratorio sobre de el dataset."
   ]
  },
  {
   "cell_type": "code",
   "execution_count": null,
   "metadata": {
    "colab": {
     "base_uri": "https://localhost:8080/"
    },
    "executionInfo": {
     "elapsed": 10,
     "status": "ok",
     "timestamp": 1669298178326,
     "user": {
      "displayName": "MARTÍN NICOLAS AISCAR",
      "userId": "18143931623073660355"
     },
     "user_tz": 180
    },
    "id": "yrzugvtutpaQ",
    "outputId": "ba177c68-1b0c-47ec-cdee-9d38291dfe42"
   },
   "outputs": [
    {
     "name": "stdout",
     "output_type": "stream",
     "text": [
      "Dimensiones del dataset: (45211, 18)\n"
     ]
    }
   ],
   "source": [
    "## Imprimimos las dimensiones del dataset.\n",
    "print(f'Dimensiones del dataset: {bank_ds.shape}')"
   ]
  },
  {
   "cell_type": "code",
   "execution_count": null,
   "metadata": {
    "colab": {
     "base_uri": "https://localhost:8080/"
    },
    "executionInfo": {
     "elapsed": 508,
     "status": "ok",
     "timestamp": 1669298178825,
     "user": {
      "displayName": "MARTÍN NICOLAS AISCAR",
      "userId": "18143931623073660355"
     },
     "user_tz": 180
    },
    "id": "uVQqrakXIrN0",
    "outputId": "c9b575fc-2ee5-424d-8a3e-5d39d63ea495"
   },
   "outputs": [
    {
     "name": "stdout",
     "output_type": "stream",
     "text": [
      "<class 'pandas.core.frame.DataFrame'>\n",
      "RangeIndex: 45211 entries, 0 to 45210\n",
      "Data columns (total 18 columns):\n",
      " #   Column                 Non-Null Count  Dtype  \n",
      "---  ------                 --------------  -----  \n",
      " 0   Unnamed: 0             45211 non-null  int64  \n",
      " 1   Age                    40238 non-null  float64\n",
      " 2   Job                    40238 non-null  object \n",
      " 3   Marital Status         40238 non-null  object \n",
      " 4   Education              40238 non-null  object \n",
      " 5   Credit                 40238 non-null  object \n",
      " 6   Balance (euros)        40238 non-null  float64\n",
      " 7   Housing Loan           37525 non-null  object \n",
      " 8   Personal Loan          37525 non-null  object \n",
      " 9   Contact                45211 non-null  object \n",
      " 10  Last Contact Day       45211 non-null  int64  \n",
      " 11  Last Contact Month     45211 non-null  object \n",
      " 12  Last Contact Duration  37525 non-null  float64\n",
      " 13  Campaign               45211 non-null  int64  \n",
      " 14  Pdays                  37525 non-null  float64\n",
      " 15  Previous               45211 non-null  int64  \n",
      " 16  Poutcome               45211 non-null  object \n",
      " 17  Subscription           45211 non-null  int64  \n",
      "dtypes: float64(4), int64(5), object(9)\n",
      "memory usage: 6.2+ MB\n"
     ]
    }
   ],
   "source": [
    "## Imprimimos los nombres de cada columna, el tipo de dato que contiene cada una de ellas y la cantidad de valores no nulos presentes.\n",
    "bank_ds.info()"
   ]
  },
  {
   "cell_type": "code",
   "execution_count": null,
   "metadata": {
    "id": "PsxDh5tF1Gau"
   },
   "outputs": [],
   "source": [
    "## Eliminamos la variable \"Unnamed: 0\" del dataset ya que no nos sirve para realizar machine learning y volvemos a guardar el dataset sin dicha variable bajo el nombre \"bank_ds\".\n",
    "bank_ds = bank_ds.drop(columns=['Unnamed: 0'])"
   ]
  },
  {
   "cell_type": "code",
   "execution_count": null,
   "metadata": {
    "colab": {
     "base_uri": "https://localhost:8080/",
     "height": 520
    },
    "executionInfo": {
     "elapsed": 88,
     "status": "ok",
     "timestamp": 1669298178826,
     "user": {
      "displayName": "MARTÍN NICOLAS AISCAR",
      "userId": "18143931623073660355"
     },
     "user_tz": 180
    },
    "id": "STbdMZi91Whd",
    "outputId": "241a96e9-1c0f-4a26-ed00-bc23ffa84388"
   },
   "outputs": [
    {
     "data": {
      "text/html": [
       "\n",
       "  <div id=\"df-eb11b540-e634-4baa-ae39-2862987d521a\">\n",
       "    <div class=\"colab-df-container\">\n",
       "      <div>\n",
       "<style scoped>\n",
       "    .dataframe tbody tr th:only-of-type {\n",
       "        vertical-align: middle;\n",
       "    }\n",
       "\n",
       "    .dataframe tbody tr th {\n",
       "        vertical-align: top;\n",
       "    }\n",
       "\n",
       "    .dataframe thead th {\n",
       "        text-align: right;\n",
       "    }\n",
       "</style>\n",
       "<table border=\"1\" class=\"dataframe\">\n",
       "  <thead>\n",
       "    <tr style=\"text-align: right;\">\n",
       "      <th></th>\n",
       "      <th>Age</th>\n",
       "      <th>Job</th>\n",
       "      <th>Marital Status</th>\n",
       "      <th>Education</th>\n",
       "      <th>Credit</th>\n",
       "      <th>Balance (euros)</th>\n",
       "      <th>Housing Loan</th>\n",
       "      <th>Personal Loan</th>\n",
       "      <th>Contact</th>\n",
       "      <th>Last Contact Day</th>\n",
       "      <th>Last Contact Month</th>\n",
       "      <th>Last Contact Duration</th>\n",
       "      <th>Campaign</th>\n",
       "      <th>Pdays</th>\n",
       "      <th>Previous</th>\n",
       "      <th>Poutcome</th>\n",
       "      <th>Subscription</th>\n",
       "    </tr>\n",
       "  </thead>\n",
       "  <tbody>\n",
       "    <tr>\n",
       "      <th>0</th>\n",
       "      <td>58.0</td>\n",
       "      <td>management</td>\n",
       "      <td>married</td>\n",
       "      <td>NaN</td>\n",
       "      <td>no</td>\n",
       "      <td>2143.0</td>\n",
       "      <td>yes</td>\n",
       "      <td>no</td>\n",
       "      <td>unknown</td>\n",
       "      <td>5</td>\n",
       "      <td>may</td>\n",
       "      <td>261.0</td>\n",
       "      <td>1</td>\n",
       "      <td>-1.0</td>\n",
       "      <td>0</td>\n",
       "      <td>unknown</td>\n",
       "      <td>1</td>\n",
       "    </tr>\n",
       "    <tr>\n",
       "      <th>1</th>\n",
       "      <td>44.0</td>\n",
       "      <td>technician</td>\n",
       "      <td>single</td>\n",
       "      <td>secondary</td>\n",
       "      <td>no</td>\n",
       "      <td>29.0</td>\n",
       "      <td>NaN</td>\n",
       "      <td>no</td>\n",
       "      <td>unknown</td>\n",
       "      <td>5</td>\n",
       "      <td>may</td>\n",
       "      <td>NaN</td>\n",
       "      <td>1</td>\n",
       "      <td>-1.0</td>\n",
       "      <td>0</td>\n",
       "      <td>unknown</td>\n",
       "      <td>1</td>\n",
       "    </tr>\n",
       "    <tr>\n",
       "      <th>2</th>\n",
       "      <td>NaN</td>\n",
       "      <td>entrepreneur</td>\n",
       "      <td>married</td>\n",
       "      <td>secondary</td>\n",
       "      <td>no</td>\n",
       "      <td>2.0</td>\n",
       "      <td>yes</td>\n",
       "      <td>yes</td>\n",
       "      <td>unknown</td>\n",
       "      <td>5</td>\n",
       "      <td>may</td>\n",
       "      <td>76.0</td>\n",
       "      <td>1</td>\n",
       "      <td>-1.0</td>\n",
       "      <td>0</td>\n",
       "      <td>unknown</td>\n",
       "      <td>1</td>\n",
       "    </tr>\n",
       "    <tr>\n",
       "      <th>3</th>\n",
       "      <td>47.0</td>\n",
       "      <td>blue-collar</td>\n",
       "      <td>married</td>\n",
       "      <td>unknown</td>\n",
       "      <td>no</td>\n",
       "      <td>NaN</td>\n",
       "      <td>yes</td>\n",
       "      <td>NaN</td>\n",
       "      <td>unknown</td>\n",
       "      <td>5</td>\n",
       "      <td>may</td>\n",
       "      <td>NaN</td>\n",
       "      <td>1</td>\n",
       "      <td>-1.0</td>\n",
       "      <td>0</td>\n",
       "      <td>unknown</td>\n",
       "      <td>1</td>\n",
       "    </tr>\n",
       "    <tr>\n",
       "      <th>4</th>\n",
       "      <td>NaN</td>\n",
       "      <td>unknown</td>\n",
       "      <td>single</td>\n",
       "      <td>unknown</td>\n",
       "      <td>NaN</td>\n",
       "      <td>1.0</td>\n",
       "      <td>no</td>\n",
       "      <td>no</td>\n",
       "      <td>unknown</td>\n",
       "      <td>5</td>\n",
       "      <td>may</td>\n",
       "      <td>NaN</td>\n",
       "      <td>1</td>\n",
       "      <td>-1.0</td>\n",
       "      <td>0</td>\n",
       "      <td>unknown</td>\n",
       "      <td>1</td>\n",
       "    </tr>\n",
       "    <tr>\n",
       "      <th>5</th>\n",
       "      <td>35.0</td>\n",
       "      <td>NaN</td>\n",
       "      <td>married</td>\n",
       "      <td>tertiary</td>\n",
       "      <td>no</td>\n",
       "      <td>231.0</td>\n",
       "      <td>yes</td>\n",
       "      <td>no</td>\n",
       "      <td>unknown</td>\n",
       "      <td>5</td>\n",
       "      <td>may</td>\n",
       "      <td>139.0</td>\n",
       "      <td>1</td>\n",
       "      <td>-1.0</td>\n",
       "      <td>0</td>\n",
       "      <td>unknown</td>\n",
       "      <td>1</td>\n",
       "    </tr>\n",
       "    <tr>\n",
       "      <th>6</th>\n",
       "      <td>28.0</td>\n",
       "      <td>management</td>\n",
       "      <td>single</td>\n",
       "      <td>tertiary</td>\n",
       "      <td>no</td>\n",
       "      <td>447.0</td>\n",
       "      <td>yes</td>\n",
       "      <td>yes</td>\n",
       "      <td>unknown</td>\n",
       "      <td>5</td>\n",
       "      <td>may</td>\n",
       "      <td>217.0</td>\n",
       "      <td>1</td>\n",
       "      <td>NaN</td>\n",
       "      <td>0</td>\n",
       "      <td>unknown</td>\n",
       "      <td>1</td>\n",
       "    </tr>\n",
       "    <tr>\n",
       "      <th>7</th>\n",
       "      <td>42.0</td>\n",
       "      <td>entrepreneur</td>\n",
       "      <td>divorced</td>\n",
       "      <td>tertiary</td>\n",
       "      <td>NaN</td>\n",
       "      <td>2.0</td>\n",
       "      <td>NaN</td>\n",
       "      <td>no</td>\n",
       "      <td>unknown</td>\n",
       "      <td>5</td>\n",
       "      <td>may</td>\n",
       "      <td>NaN</td>\n",
       "      <td>1</td>\n",
       "      <td>-1.0</td>\n",
       "      <td>0</td>\n",
       "      <td>unknown</td>\n",
       "      <td>1</td>\n",
       "    </tr>\n",
       "    <tr>\n",
       "      <th>8</th>\n",
       "      <td>58.0</td>\n",
       "      <td>retired</td>\n",
       "      <td>married</td>\n",
       "      <td>primary</td>\n",
       "      <td>no</td>\n",
       "      <td>121.0</td>\n",
       "      <td>yes</td>\n",
       "      <td>no</td>\n",
       "      <td>unknown</td>\n",
       "      <td>5</td>\n",
       "      <td>may</td>\n",
       "      <td>50.0</td>\n",
       "      <td>1</td>\n",
       "      <td>NaN</td>\n",
       "      <td>0</td>\n",
       "      <td>unknown</td>\n",
       "      <td>1</td>\n",
       "    </tr>\n",
       "    <tr>\n",
       "      <th>9</th>\n",
       "      <td>43.0</td>\n",
       "      <td>technician</td>\n",
       "      <td>single</td>\n",
       "      <td>secondary</td>\n",
       "      <td>no</td>\n",
       "      <td>593.0</td>\n",
       "      <td>yes</td>\n",
       "      <td>no</td>\n",
       "      <td>unknown</td>\n",
       "      <td>5</td>\n",
       "      <td>may</td>\n",
       "      <td>NaN</td>\n",
       "      <td>1</td>\n",
       "      <td>-1.0</td>\n",
       "      <td>0</td>\n",
       "      <td>unknown</td>\n",
       "      <td>1</td>\n",
       "    </tr>\n",
       "    <tr>\n",
       "      <th>10</th>\n",
       "      <td>41.0</td>\n",
       "      <td>admin.</td>\n",
       "      <td>NaN</td>\n",
       "      <td>secondary</td>\n",
       "      <td>no</td>\n",
       "      <td>270.0</td>\n",
       "      <td>yes</td>\n",
       "      <td>NaN</td>\n",
       "      <td>unknown</td>\n",
       "      <td>5</td>\n",
       "      <td>may</td>\n",
       "      <td>222.0</td>\n",
       "      <td>1</td>\n",
       "      <td>-1.0</td>\n",
       "      <td>0</td>\n",
       "      <td>unknown</td>\n",
       "      <td>1</td>\n",
       "    </tr>\n",
       "    <tr>\n",
       "      <th>11</th>\n",
       "      <td>29.0</td>\n",
       "      <td>admin.</td>\n",
       "      <td>single</td>\n",
       "      <td>secondary</td>\n",
       "      <td>no</td>\n",
       "      <td>390.0</td>\n",
       "      <td>yes</td>\n",
       "      <td>no</td>\n",
       "      <td>unknown</td>\n",
       "      <td>5</td>\n",
       "      <td>may</td>\n",
       "      <td>137.0</td>\n",
       "      <td>1</td>\n",
       "      <td>-1.0</td>\n",
       "      <td>0</td>\n",
       "      <td>unknown</td>\n",
       "      <td>1</td>\n",
       "    </tr>\n",
       "    <tr>\n",
       "      <th>12</th>\n",
       "      <td>53.0</td>\n",
       "      <td>technician</td>\n",
       "      <td>NaN</td>\n",
       "      <td>NaN</td>\n",
       "      <td>no</td>\n",
       "      <td>6.0</td>\n",
       "      <td>yes</td>\n",
       "      <td>NaN</td>\n",
       "      <td>unknown</td>\n",
       "      <td>5</td>\n",
       "      <td>may</td>\n",
       "      <td>517.0</td>\n",
       "      <td>1</td>\n",
       "      <td>-1.0</td>\n",
       "      <td>0</td>\n",
       "      <td>unknown</td>\n",
       "      <td>1</td>\n",
       "    </tr>\n",
       "    <tr>\n",
       "      <th>13</th>\n",
       "      <td>58.0</td>\n",
       "      <td>technician</td>\n",
       "      <td>married</td>\n",
       "      <td>unknown</td>\n",
       "      <td>no</td>\n",
       "      <td>71.0</td>\n",
       "      <td>yes</td>\n",
       "      <td>no</td>\n",
       "      <td>unknown</td>\n",
       "      <td>5</td>\n",
       "      <td>may</td>\n",
       "      <td>71.0</td>\n",
       "      <td>1</td>\n",
       "      <td>NaN</td>\n",
       "      <td>0</td>\n",
       "      <td>unknown</td>\n",
       "      <td>1</td>\n",
       "    </tr>\n",
       "    <tr>\n",
       "      <th>14</th>\n",
       "      <td>57.0</td>\n",
       "      <td>services</td>\n",
       "      <td>married</td>\n",
       "      <td>secondary</td>\n",
       "      <td>no</td>\n",
       "      <td>162.0</td>\n",
       "      <td>yes</td>\n",
       "      <td>no</td>\n",
       "      <td>unknown</td>\n",
       "      <td>5</td>\n",
       "      <td>may</td>\n",
       "      <td>174.0</td>\n",
       "      <td>1</td>\n",
       "      <td>NaN</td>\n",
       "      <td>0</td>\n",
       "      <td>unknown</td>\n",
       "      <td>1</td>\n",
       "    </tr>\n",
       "  </tbody>\n",
       "</table>\n",
       "</div>\n",
       "      <button class=\"colab-df-convert\" onclick=\"convertToInteractive('df-eb11b540-e634-4baa-ae39-2862987d521a')\"\n",
       "              title=\"Convert this dataframe to an interactive table.\"\n",
       "              style=\"display:none;\">\n",
       "        \n",
       "  <svg xmlns=\"http://www.w3.org/2000/svg\" height=\"24px\"viewBox=\"0 0 24 24\"\n",
       "       width=\"24px\">\n",
       "    <path d=\"M0 0h24v24H0V0z\" fill=\"none\"/>\n",
       "    <path d=\"M18.56 5.44l.94 2.06.94-2.06 2.06-.94-2.06-.94-.94-2.06-.94 2.06-2.06.94zm-11 1L8.5 8.5l.94-2.06 2.06-.94-2.06-.94L8.5 2.5l-.94 2.06-2.06.94zm10 10l.94 2.06.94-2.06 2.06-.94-2.06-.94-.94-2.06-.94 2.06-2.06.94z\"/><path d=\"M17.41 7.96l-1.37-1.37c-.4-.4-.92-.59-1.43-.59-.52 0-1.04.2-1.43.59L10.3 9.45l-7.72 7.72c-.78.78-.78 2.05 0 2.83L4 21.41c.39.39.9.59 1.41.59.51 0 1.02-.2 1.41-.59l7.78-7.78 2.81-2.81c.8-.78.8-2.07 0-2.86zM5.41 20L4 18.59l7.72-7.72 1.47 1.35L5.41 20z\"/>\n",
       "  </svg>\n",
       "      </button>\n",
       "      \n",
       "  <style>\n",
       "    .colab-df-container {\n",
       "      display:flex;\n",
       "      flex-wrap:wrap;\n",
       "      gap: 12px;\n",
       "    }\n",
       "\n",
       "    .colab-df-convert {\n",
       "      background-color: #E8F0FE;\n",
       "      border: none;\n",
       "      border-radius: 50%;\n",
       "      cursor: pointer;\n",
       "      display: none;\n",
       "      fill: #1967D2;\n",
       "      height: 32px;\n",
       "      padding: 0 0 0 0;\n",
       "      width: 32px;\n",
       "    }\n",
       "\n",
       "    .colab-df-convert:hover {\n",
       "      background-color: #E2EBFA;\n",
       "      box-shadow: 0px 1px 2px rgba(60, 64, 67, 0.3), 0px 1px 3px 1px rgba(60, 64, 67, 0.15);\n",
       "      fill: #174EA6;\n",
       "    }\n",
       "\n",
       "    [theme=dark] .colab-df-convert {\n",
       "      background-color: #3B4455;\n",
       "      fill: #D2E3FC;\n",
       "    }\n",
       "\n",
       "    [theme=dark] .colab-df-convert:hover {\n",
       "      background-color: #434B5C;\n",
       "      box-shadow: 0px 1px 3px 1px rgba(0, 0, 0, 0.15);\n",
       "      filter: drop-shadow(0px 1px 2px rgba(0, 0, 0, 0.3));\n",
       "      fill: #FFFFFF;\n",
       "    }\n",
       "  </style>\n",
       "\n",
       "      <script>\n",
       "        const buttonEl =\n",
       "          document.querySelector('#df-eb11b540-e634-4baa-ae39-2862987d521a button.colab-df-convert');\n",
       "        buttonEl.style.display =\n",
       "          google.colab.kernel.accessAllowed ? 'block' : 'none';\n",
       "\n",
       "        async function convertToInteractive(key) {\n",
       "          const element = document.querySelector('#df-eb11b540-e634-4baa-ae39-2862987d521a');\n",
       "          const dataTable =\n",
       "            await google.colab.kernel.invokeFunction('convertToInteractive',\n",
       "                                                     [key], {});\n",
       "          if (!dataTable) return;\n",
       "\n",
       "          const docLinkHtml = 'Like what you see? Visit the ' +\n",
       "            '<a target=\"_blank\" href=https://colab.research.google.com/notebooks/data_table.ipynb>data table notebook</a>'\n",
       "            + ' to learn more about interactive tables.';\n",
       "          element.innerHTML = '';\n",
       "          dataTable['output_type'] = 'display_data';\n",
       "          await google.colab.output.renderOutput(dataTable, element);\n",
       "          const docLink = document.createElement('div');\n",
       "          docLink.innerHTML = docLinkHtml;\n",
       "          element.appendChild(docLink);\n",
       "        }\n",
       "      </script>\n",
       "    </div>\n",
       "  </div>\n",
       "  "
      ],
      "text/plain": [
       "     Age           Job Marital Status  Education Credit  Balance (euros)  \\\n",
       "0   58.0    management        married        NaN     no           2143.0   \n",
       "1   44.0    technician         single  secondary     no             29.0   \n",
       "2    NaN  entrepreneur        married  secondary     no              2.0   \n",
       "3   47.0   blue-collar        married    unknown     no              NaN   \n",
       "4    NaN       unknown         single    unknown    NaN              1.0   \n",
       "5   35.0           NaN        married   tertiary     no            231.0   \n",
       "6   28.0    management         single   tertiary     no            447.0   \n",
       "7   42.0  entrepreneur       divorced   tertiary    NaN              2.0   \n",
       "8   58.0       retired        married    primary     no            121.0   \n",
       "9   43.0    technician         single  secondary     no            593.0   \n",
       "10  41.0        admin.            NaN  secondary     no            270.0   \n",
       "11  29.0        admin.         single  secondary     no            390.0   \n",
       "12  53.0    technician            NaN        NaN     no              6.0   \n",
       "13  58.0    technician        married    unknown     no             71.0   \n",
       "14  57.0      services        married  secondary     no            162.0   \n",
       "\n",
       "   Housing Loan Personal Loan  Contact  Last Contact Day Last Contact Month  \\\n",
       "0           yes            no  unknown                 5                may   \n",
       "1           NaN            no  unknown                 5                may   \n",
       "2           yes           yes  unknown                 5                may   \n",
       "3           yes           NaN  unknown                 5                may   \n",
       "4            no            no  unknown                 5                may   \n",
       "5           yes            no  unknown                 5                may   \n",
       "6           yes           yes  unknown                 5                may   \n",
       "7           NaN            no  unknown                 5                may   \n",
       "8           yes            no  unknown                 5                may   \n",
       "9           yes            no  unknown                 5                may   \n",
       "10          yes           NaN  unknown                 5                may   \n",
       "11          yes            no  unknown                 5                may   \n",
       "12          yes           NaN  unknown                 5                may   \n",
       "13          yes            no  unknown                 5                may   \n",
       "14          yes            no  unknown                 5                may   \n",
       "\n",
       "    Last Contact Duration  Campaign  Pdays  Previous Poutcome  Subscription  \n",
       "0                   261.0         1   -1.0         0  unknown             1  \n",
       "1                     NaN         1   -1.0         0  unknown             1  \n",
       "2                    76.0         1   -1.0         0  unknown             1  \n",
       "3                     NaN         1   -1.0         0  unknown             1  \n",
       "4                     NaN         1   -1.0         0  unknown             1  \n",
       "5                   139.0         1   -1.0         0  unknown             1  \n",
       "6                   217.0         1    NaN         0  unknown             1  \n",
       "7                     NaN         1   -1.0         0  unknown             1  \n",
       "8                    50.0         1    NaN         0  unknown             1  \n",
       "9                     NaN         1   -1.0         0  unknown             1  \n",
       "10                  222.0         1   -1.0         0  unknown             1  \n",
       "11                  137.0         1   -1.0         0  unknown             1  \n",
       "12                  517.0         1   -1.0         0  unknown             1  \n",
       "13                   71.0         1    NaN         0  unknown             1  \n",
       "14                  174.0         1    NaN         0  unknown             1  "
      ]
     },
     "execution_count": 10,
     "metadata": {},
     "output_type": "execute_result"
    }
   ],
   "source": [
    "## Imprimimos el head del dataset para verificar la eliminición.\n",
    "bank_ds.head(15)"
   ]
  },
  {
   "cell_type": "code",
   "execution_count": null,
   "metadata": {
    "colab": {
     "base_uri": "https://localhost:8080/"
    },
    "executionInfo": {
     "elapsed": 86,
     "status": "ok",
     "timestamp": 1669298178827,
     "user": {
      "displayName": "MARTÍN NICOLAS AISCAR",
      "userId": "18143931623073660355"
     },
     "user_tz": 180
    },
    "id": "kJ4u1BdnSREZ",
    "outputId": "4e5c0447-60cc-4f2d-b417-2765f50e6b6e"
   },
   "outputs": [
    {
     "data": {
      "text/plain": [
       "Age                          0\n",
       "Job                        254\n",
       "Marital Status               0\n",
       "Education                 1667\n",
       "Credit                       0\n",
       "Balance (euros)              0\n",
       "Housing Loan                 0\n",
       "Personal Loan                0\n",
       "Contact                  13020\n",
       "Last Contact Day             0\n",
       "Last Contact Month           0\n",
       "Last Contact Duration        0\n",
       "Campaign                     0\n",
       "Pdays                        0\n",
       "Previous                     0\n",
       "Poutcome                 36959\n",
       "Subscription                 0\n",
       "dtype: int64"
      ]
     },
     "execution_count": 11,
     "metadata": {},
     "output_type": "execute_result"
    }
   ],
   "source": [
    "## Calculamos la cantidad de 'unknown' por columna.\n",
    "bank_ds[bank_ds == 'unknown'].count()"
   ]
  },
  {
   "cell_type": "code",
   "execution_count": null,
   "metadata": {
    "colab": {
     "base_uri": "https://localhost:8080/"
    },
    "executionInfo": {
     "elapsed": 77,
     "status": "ok",
     "timestamp": 1669298178827,
     "user": {
      "displayName": "MARTÍN NICOLAS AISCAR",
      "userId": "18143931623073660355"
     },
     "user_tz": 180
    },
    "id": "pdYQqgj8xYFZ",
    "outputId": "866b7287-ea2d-4717-ea1d-9e684ffd18c8"
   },
   "outputs": [
    {
     "data": {
      "text/plain": [
       "cellular     0.647741\n",
       "unknown      0.287983\n",
       "telephone    0.064276\n",
       "Name: Contact, dtype: float64"
      ]
     },
     "execution_count": 12,
     "metadata": {},
     "output_type": "execute_result"
    }
   ],
   "source": [
    "## Mostramos como se distribuye la variable \"Contact\".\n",
    "bank_ds['Contact'].value_counts(normalize=True)"
   ]
  },
  {
   "cell_type": "code",
   "execution_count": null,
   "metadata": {
    "colab": {
     "base_uri": "https://localhost:8080/"
    },
    "executionInfo": {
     "elapsed": 71,
     "status": "ok",
     "timestamp": 1669298178828,
     "user": {
      "displayName": "MARTÍN NICOLAS AISCAR",
      "userId": "18143931623073660355"
     },
     "user_tz": 180
    },
    "id": "O5Hst8DKzagY",
    "outputId": "2441b7f7-8d03-4b3c-9867-a50835a21a51"
   },
   "outputs": [
    {
     "data": {
      "text/plain": [
       "unknown    0.817478\n",
       "failure    0.108403\n",
       "other      0.040698\n",
       "success    0.033421\n",
       "Name: Poutcome, dtype: float64"
      ]
     },
     "execution_count": 13,
     "metadata": {},
     "output_type": "execute_result"
    }
   ],
   "source": [
    "## Mostramos como se distribuye la variable \"Poutcome\".\n",
    "bank_ds['Poutcome'].value_counts(normalize=True)"
   ]
  },
  {
   "cell_type": "code",
   "execution_count": null,
   "metadata": {
    "id": "y3Qvjem6Sn4x"
   },
   "outputs": [],
   "source": [
    "## Eliminamos las features 'Contact' y 'Poutcome' ya que tienen mucha información faltante.\n",
    "bank_ds = bank_ds.drop(['Contact','Poutcome'], axis=1)"
   ]
  },
  {
   "cell_type": "code",
   "execution_count": null,
   "metadata": {
    "colab": {
     "base_uri": "https://localhost:8080/"
    },
    "executionInfo": {
     "elapsed": 65,
     "status": "ok",
     "timestamp": 1669298178830,
     "user": {
      "displayName": "MARTÍN NICOLAS AISCAR",
      "userId": "18143931623073660355"
     },
     "user_tz": 180
    },
    "id": "-PsH84ckTDDP",
    "outputId": "ee40db9e-ecdf-42a5-e866-4614e8ff632e"
   },
   "outputs": [
    {
     "data": {
      "text/plain": [
       "(45211, 15)"
      ]
     },
     "execution_count": 15,
     "metadata": {},
     "output_type": "execute_result"
    }
   ],
   "source": [
    "## Imprimimos las nuevas dimensiones del dataset.\n",
    "bank_ds.shape"
   ]
  },
  {
   "cell_type": "code",
   "execution_count": null,
   "metadata": {
    "id": "sgy9sPDS3R4P"
   },
   "outputs": [],
   "source": [
    "## Eliminamos los registros que contengan NaNs.\n",
    "bank_ds.dropna(how ='any', inplace = True)"
   ]
  },
  {
   "cell_type": "code",
   "execution_count": null,
   "metadata": {
    "colab": {
     "base_uri": "https://localhost:8080/"
    },
    "executionInfo": {
     "elapsed": 59,
     "status": "ok",
     "timestamp": 1669298178831,
     "user": {
      "displayName": "MARTÍN NICOLAS AISCAR",
      "userId": "18143931623073660355"
     },
     "user_tz": 180
    },
    "id": "6enpc8n39A9U",
    "outputId": "6656cbd3-75e3-4ba1-ec81-8169c74bfab0"
   },
   "outputs": [
    {
     "data": {
      "text/plain": [
       "Age                      0\n",
       "Job                      0\n",
       "Marital Status           0\n",
       "Education                0\n",
       "Credit                   0\n",
       "Balance (euros)          0\n",
       "Housing Loan             0\n",
       "Personal Loan            0\n",
       "Last Contact Day         0\n",
       "Last Contact Month       0\n",
       "Last Contact Duration    0\n",
       "Campaign                 0\n",
       "Pdays                    0\n",
       "Previous                 0\n",
       "Subscription             0\n",
       "dtype: int64"
      ]
     },
     "execution_count": 17,
     "metadata": {},
     "output_type": "execute_result"
    }
   ],
   "source": [
    "## Verificamos haber eliminado los registros con NaNs.\n",
    "bank_ds.isnull().sum(axis = 0)"
   ]
  },
  {
   "cell_type": "code",
   "execution_count": null,
   "metadata": {
    "colab": {
     "base_uri": "https://localhost:8080/"
    },
    "executionInfo": {
     "elapsed": 55,
     "status": "ok",
     "timestamp": 1669298178832,
     "user": {
      "displayName": "MARTÍN NICOLAS AISCAR",
      "userId": "18143931623073660355"
     },
     "user_tz": 180
    },
    "id": "W9urXu-jTptp",
    "outputId": "6ec703ff-b3eb-41c6-b468-7696897a0286"
   },
   "outputs": [
    {
     "data": {
      "text/plain": [
       "Age                        0\n",
       "Job                       60\n",
       "Marital Status             0\n",
       "Education                470\n",
       "Credit                     0\n",
       "Balance (euros)            0\n",
       "Housing Loan               0\n",
       "Personal Loan              0\n",
       "Last Contact Day           0\n",
       "Last Contact Month         0\n",
       "Last Contact Duration      0\n",
       "Campaign                   0\n",
       "Pdays                      0\n",
       "Previous                   0\n",
       "Subscription               0\n",
       "dtype: int64"
      ]
     },
     "execution_count": 18,
     "metadata": {},
     "output_type": "execute_result"
    }
   ],
   "source": [
    "## Calculamos cuantos registros con 'unknown' tenemos ahora.\n",
    "bank_ds[bank_ds == 'unknown'].count()"
   ]
  },
  {
   "cell_type": "code",
   "execution_count": null,
   "metadata": {
    "id": "gtN1HiAlVJ5e"
   },
   "outputs": [],
   "source": [
    "## Eliminamos los registros que tenían 'unknown' en la feature 'Education' y luego los que lo tenían en la feature 'Job'.\n",
    "bank_ds = bank_ds[~bank_ds['Education'].str.contains('unknown')]\n",
    "bank_ds = bank_ds[~bank_ds['Job'].str.contains('unknown')]"
   ]
  },
  {
   "cell_type": "code",
   "execution_count": null,
   "metadata": {
    "colab": {
     "base_uri": "https://localhost:8080/"
    },
    "executionInfo": {
     "elapsed": 46,
     "status": "ok",
     "timestamp": 1669298178833,
     "user": {
      "displayName": "MARTÍN NICOLAS AISCAR",
      "userId": "18143931623073660355"
     },
     "user_tz": 180
    },
    "id": "r-8H7HrIEo3g",
    "outputId": "c84fc490-c53f-430f-a149-7494e8cd73da"
   },
   "outputs": [
    {
     "name": "stdout",
     "output_type": "stream",
     "text": [
      "Dimensiones del dataset: (10243, 15)\n"
     ]
    }
   ],
   "source": [
    "## Imprimimos las nuevas dimensiones del dataset.\n",
    "print(f'Dimensiones del dataset: {bank_ds.shape}')"
   ]
  },
  {
   "cell_type": "code",
   "execution_count": null,
   "metadata": {
    "colab": {
     "base_uri": "https://localhost:8080/"
    },
    "executionInfo": {
     "elapsed": 43,
     "status": "ok",
     "timestamp": 1669298178834,
     "user": {
      "displayName": "MARTÍN NICOLAS AISCAR",
      "userId": "18143931623073660355"
     },
     "user_tz": 180
    },
    "id": "EHpQ8uxbWsGK",
    "outputId": "92cfd6e3-5a8f-4d1e-fcb3-7bbb0e9cda44"
   },
   "outputs": [
    {
     "data": {
      "text/plain": [
       "Age                      0\n",
       "Job                      0\n",
       "Marital Status           0\n",
       "Education                0\n",
       "Credit                   0\n",
       "Balance (euros)          0\n",
       "Housing Loan             0\n",
       "Personal Loan            0\n",
       "Last Contact Day         0\n",
       "Last Contact Month       0\n",
       "Last Contact Duration    0\n",
       "Campaign                 0\n",
       "Pdays                    0\n",
       "Previous                 0\n",
       "Subscription             0\n",
       "dtype: int64"
      ]
     },
     "execution_count": 21,
     "metadata": {},
     "output_type": "execute_result"
    }
   ],
   "source": [
    "## Verificamos haber eliminado los registros con 'unknown'.\n",
    "bank_ds[bank_ds == 'unknown'].count()"
   ]
  },
  {
   "cell_type": "code",
   "execution_count": null,
   "metadata": {
    "colab": {
     "base_uri": "https://localhost:8080/"
    },
    "executionInfo": {
     "elapsed": 40,
     "status": "ok",
     "timestamp": 1669298178835,
     "user": {
      "displayName": "MARTÍN NICOLAS AISCAR",
      "userId": "18143931623073660355"
     },
     "user_tz": 180
    },
    "id": "mQViqbcuF8I1",
    "outputId": "2dbaf593-bae6-44d4-8a04-c1a7c96e7b99"
   },
   "outputs": [
    {
     "data": {
      "text/plain": [
       "682.8"
      ]
     },
     "execution_count": 22,
     "metadata": {},
     "output_type": "execute_result"
    }
   ],
   "source": [
    "## Calculamos el Sample to Feature Ratio (S2FR) y lo imprimimos.\n",
    "S2FR = (bank_ds.shape[0]-1) / bank_ds.shape[1]\n",
    "S2FR"
   ]
  },
  {
   "cell_type": "code",
   "execution_count": null,
   "metadata": {
    "id": "SLLFK4E3YYXv"
   },
   "outputs": [],
   "source": [
    "## Transformamos la feature 'Last Contact Month' de manera tal que sea numérica.\n",
    "bank_ds['Last Contact Month'] = pd.to_datetime(bank_ds['Last Contact Month'], format='%b').dt.month"
   ]
  },
  {
   "cell_type": "code",
   "execution_count": null,
   "metadata": {
    "colab": {
     "base_uri": "https://localhost:8080/"
    },
    "executionInfo": {
     "elapsed": 36,
     "status": "ok",
     "timestamp": 1669298178837,
     "user": {
      "displayName": "MARTÍN NICOLAS AISCAR",
      "userId": "18143931623073660355"
     },
     "user_tz": 180
    },
    "id": "A2nbe2iDZa5B",
    "outputId": "d139e0b1-e752-4960-8417-1b04a991cb8b"
   },
   "outputs": [
    {
     "data": {
      "text/plain": [
       "5     3047\n",
       "7     1612\n",
       "8     1471\n",
       "6     1161\n",
       "11     916\n",
       "4      669\n",
       "2      598\n",
       "1      310\n",
       "10     179\n",
       "9      128\n",
       "3      101\n",
       "12      51\n",
       "Name: Last Contact Month, dtype: int64"
      ]
     },
     "execution_count": 24,
     "metadata": {},
     "output_type": "execute_result"
    }
   ],
   "source": [
    "## Vemos como se distribuye la feature 'Last Contact Month' ahora.\n",
    "bank_ds['Last Contact Month'].value_counts()"
   ]
  },
  {
   "cell_type": "code",
   "execution_count": null,
   "metadata": {
    "colab": {
     "base_uri": "https://localhost:8080/"
    },
    "executionInfo": {
     "elapsed": 32,
     "status": "ok",
     "timestamp": 1669298178837,
     "user": {
      "displayName": "MARTÍN NICOLAS AISCAR",
      "userId": "18143931623073660355"
     },
     "user_tz": 180
    },
    "id": "A7K1Wmdkujas",
    "outputId": "7578d12c-5833-480c-b19c-2311977f3def"
   },
   "outputs": [
    {
     "data": {
      "text/plain": [
       "1    0.880894\n",
       "2    0.119106\n",
       "Name: Subscription, dtype: float64"
      ]
     },
     "execution_count": 25,
     "metadata": {},
     "output_type": "execute_result"
    }
   ],
   "source": [
    "## Mostramos como se distribuye la variable \"Subscription\".\n",
    "bank_ds['Subscription'].value_counts(normalize=True)"
   ]
  },
  {
   "cell_type": "code",
   "execution_count": null,
   "metadata": {
    "colab": {
     "base_uri": "https://localhost:8080/"
    },
    "executionInfo": {
     "elapsed": 29,
     "status": "ok",
     "timestamp": 1669298178838,
     "user": {
      "displayName": "MARTÍN NICOLAS AISCAR",
      "userId": "18143931623073660355"
     },
     "user_tz": 180
    },
    "id": "wMNW9gcmu3WW",
    "outputId": "c3f4f85d-d52f-4a7f-b846-5a2780cfc83b"
   },
   "outputs": [
    {
     "data": {
      "text/plain": [
       "1    9023\n",
       "2    1220\n",
       "Name: Subscription, dtype: int64"
      ]
     },
     "execution_count": 26,
     "metadata": {},
     "output_type": "execute_result"
    }
   ],
   "source": [
    "## Mostramos como se distribuye la variable \"Subscription\" en términos absolutos.\n",
    "bank_ds['Subscription'].value_counts()"
   ]
  },
  {
   "cell_type": "code",
   "execution_count": null,
   "metadata": {
    "id": "ve--PlFsI9J9"
   },
   "outputs": [],
   "source": [
    "## Transformamos la variable \"Subscription\" de manera tal que tome valores 0 y 1.\n",
    "bank_ds['Subscription'] = bank_ds['Subscription'].replace(1,0)\n",
    "bank_ds['Subscription'] = bank_ds['Subscription'].replace(2,1)"
   ]
  },
  {
   "cell_type": "code",
   "execution_count": null,
   "metadata": {
    "colab": {
     "base_uri": "https://localhost:8080/"
    },
    "executionInfo": {
     "elapsed": 25,
     "status": "ok",
     "timestamp": 1669298178839,
     "user": {
      "displayName": "MARTÍN NICOLAS AISCAR",
      "userId": "18143931623073660355"
     },
     "user_tz": 180
    },
    "id": "y-eMo-jfMdC8",
    "outputId": "73f7450b-a5ea-4280-db40-13a2d3170c7d"
   },
   "outputs": [
    {
     "data": {
      "text/plain": [
       "0    9023\n",
       "1    1220\n",
       "Name: Subscription, dtype: int64"
      ]
     },
     "execution_count": 28,
     "metadata": {},
     "output_type": "execute_result"
    }
   ],
   "source": [
    "## Mostramos como se distribuye ahora la variable \"Subscription\" en términos absolutos.\n",
    "bank_ds['Subscription'].value_counts()"
   ]
  },
  {
   "cell_type": "code",
   "execution_count": null,
   "metadata": {
    "colab": {
     "base_uri": "https://localhost:8080/",
     "height": 248
    },
    "executionInfo": {
     "elapsed": 934,
     "status": "ok",
     "timestamp": 1669298179751,
     "user": {
      "displayName": "MARTÍN NICOLAS AISCAR",
      "userId": "18143931623073660355"
     },
     "user_tz": 180
    },
    "id": "hBfovWu3V975",
    "outputId": "83cab3cd-6013-4de9-aad6-50321633c014"
   },
   "outputs": [
    {
     "data": {
      "image/png": "[encoded data removed]",
      "text/plain": [
       "<Figure size 432x288 with 1 Axes>"
      ]
     },
     "metadata": {},
     "output_type": "display_data"
    }
   ],
   "source": [
    "## Realizamos un gráfico de torta para mostrar la distribucion de las personas que acceden a la campaña de marketing y las que no.\n",
    "proporcion = pd.DataFrame(bank_ds.Subscription.value_counts(normalize=True))\n",
    "porcentaje = list(set(proporcion['Subscription']))\n",
    "\n",
    "colors = sns.color_palette('pastel')[0:5]\n",
    "plt.pie(x = porcentaje, labels = ['No accede','Accede'], colors = colors, autopct = '%.0f%%')\n",
    "\n",
    "## Descargamos la imagen del gráfico.\n",
    "#plot_name = \"proporcion_img\"\n",
    "#plot_save = str(plot_path + plot_name)\n",
    "#plt.savefig(plot_save+\".png\",dpi=300)\n",
    "plt.show()"
   ]
  },
  {
   "cell_type": "code",
   "execution_count": null,
   "metadata": {
    "colab": {
     "base_uri": "https://localhost:8080/",
     "height": 312
    },
    "executionInfo": {
     "elapsed": 1043,
     "status": "ok",
     "timestamp": 1669298180791,
     "user": {
      "displayName": "MARTÍN NICOLAS AISCAR",
      "userId": "18143931623073660355"
     },
     "user_tz": 180
    },
    "id": "low6YYRzWvVG",
    "outputId": "79c7da38-421d-418e-a13d-6e0a33a41903"
   },
   "outputs": [
    {
     "data": {
      "image/png": "[encoded data removed]",
      "text/plain": [
       "<Figure size 432x288 with 1 Axes>"
      ]
     },
     "metadata": {
      "needs_background": "light"
     },
     "output_type": "display_data"
    },
    {
     "data": {
      "text/plain": [
       "<Figure size 432x288 with 0 Axes>"
      ]
     },
     "metadata": {},
     "output_type": "display_data"
    }
   ],
   "source": [
    "## Imprimimos la distribución de la edad de los clientes en función de si acceden o no a la campaña de MKT.\n",
    "sns.histplot(data=bank_ds,x=bank_ds['Age'],bins=50,kde=True,color=colors,stat='count',hue='Subscription')\n",
    "plt.xlabel(\"Edad\")\n",
    "plt.title('Distribucion de Edad de Clientes',size = 12)\n",
    "\n",
    "## Descargamos la imagen.\n",
    "#plot_name = \"distedadcliente\"\n",
    "#plot_save = str(plot_path + plot_name)\n",
    "#plt.savefig(plot_save+\".png\",dpi=300)\n",
    "plt.show()"
   ]
  },
  {
   "cell_type": "code",
   "execution_count": null,
   "metadata": {
    "colab": {
     "base_uri": "https://localhost:8080/",
     "height": 112
    },
    "executionInfo": {
     "elapsed": 11,
     "status": "ok",
     "timestamp": 1669298181205,
     "user": {
      "displayName": "MARTÍN NICOLAS AISCAR",
      "userId": "18143931623073660355"
     },
     "user_tz": 180
    },
    "id": "bVUxhOwTlESt",
    "outputId": "24d26a07-f539-4e6a-b61b-f4aa50aa2d15"
   },
   "outputs": [
    {
     "data": {
      "text/html": [
       "\n",
       "  <div id=\"df-859051a3-3048-4dda-81f3-f9112cea66b6\">\n",
       "    <div class=\"colab-df-container\">\n",
       "      <div>\n",
       "<style scoped>\n",
       "    .dataframe tbody tr th:only-of-type {\n",
       "        vertical-align: middle;\n",
       "    }\n",
       "\n",
       "    .dataframe tbody tr th {\n",
       "        vertical-align: top;\n",
       "    }\n",
       "\n",
       "    .dataframe thead th {\n",
       "        text-align: right;\n",
       "    }\n",
       "</style>\n",
       "<table border=\"1\" class=\"dataframe\">\n",
       "  <thead>\n",
       "    <tr style=\"text-align: right;\">\n",
       "      <th></th>\n",
       "      <th>Subscription</th>\n",
       "      <th>Age</th>\n",
       "    </tr>\n",
       "  </thead>\n",
       "  <tbody>\n",
       "    <tr>\n",
       "      <th>0</th>\n",
       "      <td>0</td>\n",
       "      <td>40.614319</td>\n",
       "    </tr>\n",
       "    <tr>\n",
       "      <th>1</th>\n",
       "      <td>1</td>\n",
       "      <td>40.995902</td>\n",
       "    </tr>\n",
       "  </tbody>\n",
       "</table>\n",
       "</div>\n",
       "      <button class=\"colab-df-convert\" onclick=\"convertToInteractive('df-859051a3-3048-4dda-81f3-f9112cea66b6')\"\n",
       "              title=\"Convert this dataframe to an interactive table.\"\n",
       "              style=\"display:none;\">\n",
       "        \n",
       "  <svg xmlns=\"http://www.w3.org/2000/svg\" height=\"24px\"viewBox=\"0 0 24 24\"\n",
       "       width=\"24px\">\n",
       "    <path d=\"M0 0h24v24H0V0z\" fill=\"none\"/>\n",
       "    <path d=\"M18.56 5.44l.94 2.06.94-2.06 2.06-.94-2.06-.94-.94-2.06-.94 2.06-2.06.94zm-11 1L8.5 8.5l.94-2.06 2.06-.94-2.06-.94L8.5 2.5l-.94 2.06-2.06.94zm10 10l.94 2.06.94-2.06 2.06-.94-2.06-.94-.94-2.06-.94 2.06-2.06.94z\"/><path d=\"M17.41 7.96l-1.37-1.37c-.4-.4-.92-.59-1.43-.59-.52 0-1.04.2-1.43.59L10.3 9.45l-7.72 7.72c-.78.78-.78 2.05 0 2.83L4 21.41c.39.39.9.59 1.41.59.51 0 1.02-.2 1.41-.59l7.78-7.78 2.81-2.81c.8-.78.8-2.07 0-2.86zM5.41 20L4 18.59l7.72-7.72 1.47 1.35L5.41 20z\"/>\n",
       "  </svg>\n",
       "      </button>\n",
       "      \n",
       "  <style>\n",
       "    .colab-df-container {\n",
       "      display:flex;\n",
       "      flex-wrap:wrap;\n",
       "      gap: 12px;\n",
       "    }\n",
       "\n",
       "    .colab-df-convert {\n",
       "      background-color: #E8F0FE;\n",
       "      border: none;\n",
       "      border-radius: 50%;\n",
       "      cursor: pointer;\n",
       "      display: none;\n",
       "      fill: #1967D2;\n",
       "      height: 32px;\n",
       "      padding: 0 0 0 0;\n",
       "      width: 32px;\n",
       "    }\n",
       "\n",
       "    .colab-df-convert:hover {\n",
       "      background-color: #E2EBFA;\n",
       "      box-shadow: 0px 1px 2px rgba(60, 64, 67, 0.3), 0px 1px 3px 1px rgba(60, 64, 67, 0.15);\n",
       "      fill: #174EA6;\n",
       "    }\n",
       "\n",
       "    [theme=dark] .colab-df-convert {\n",
       "      background-color: #3B4455;\n",
       "      fill: #D2E3FC;\n",
       "    }\n",
       "\n",
       "    [theme=dark] .colab-df-convert:hover {\n",
       "      background-color: #434B5C;\n",
       "      box-shadow: 0px 1px 3px 1px rgba(0, 0, 0, 0.15);\n",
       "      filter: drop-shadow(0px 1px 2px rgba(0, 0, 0, 0.3));\n",
       "      fill: #FFFFFF;\n",
       "    }\n",
       "  </style>\n",
       "\n",
       "      <script>\n",
       "        const buttonEl =\n",
       "          document.querySelector('#df-859051a3-3048-4dda-81f3-f9112cea66b6 button.colab-df-convert');\n",
       "        buttonEl.style.display =\n",
       "          google.colab.kernel.accessAllowed ? 'block' : 'none';\n",
       "\n",
       "        async function convertToInteractive(key) {\n",
       "          const element = document.querySelector('#df-859051a3-3048-4dda-81f3-f9112cea66b6');\n",
       "          const dataTable =\n",
       "            await google.colab.kernel.invokeFunction('convertToInteractive',\n",
       "                                                     [key], {});\n",
       "          if (!dataTable) return;\n",
       "\n",
       "          const docLinkHtml = 'Like what you see? Visit the ' +\n",
       "            '<a target=\"_blank\" href=https://colab.research.google.com/notebooks/data_table.ipynb>data table notebook</a>'\n",
       "            + ' to learn more about interactive tables.';\n",
       "          element.innerHTML = '';\n",
       "          dataTable['output_type'] = 'display_data';\n",
       "          await google.colab.output.renderOutput(dataTable, element);\n",
       "          const docLink = document.createElement('div');\n",
       "          docLink.innerHTML = docLinkHtml;\n",
       "          element.appendChild(docLink);\n",
       "        }\n",
       "      </script>\n",
       "    </div>\n",
       "  </div>\n",
       "  "
      ],
      "text/plain": [
       "   Subscription        Age\n",
       "0             0  40.614319\n",
       "1             1  40.995902"
      ]
     },
     "execution_count": 31,
     "metadata": {},
     "output_type": "execute_result"
    }
   ],
   "source": [
    "## Calculamos la media de la edad en función del outcome de la variable 'Subscription'.\n",
    "bank_ds.groupby('Subscription', as_index=False)['Age'].mean()"
   ]
  },
  {
   "cell_type": "code",
   "execution_count": null,
   "metadata": {
    "colab": {
     "base_uri": "https://localhost:8080/",
     "height": 382
    },
    "executionInfo": {
     "elapsed": 1276,
     "status": "ok",
     "timestamp": 1669298182473,
     "user": {
      "displayName": "MARTÍN NICOLAS AISCAR",
      "userId": "18143931623073660355"
     },
     "user_tz": 180
    },
    "id": "SOpqQ_gxd5M_",
    "outputId": "2f286c6b-4581-4643-95f5-51d0aaaca848"
   },
   "outputs": [
    {
     "name": "stderr",
     "output_type": "stream",
     "text": [
      "/usr/local/lib/python3.7/dist-packages/pandas/core/arraylike.py:364: RuntimeWarning: divide by zero encountered in log\n",
      "  result = getattr(ufunc, method)(*inputs, **kwargs)\n",
      "/usr/local/lib/python3.7/dist-packages/pandas/core/arraylike.py:364: RuntimeWarning: invalid value encountered in log\n",
      "  result = getattr(ufunc, method)(*inputs, **kwargs)\n"
     ]
    },
    {
     "data": {
      "image/png": "[encoded data removed]",
      "text/plain": [
       "<Figure size 432x288 with 1 Axes>"
      ]
     },
     "metadata": {
      "needs_background": "light"
     },
     "output_type": "display_data"
    },
    {
     "data": {
      "text/plain": [
       "<Figure size 432x288 with 0 Axes>"
      ]
     },
     "metadata": {},
     "output_type": "display_data"
    }
   ],
   "source": [
    "## Calculamos e imprimimos la distribución del Logaritmo del Saldo Promedio ('Balance (euros)') en función de la varaible 'Subscription'.\n",
    "bank_ds['log_balance'] = np.log(1+bank_ds['Balance (euros)'])\n",
    "\n",
    "sns.histplot(data=bank_ds,x='log_balance',bins=100,kde=True,color=colors,stat='count',hue='Subscription')\n",
    "plt.xlabel(\"Log Saldo promedio en la cuenta\")\n",
    "plt.title('Subscription vs Log Saldo Promedio',size = 12)\n",
    "\n",
    "## Descargamos la imagen del histograma.\n",
    "#plot_name = \"distsaldocliente\"\n",
    "#plot_save = str(plot_path + plot_name)\n",
    "#plt.savefig(plot_save+\".png\",dpi=300)\n",
    "plt.show()\n",
    "\n",
    "bank_ds=bank_ds.drop(['log_balance'], axis=1)"
   ]
  },
  {
   "cell_type": "code",
   "execution_count": null,
   "metadata": {
    "colab": {
     "base_uri": "https://localhost:8080/",
     "height": 112
    },
    "executionInfo": {
     "elapsed": 6,
     "status": "ok",
     "timestamp": 1669298182474,
     "user": {
      "displayName": "MARTÍN NICOLAS AISCAR",
      "userId": "18143931623073660355"
     },
     "user_tz": 180
    },
    "id": "3Lf0bkdyuHnK",
    "outputId": "022cdbe6-cf6e-4787-e67d-829ec3ef4eb1"
   },
   "outputs": [
    {
     "data": {
      "text/html": [
       "\n",
       "  <div id=\"df-7336239e-aed2-41c6-bd2c-9b5058fa052f\">\n",
       "    <div class=\"colab-df-container\">\n",
       "      <div>\n",
       "<style scoped>\n",
       "    .dataframe tbody tr th:only-of-type {\n",
       "        vertical-align: middle;\n",
       "    }\n",
       "\n",
       "    .dataframe tbody tr th {\n",
       "        vertical-align: top;\n",
       "    }\n",
       "\n",
       "    .dataframe thead th {\n",
       "        text-align: right;\n",
       "    }\n",
       "</style>\n",
       "<table border=\"1\" class=\"dataframe\">\n",
       "  <thead>\n",
       "    <tr style=\"text-align: right;\">\n",
       "      <th></th>\n",
       "      <th>Subscription</th>\n",
       "      <th>Balance (euros)</th>\n",
       "    </tr>\n",
       "  </thead>\n",
       "  <tbody>\n",
       "    <tr>\n",
       "      <th>0</th>\n",
       "      <td>0</td>\n",
       "      <td>1307.948465</td>\n",
       "    </tr>\n",
       "    <tr>\n",
       "      <th>1</th>\n",
       "      <td>1</td>\n",
       "      <td>1867.097541</td>\n",
       "    </tr>\n",
       "  </tbody>\n",
       "</table>\n",
       "</div>\n",
       "      <button class=\"colab-df-convert\" onclick=\"convertToInteractive('df-7336239e-aed2-41c6-bd2c-9b5058fa052f')\"\n",
       "              title=\"Convert this dataframe to an interactive table.\"\n",
       "              style=\"display:none;\">\n",
       "        \n",
       "  <svg xmlns=\"http://www.w3.org/2000/svg\" height=\"24px\"viewBox=\"0 0 24 24\"\n",
       "       width=\"24px\">\n",
       "    <path d=\"M0 0h24v24H0V0z\" fill=\"none\"/>\n",
       "    <path d=\"M18.56 5.44l.94 2.06.94-2.06 2.06-.94-2.06-.94-.94-2.06-.94 2.06-2.06.94zm-11 1L8.5 8.5l.94-2.06 2.06-.94-2.06-.94L8.5 2.5l-.94 2.06-2.06.94zm10 10l.94 2.06.94-2.06 2.06-.94-2.06-.94-.94-2.06-.94 2.06-2.06.94z\"/><path d=\"M17.41 7.96l-1.37-1.37c-.4-.4-.92-.59-1.43-.59-.52 0-1.04.2-1.43.59L10.3 9.45l-7.72 7.72c-.78.78-.78 2.05 0 2.83L4 21.41c.39.39.9.59 1.41.59.51 0 1.02-.2 1.41-.59l7.78-7.78 2.81-2.81c.8-.78.8-2.07 0-2.86zM5.41 20L4 18.59l7.72-7.72 1.47 1.35L5.41 20z\"/>\n",
       "  </svg>\n",
       "      </button>\n",
       "      \n",
       "  <style>\n",
       "    .colab-df-container {\n",
       "      display:flex;\n",
       "      flex-wrap:wrap;\n",
       "      gap: 12px;\n",
       "    }\n",
       "\n",
       "    .colab-df-convert {\n",
       "      background-color: #E8F0FE;\n",
       "      border: none;\n",
       "      border-radius: 50%;\n",
       "      cursor: pointer;\n",
       "      display: none;\n",
       "      fill: #1967D2;\n",
       "      height: 32px;\n",
       "      padding: 0 0 0 0;\n",
       "      width: 32px;\n",
       "    }\n",
       "\n",
       "    .colab-df-convert:hover {\n",
       "      background-color: #E2EBFA;\n",
       "      box-shadow: 0px 1px 2px rgba(60, 64, 67, 0.3), 0px 1px 3px 1px rgba(60, 64, 67, 0.15);\n",
       "      fill: #174EA6;\n",
       "    }\n",
       "\n",
       "    [theme=dark] .colab-df-convert {\n",
       "      background-color: #3B4455;\n",
       "      fill: #D2E3FC;\n",
       "    }\n",
       "\n",
       "    [theme=dark] .colab-df-convert:hover {\n",
       "      background-color: #434B5C;\n",
       "      box-shadow: 0px 1px 3px 1px rgba(0, 0, 0, 0.15);\n",
       "      filter: drop-shadow(0px 1px 2px rgba(0, 0, 0, 0.3));\n",
       "      fill: #FFFFFF;\n",
       "    }\n",
       "  </style>\n",
       "\n",
       "      <script>\n",
       "        const buttonEl =\n",
       "          document.querySelector('#df-7336239e-aed2-41c6-bd2c-9b5058fa052f button.colab-df-convert');\n",
       "        buttonEl.style.display =\n",
       "          google.colab.kernel.accessAllowed ? 'block' : 'none';\n",
       "\n",
       "        async function convertToInteractive(key) {\n",
       "          const element = document.querySelector('#df-7336239e-aed2-41c6-bd2c-9b5058fa052f');\n",
       "          const dataTable =\n",
       "            await google.colab.kernel.invokeFunction('convertToInteractive',\n",
       "                                                     [key], {});\n",
       "          if (!dataTable) return;\n",
       "\n",
       "          const docLinkHtml = 'Like what you see? Visit the ' +\n",
       "            '<a target=\"_blank\" href=https://colab.research.google.com/notebooks/data_table.ipynb>data table notebook</a>'\n",
       "            + ' to learn more about interactive tables.';\n",
       "          element.innerHTML = '';\n",
       "          dataTable['output_type'] = 'display_data';\n",
       "          await google.colab.output.renderOutput(dataTable, element);\n",
       "          const docLink = document.createElement('div');\n",
       "          docLink.innerHTML = docLinkHtml;\n",
       "          element.appendChild(docLink);\n",
       "        }\n",
       "      </script>\n",
       "    </div>\n",
       "  </div>\n",
       "  "
      ],
      "text/plain": [
       "   Subscription  Balance (euros)\n",
       "0             0      1307.948465\n",
       "1             1      1867.097541"
      ]
     },
     "execution_count": 33,
     "metadata": {},
     "output_type": "execute_result"
    }
   ],
   "source": [
    "## Calculamos la media de la variable \"Balance (euros)\" en función de la variable \"Subscription\".\n",
    "bank_ds.groupby('Subscription', as_index=False)['Balance (euros)'].mean()"
   ]
  },
  {
   "cell_type": "code",
   "execution_count": null,
   "metadata": {
    "colab": {
     "base_uri": "https://localhost:8080/",
     "height": 294
    },
    "executionInfo": {
     "elapsed": 2114,
     "status": "ok",
     "timestamp": 1669298184584,
     "user": {
      "displayName": "MARTÍN NICOLAS AISCAR",
      "userId": "18143931623073660355"
     },
     "user_tz": 180
    },
    "id": "qHT8_yuMpObu",
    "outputId": "452dbf70-2837-49d2-e07c-a4805191392c"
   },
   "outputs": [
    {
     "data": {
      "image/png": "[encoded data removed]",
      "text/plain": [
       "<Figure size 432x288 with 1 Axes>"
      ]
     },
     "metadata": {
      "needs_background": "light"
     },
     "output_type": "display_data"
    }
   ],
   "source": [
    "## Imprimimos la distribución del logaritmo de la duración del ultimo contacto en función de la variable 'Subscription'.\n",
    "bank_ds['log_duration'] = np.log(1+bank_ds['Last Contact Duration'])\n",
    "\n",
    "sns.histplot(data=bank_ds,x=bank_ds['log_duration'],bins=50,kde=True,stat='count', hue='Subscription')\n",
    "plt.xlabel('Log Last Contact Duration')\n",
    "plt.title('Distribución de Log Last Contact Duration',size = 10)\n",
    "\n",
    "## Descargamos la imagen del histograma.\n",
    "#plot_name = \"distduracioncliente\"\n",
    "#plot_save = str(plot_path + plot_name)\n",
    "#plt.savefig(plot_save+\".png\",dpi=300)\n",
    "\n",
    "plt.show()\n",
    "\n",
    "bank_ds=bank_ds.drop(['log_duration'], axis=1)"
   ]
  },
  {
   "cell_type": "code",
   "execution_count": null,
   "metadata": {
    "colab": {
     "base_uri": "https://localhost:8080/",
     "height": 112
    },
    "executionInfo": {
     "elapsed": 19,
     "status": "ok",
     "timestamp": 1669298184585,
     "user": {
      "displayName": "MARTÍN NICOLAS AISCAR",
      "userId": "18143931623073660355"
     },
     "user_tz": 180
    },
    "id": "BtQ6UwLy5gQ_",
    "outputId": "87a87872-e6f1-46bb-eb26-dc75545a3c16"
   },
   "outputs": [
    {
     "data": {
      "text/html": [
       "\n",
       "  <div id=\"df-631b5e29-a978-4092-9555-8f606d564f04\">\n",
       "    <div class=\"colab-df-container\">\n",
       "      <div>\n",
       "<style scoped>\n",
       "    .dataframe tbody tr th:only-of-type {\n",
       "        vertical-align: middle;\n",
       "    }\n",
       "\n",
       "    .dataframe tbody tr th {\n",
       "        vertical-align: top;\n",
       "    }\n",
       "\n",
       "    .dataframe thead th {\n",
       "        text-align: right;\n",
       "    }\n",
       "</style>\n",
       "<table border=\"1\" class=\"dataframe\">\n",
       "  <thead>\n",
       "    <tr style=\"text-align: right;\">\n",
       "      <th></th>\n",
       "      <th>Subscription</th>\n",
       "      <th>Last Contact Duration</th>\n",
       "    </tr>\n",
       "  </thead>\n",
       "  <tbody>\n",
       "    <tr>\n",
       "      <th>0</th>\n",
       "      <td>0</td>\n",
       "      <td>222.603015</td>\n",
       "    </tr>\n",
       "    <tr>\n",
       "      <th>1</th>\n",
       "      <td>1</td>\n",
       "      <td>560.350000</td>\n",
       "    </tr>\n",
       "  </tbody>\n",
       "</table>\n",
       "</div>\n",
       "      <button class=\"colab-df-convert\" onclick=\"convertToInteractive('df-631b5e29-a978-4092-9555-8f606d564f04')\"\n",
       "              title=\"Convert this dataframe to an interactive table.\"\n",
       "              style=\"display:none;\">\n",
       "        \n",
       "  <svg xmlns=\"http://www.w3.org/2000/svg\" height=\"24px\"viewBox=\"0 0 24 24\"\n",
       "       width=\"24px\">\n",
       "    <path d=\"M0 0h24v24H0V0z\" fill=\"none\"/>\n",
       "    <path d=\"M18.56 5.44l.94 2.06.94-2.06 2.06-.94-2.06-.94-.94-2.06-.94 2.06-2.06.94zm-11 1L8.5 8.5l.94-2.06 2.06-.94-2.06-.94L8.5 2.5l-.94 2.06-2.06.94zm10 10l.94 2.06.94-2.06 2.06-.94-2.06-.94-.94-2.06-.94 2.06-2.06.94z\"/><path d=\"M17.41 7.96l-1.37-1.37c-.4-.4-.92-.59-1.43-.59-.52 0-1.04.2-1.43.59L10.3 9.45l-7.72 7.72c-.78.78-.78 2.05 0 2.83L4 21.41c.39.39.9.59 1.41.59.51 0 1.02-.2 1.41-.59l7.78-7.78 2.81-2.81c.8-.78.8-2.07 0-2.86zM5.41 20L4 18.59l7.72-7.72 1.47 1.35L5.41 20z\"/>\n",
       "  </svg>\n",
       "      </button>\n",
       "      \n",
       "  <style>\n",
       "    .colab-df-container {\n",
       "      display:flex;\n",
       "      flex-wrap:wrap;\n",
       "      gap: 12px;\n",
       "    }\n",
       "\n",
       "    .colab-df-convert {\n",
       "      background-color: #E8F0FE;\n",
       "      border: none;\n",
       "      border-radius: 50%;\n",
       "      cursor: pointer;\n",
       "      display: none;\n",
       "      fill: #1967D2;\n",
       "      height: 32px;\n",
       "      padding: 0 0 0 0;\n",
       "      width: 32px;\n",
       "    }\n",
       "\n",
       "    .colab-df-convert:hover {\n",
       "      background-color: #E2EBFA;\n",
       "      box-shadow: 0px 1px 2px rgba(60, 64, 67, 0.3), 0px 1px 3px 1px rgba(60, 64, 67, 0.15);\n",
       "      fill: #174EA6;\n",
       "    }\n",
       "\n",
       "    [theme=dark] .colab-df-convert {\n",
       "      background-color: #3B4455;\n",
       "      fill: #D2E3FC;\n",
       "    }\n",
       "\n",
       "    [theme=dark] .colab-df-convert:hover {\n",
       "      background-color: #434B5C;\n",
       "      box-shadow: 0px 1px 3px 1px rgba(0, 0, 0, 0.15);\n",
       "      filter: drop-shadow(0px 1px 2px rgba(0, 0, 0, 0.3));\n",
       "      fill: #FFFFFF;\n",
       "    }\n",
       "  </style>\n",
       "\n",
       "      <script>\n",
       "        const buttonEl =\n",
       "          document.querySelector('#df-631b5e29-a978-4092-9555-8f606d564f04 button.colab-df-convert');\n",
       "        buttonEl.style.display =\n",
       "          google.colab.kernel.accessAllowed ? 'block' : 'none';\n",
       "\n",
       "        async function convertToInteractive(key) {\n",
       "          const element = document.querySelector('#df-631b5e29-a978-4092-9555-8f606d564f04');\n",
       "          const dataTable =\n",
       "            await google.colab.kernel.invokeFunction('convertToInteractive',\n",
       "                                                     [key], {});\n",
       "          if (!dataTable) return;\n",
       "\n",
       "          const docLinkHtml = 'Like what you see? Visit the ' +\n",
       "            '<a target=\"_blank\" href=https://colab.research.google.com/notebooks/data_table.ipynb>data table notebook</a>'\n",
       "            + ' to learn more about interactive tables.';\n",
       "          element.innerHTML = '';\n",
       "          dataTable['output_type'] = 'display_data';\n",
       "          await google.colab.output.renderOutput(dataTable, element);\n",
       "          const docLink = document.createElement('div');\n",
       "          docLink.innerHTML = docLinkHtml;\n",
       "          element.appendChild(docLink);\n",
       "        }\n",
       "      </script>\n",
       "    </div>\n",
       "  </div>\n",
       "  "
      ],
      "text/plain": [
       "   Subscription  Last Contact Duration\n",
       "0             0             222.603015\n",
       "1             1             560.350000"
      ]
     },
     "execution_count": 35,
     "metadata": {},
     "output_type": "execute_result"
    }
   ],
   "source": [
    "## Calculamos la media de la variable \"Last Contact Duration\" en función de la variable \"Subscription\".\n",
    "bank_ds.groupby('Subscription', as_index=False)['Last Contact Duration'].mean()"
   ]
  },
  {
   "cell_type": "code",
   "execution_count": null,
   "metadata": {
    "colab": {
     "base_uri": "https://localhost:8080/",
     "height": 332
    },
    "executionInfo": {
     "elapsed": 17,
     "status": "ok",
     "timestamp": 1669298184585,
     "user": {
      "displayName": "MARTÍN NICOLAS AISCAR",
      "userId": "18143931623073660355"
     },
     "user_tz": 180
    },
    "id": "IgsaIUqepSDd",
    "outputId": "4eed2217-63df-4b05-ba15-ed2430a83e15"
   },
   "outputs": [
    {
     "data": {
      "text/html": [
       "\n",
       "  <div id=\"df-97f8d7fb-7b14-4784-aa65-20938a4cd8b6\">\n",
       "    <div class=\"colab-df-container\">\n",
       "      <div>\n",
       "<style scoped>\n",
       "    .dataframe tbody tr th:only-of-type {\n",
       "        vertical-align: middle;\n",
       "    }\n",
       "\n",
       "    .dataframe tbody tr th {\n",
       "        vertical-align: top;\n",
       "    }\n",
       "\n",
       "    .dataframe thead th {\n",
       "        text-align: right;\n",
       "    }\n",
       "</style>\n",
       "<table border=\"1\" class=\"dataframe\">\n",
       "  <thead>\n",
       "    <tr style=\"text-align: right;\">\n",
       "      <th></th>\n",
       "      <th>count</th>\n",
       "      <th>mean</th>\n",
       "      <th>std</th>\n",
       "      <th>min</th>\n",
       "      <th>25%</th>\n",
       "      <th>50%</th>\n",
       "      <th>75%</th>\n",
       "      <th>max</th>\n",
       "    </tr>\n",
       "  </thead>\n",
       "  <tbody>\n",
       "    <tr>\n",
       "      <th>Age</th>\n",
       "      <td>1220.0</td>\n",
       "      <td>40.995902</td>\n",
       "      <td>12.760782</td>\n",
       "      <td>18.0</td>\n",
       "      <td>31.0</td>\n",
       "      <td>38.0</td>\n",
       "      <td>49.0</td>\n",
       "      <td>87.0</td>\n",
       "    </tr>\n",
       "    <tr>\n",
       "      <th>Balance (euros)</th>\n",
       "      <td>1220.0</td>\n",
       "      <td>1867.097541</td>\n",
       "      <td>3543.249755</td>\n",
       "      <td>-1206.0</td>\n",
       "      <td>194.5</td>\n",
       "      <td>788.5</td>\n",
       "      <td>2175.0</td>\n",
       "      <td>52587.0</td>\n",
       "    </tr>\n",
       "    <tr>\n",
       "      <th>Last Contact Day</th>\n",
       "      <td>1220.0</td>\n",
       "      <td>15.041803</td>\n",
       "      <td>8.296933</td>\n",
       "      <td>1.0</td>\n",
       "      <td>8.0</td>\n",
       "      <td>14.0</td>\n",
       "      <td>21.0</td>\n",
       "      <td>31.0</td>\n",
       "    </tr>\n",
       "    <tr>\n",
       "      <th>Last Contact Month</th>\n",
       "      <td>1220.0</td>\n",
       "      <td>6.311475</td>\n",
       "      <td>2.786885</td>\n",
       "      <td>1.0</td>\n",
       "      <td>4.0</td>\n",
       "      <td>6.0</td>\n",
       "      <td>8.0</td>\n",
       "      <td>12.0</td>\n",
       "    </tr>\n",
       "    <tr>\n",
       "      <th>Last Contact Duration</th>\n",
       "      <td>1220.0</td>\n",
       "      <td>560.350000</td>\n",
       "      <td>404.597331</td>\n",
       "      <td>25.0</td>\n",
       "      <td>249.0</td>\n",
       "      <td>449.0</td>\n",
       "      <td>766.0</td>\n",
       "      <td>3881.0</td>\n",
       "    </tr>\n",
       "    <tr>\n",
       "      <th>Campaign</th>\n",
       "      <td>1220.0</td>\n",
       "      <td>2.103279</td>\n",
       "      <td>1.676696</td>\n",
       "      <td>1.0</td>\n",
       "      <td>1.0</td>\n",
       "      <td>2.0</td>\n",
       "      <td>3.0</td>\n",
       "      <td>17.0</td>\n",
       "    </tr>\n",
       "    <tr>\n",
       "      <th>Pdays</th>\n",
       "      <td>1220.0</td>\n",
       "      <td>61.054918</td>\n",
       "      <td>113.862168</td>\n",
       "      <td>-1.0</td>\n",
       "      <td>-1.0</td>\n",
       "      <td>-1.0</td>\n",
       "      <td>93.0</td>\n",
       "      <td>784.0</td>\n",
       "    </tr>\n",
       "    <tr>\n",
       "      <th>Previous</th>\n",
       "      <td>1220.0</td>\n",
       "      <td>1.095082</td>\n",
       "      <td>2.447977</td>\n",
       "      <td>0.0</td>\n",
       "      <td>0.0</td>\n",
       "      <td>0.0</td>\n",
       "      <td>1.0</td>\n",
       "      <td>30.0</td>\n",
       "    </tr>\n",
       "    <tr>\n",
       "      <th>Subscription</th>\n",
       "      <td>1220.0</td>\n",
       "      <td>1.000000</td>\n",
       "      <td>0.000000</td>\n",
       "      <td>1.0</td>\n",
       "      <td>1.0</td>\n",
       "      <td>1.0</td>\n",
       "      <td>1.0</td>\n",
       "      <td>1.0</td>\n",
       "    </tr>\n",
       "  </tbody>\n",
       "</table>\n",
       "</div>\n",
       "      <button class=\"colab-df-convert\" onclick=\"convertToInteractive('df-97f8d7fb-7b14-4784-aa65-20938a4cd8b6')\"\n",
       "              title=\"Convert this dataframe to an interactive table.\"\n",
       "              style=\"display:none;\">\n",
       "        \n",
       "  <svg xmlns=\"http://www.w3.org/2000/svg\" height=\"24px\"viewBox=\"0 0 24 24\"\n",
       "       width=\"24px\">\n",
       "    <path d=\"M0 0h24v24H0V0z\" fill=\"none\"/>\n",
       "    <path d=\"M18.56 5.44l.94 2.06.94-2.06 2.06-.94-2.06-.94-.94-2.06-.94 2.06-2.06.94zm-11 1L8.5 8.5l.94-2.06 2.06-.94-2.06-.94L8.5 2.5l-.94 2.06-2.06.94zm10 10l.94 2.06.94-2.06 2.06-.94-2.06-.94-.94-2.06-.94 2.06-2.06.94z\"/><path d=\"M17.41 7.96l-1.37-1.37c-.4-.4-.92-.59-1.43-.59-.52 0-1.04.2-1.43.59L10.3 9.45l-7.72 7.72c-.78.78-.78 2.05 0 2.83L4 21.41c.39.39.9.59 1.41.59.51 0 1.02-.2 1.41-.59l7.78-7.78 2.81-2.81c.8-.78.8-2.07 0-2.86zM5.41 20L4 18.59l7.72-7.72 1.47 1.35L5.41 20z\"/>\n",
       "  </svg>\n",
       "      </button>\n",
       "      \n",
       "  <style>\n",
       "    .colab-df-container {\n",
       "      display:flex;\n",
       "      flex-wrap:wrap;\n",
       "      gap: 12px;\n",
       "    }\n",
       "\n",
       "    .colab-df-convert {\n",
       "      background-color: #E8F0FE;\n",
       "      border: none;\n",
       "      border-radius: 50%;\n",
       "      cursor: pointer;\n",
       "      display: none;\n",
       "      fill: #1967D2;\n",
       "      height: 32px;\n",
       "      padding: 0 0 0 0;\n",
       "      width: 32px;\n",
       "    }\n",
       "\n",
       "    .colab-df-convert:hover {\n",
       "      background-color: #E2EBFA;\n",
       "      box-shadow: 0px 1px 2px rgba(60, 64, 67, 0.3), 0px 1px 3px 1px rgba(60, 64, 67, 0.15);\n",
       "      fill: #174EA6;\n",
       "    }\n",
       "\n",
       "    [theme=dark] .colab-df-convert {\n",
       "      background-color: #3B4455;\n",
       "      fill: #D2E3FC;\n",
       "    }\n",
       "\n",
       "    [theme=dark] .colab-df-convert:hover {\n",
       "      background-color: #434B5C;\n",
       "      box-shadow: 0px 1px 3px 1px rgba(0, 0, 0, 0.15);\n",
       "      filter: drop-shadow(0px 1px 2px rgba(0, 0, 0, 0.3));\n",
       "      fill: #FFFFFF;\n",
       "    }\n",
       "  </style>\n",
       "\n",
       "      <script>\n",
       "        const buttonEl =\n",
       "          document.querySelector('#df-97f8d7fb-7b14-4784-aa65-20938a4cd8b6 button.colab-df-convert');\n",
       "        buttonEl.style.display =\n",
       "          google.colab.kernel.accessAllowed ? 'block' : 'none';\n",
       "\n",
       "        async function convertToInteractive(key) {\n",
       "          const element = document.querySelector('#df-97f8d7fb-7b14-4784-aa65-20938a4cd8b6');\n",
       "          const dataTable =\n",
       "            await google.colab.kernel.invokeFunction('convertToInteractive',\n",
       "                                                     [key], {});\n",
       "          if (!dataTable) return;\n",
       "\n",
       "          const docLinkHtml = 'Like what you see? Visit the ' +\n",
       "            '<a target=\"_blank\" href=https://colab.research.google.com/notebooks/data_table.ipynb>data table notebook</a>'\n",
       "            + ' to learn more about interactive tables.';\n",
       "          element.innerHTML = '';\n",
       "          dataTable['output_type'] = 'display_data';\n",
       "          await google.colab.output.renderOutput(dataTable, element);\n",
       "          const docLink = document.createElement('div');\n",
       "          docLink.innerHTML = docLinkHtml;\n",
       "          element.appendChild(docLink);\n",
       "        }\n",
       "      </script>\n",
       "    </div>\n",
       "  </div>\n",
       "  "
      ],
      "text/plain": [
       "                        count         mean          std     min    25%    50%  \\\n",
       "Age                    1220.0    40.995902    12.760782    18.0   31.0   38.0   \n",
       "Balance (euros)        1220.0  1867.097541  3543.249755 -1206.0  194.5  788.5   \n",
       "Last Contact Day       1220.0    15.041803     8.296933     1.0    8.0   14.0   \n",
       "Last Contact Month     1220.0     6.311475     2.786885     1.0    4.0    6.0   \n",
       "Last Contact Duration  1220.0   560.350000   404.597331    25.0  249.0  449.0   \n",
       "Campaign               1220.0     2.103279     1.676696     1.0    1.0    2.0   \n",
       "Pdays                  1220.0    61.054918   113.862168    -1.0   -1.0   -1.0   \n",
       "Previous               1220.0     1.095082     2.447977     0.0    0.0    0.0   \n",
       "Subscription           1220.0     1.000000     0.000000     1.0    1.0    1.0   \n",
       "\n",
       "                          75%      max  \n",
       "Age                      49.0     87.0  \n",
       "Balance (euros)        2175.0  52587.0  \n",
       "Last Contact Day         21.0     31.0  \n",
       "Last Contact Month        8.0     12.0  \n",
       "Last Contact Duration   766.0   3881.0  \n",
       "Campaign                  3.0     17.0  \n",
       "Pdays                    93.0    784.0  \n",
       "Previous                  1.0     30.0  \n",
       "Subscription              1.0      1.0  "
      ]
     },
     "execution_count": 36,
     "metadata": {},
     "output_type": "execute_result"
    }
   ],
   "source": [
    "## Mostramos las métricas más importantes de las variables numéricas para personas que si acceden a la campaña.\n",
    "notsubcription = bank_ds.loc[bank_ds['Subscription']==1]\n",
    "notsubcription.describe().T"
   ]
  },
  {
   "cell_type": "code",
   "execution_count": null,
   "metadata": {
    "colab": {
     "base_uri": "https://localhost:8080/",
     "height": 332
    },
    "executionInfo": {
     "elapsed": 16,
     "status": "ok",
     "timestamp": 1669298184585,
     "user": {
      "displayName": "MARTÍN NICOLAS AISCAR",
      "userId": "18143931623073660355"
     },
     "user_tz": 180
    },
    "id": "TKPch6TYpSKN",
    "outputId": "b5c57ba7-db5a-42ad-b800-61a556cc2982"
   },
   "outputs": [
    {
     "data": {
      "text/html": [
       "\n",
       "  <div id=\"df-49d56774-368b-4a87-802d-e6ccc208fe85\">\n",
       "    <div class=\"colab-df-container\">\n",
       "      <div>\n",
       "<style scoped>\n",
       "    .dataframe tbody tr th:only-of-type {\n",
       "        vertical-align: middle;\n",
       "    }\n",
       "\n",
       "    .dataframe tbody tr th {\n",
       "        vertical-align: top;\n",
       "    }\n",
       "\n",
       "    .dataframe thead th {\n",
       "        text-align: right;\n",
       "    }\n",
       "</style>\n",
       "<table border=\"1\" class=\"dataframe\">\n",
       "  <thead>\n",
       "    <tr style=\"text-align: right;\">\n",
       "      <th></th>\n",
       "      <th>count</th>\n",
       "      <th>mean</th>\n",
       "      <th>std</th>\n",
       "      <th>min</th>\n",
       "      <th>25%</th>\n",
       "      <th>50%</th>\n",
       "      <th>75%</th>\n",
       "      <th>max</th>\n",
       "    </tr>\n",
       "  </thead>\n",
       "  <tbody>\n",
       "    <tr>\n",
       "      <th>Age</th>\n",
       "      <td>9023.0</td>\n",
       "      <td>40.614319</td>\n",
       "      <td>10.069179</td>\n",
       "      <td>18.0</td>\n",
       "      <td>33.0</td>\n",
       "      <td>39.0</td>\n",
       "      <td>48.0</td>\n",
       "      <td>89.0</td>\n",
       "    </tr>\n",
       "    <tr>\n",
       "      <th>Balance (euros)</th>\n",
       "      <td>9023.0</td>\n",
       "      <td>1307.948465</td>\n",
       "      <td>2890.960305</td>\n",
       "      <td>-6847.0</td>\n",
       "      <td>64.0</td>\n",
       "      <td>412.0</td>\n",
       "      <td>1330.5</td>\n",
       "      <td>59649.0</td>\n",
       "    </tr>\n",
       "    <tr>\n",
       "      <th>Last Contact Day</th>\n",
       "      <td>9023.0</td>\n",
       "      <td>15.903469</td>\n",
       "      <td>8.278990</td>\n",
       "      <td>1.0</td>\n",
       "      <td>8.0</td>\n",
       "      <td>16.0</td>\n",
       "      <td>21.0</td>\n",
       "      <td>31.0</td>\n",
       "    </tr>\n",
       "    <tr>\n",
       "      <th>Last Contact Month</th>\n",
       "      <td>9023.0</td>\n",
       "      <td>6.169567</td>\n",
       "      <td>2.362432</td>\n",
       "      <td>1.0</td>\n",
       "      <td>5.0</td>\n",
       "      <td>6.0</td>\n",
       "      <td>8.0</td>\n",
       "      <td>12.0</td>\n",
       "    </tr>\n",
       "    <tr>\n",
       "      <th>Last Contact Duration</th>\n",
       "      <td>9023.0</td>\n",
       "      <td>222.603015</td>\n",
       "      <td>208.980618</td>\n",
       "      <td>1.0</td>\n",
       "      <td>97.0</td>\n",
       "      <td>165.0</td>\n",
       "      <td>281.0</td>\n",
       "      <td>4918.0</td>\n",
       "    </tr>\n",
       "    <tr>\n",
       "      <th>Campaign</th>\n",
       "      <td>9023.0</td>\n",
       "      <td>2.809154</td>\n",
       "      <td>3.103608</td>\n",
       "      <td>1.0</td>\n",
       "      <td>1.0</td>\n",
       "      <td>2.0</td>\n",
       "      <td>3.0</td>\n",
       "      <td>50.0</td>\n",
       "    </tr>\n",
       "    <tr>\n",
       "      <th>Pdays</th>\n",
       "      <td>9023.0</td>\n",
       "      <td>34.828549</td>\n",
       "      <td>94.634851</td>\n",
       "      <td>-1.0</td>\n",
       "      <td>-1.0</td>\n",
       "      <td>-1.0</td>\n",
       "      <td>-1.0</td>\n",
       "      <td>871.0</td>\n",
       "    </tr>\n",
       "    <tr>\n",
       "      <th>Previous</th>\n",
       "      <td>9023.0</td>\n",
       "      <td>0.522664</td>\n",
       "      <td>3.419387</td>\n",
       "      <td>0.0</td>\n",
       "      <td>0.0</td>\n",
       "      <td>0.0</td>\n",
       "      <td>0.0</td>\n",
       "      <td>275.0</td>\n",
       "    </tr>\n",
       "    <tr>\n",
       "      <th>Subscription</th>\n",
       "      <td>9023.0</td>\n",
       "      <td>0.000000</td>\n",
       "      <td>0.000000</td>\n",
       "      <td>0.0</td>\n",
       "      <td>0.0</td>\n",
       "      <td>0.0</td>\n",
       "      <td>0.0</td>\n",
       "      <td>0.0</td>\n",
       "    </tr>\n",
       "  </tbody>\n",
       "</table>\n",
       "</div>\n",
       "      <button class=\"colab-df-convert\" onclick=\"convertToInteractive('df-49d56774-368b-4a87-802d-e6ccc208fe85')\"\n",
       "              title=\"Convert this dataframe to an interactive table.\"\n",
       "              style=\"display:none;\">\n",
       "        \n",
       "  <svg xmlns=\"http://www.w3.org/2000/svg\" height=\"24px\"viewBox=\"0 0 24 24\"\n",
       "       width=\"24px\">\n",
       "    <path d=\"M0 0h24v24H0V0z\" fill=\"none\"/>\n",
       "    <path d=\"M18.56 5.44l.94 2.06.94-2.06 2.06-.94-2.06-.94-.94-2.06-.94 2.06-2.06.94zm-11 1L8.5 8.5l.94-2.06 2.06-.94-2.06-.94L8.5 2.5l-.94 2.06-2.06.94zm10 10l.94 2.06.94-2.06 2.06-.94-2.06-.94-.94-2.06-.94 2.06-2.06.94z\"/><path d=\"M17.41 7.96l-1.37-1.37c-.4-.4-.92-.59-1.43-.59-.52 0-1.04.2-1.43.59L10.3 9.45l-7.72 7.72c-.78.78-.78 2.05 0 2.83L4 21.41c.39.39.9.59 1.41.59.51 0 1.02-.2 1.41-.59l7.78-7.78 2.81-2.81c.8-.78.8-2.07 0-2.86zM5.41 20L4 18.59l7.72-7.72 1.47 1.35L5.41 20z\"/>\n",
       "  </svg>\n",
       "      </button>\n",
       "      \n",
       "  <style>\n",
       "    .colab-df-container {\n",
       "      display:flex;\n",
       "      flex-wrap:wrap;\n",
       "      gap: 12px;\n",
       "    }\n",
       "\n",
       "    .colab-df-convert {\n",
       "      background-color: #E8F0FE;\n",
       "      border: none;\n",
       "      border-radius: 50%;\n",
       "      cursor: pointer;\n",
       "      display: none;\n",
       "      fill: #1967D2;\n",
       "      height: 32px;\n",
       "      padding: 0 0 0 0;\n",
       "      width: 32px;\n",
       "    }\n",
       "\n",
       "    .colab-df-convert:hover {\n",
       "      background-color: #E2EBFA;\n",
       "      box-shadow: 0px 1px 2px rgba(60, 64, 67, 0.3), 0px 1px 3px 1px rgba(60, 64, 67, 0.15);\n",
       "      fill: #174EA6;\n",
       "    }\n",
       "\n",
       "    [theme=dark] .colab-df-convert {\n",
       "      background-color: #3B4455;\n",
       "      fill: #D2E3FC;\n",
       "    }\n",
       "\n",
       "    [theme=dark] .colab-df-convert:hover {\n",
       "      background-color: #434B5C;\n",
       "      box-shadow: 0px 1px 3px 1px rgba(0, 0, 0, 0.15);\n",
       "      filter: drop-shadow(0px 1px 2px rgba(0, 0, 0, 0.3));\n",
       "      fill: #FFFFFF;\n",
       "    }\n",
       "  </style>\n",
       "\n",
       "      <script>\n",
       "        const buttonEl =\n",
       "          document.querySelector('#df-49d56774-368b-4a87-802d-e6ccc208fe85 button.colab-df-convert');\n",
       "        buttonEl.style.display =\n",
       "          google.colab.kernel.accessAllowed ? 'block' : 'none';\n",
       "\n",
       "        async function convertToInteractive(key) {\n",
       "          const element = document.querySelector('#df-49d56774-368b-4a87-802d-e6ccc208fe85');\n",
       "          const dataTable =\n",
       "            await google.colab.kernel.invokeFunction('convertToInteractive',\n",
       "                                                     [key], {});\n",
       "          if (!dataTable) return;\n",
       "\n",
       "          const docLinkHtml = 'Like what you see? Visit the ' +\n",
       "            '<a target=\"_blank\" href=https://colab.research.google.com/notebooks/data_table.ipynb>data table notebook</a>'\n",
       "            + ' to learn more about interactive tables.';\n",
       "          element.innerHTML = '';\n",
       "          dataTable['output_type'] = 'display_data';\n",
       "          await google.colab.output.renderOutput(dataTable, element);\n",
       "          const docLink = document.createElement('div');\n",
       "          docLink.innerHTML = docLinkHtml;\n",
       "          element.appendChild(docLink);\n",
       "        }\n",
       "      </script>\n",
       "    </div>\n",
       "  </div>\n",
       "  "
      ],
      "text/plain": [
       "                        count         mean          std     min   25%    50%  \\\n",
       "Age                    9023.0    40.614319    10.069179    18.0  33.0   39.0   \n",
       "Balance (euros)        9023.0  1307.948465  2890.960305 -6847.0  64.0  412.0   \n",
       "Last Contact Day       9023.0    15.903469     8.278990     1.0   8.0   16.0   \n",
       "Last Contact Month     9023.0     6.169567     2.362432     1.0   5.0    6.0   \n",
       "Last Contact Duration  9023.0   222.603015   208.980618     1.0  97.0  165.0   \n",
       "Campaign               9023.0     2.809154     3.103608     1.0   1.0    2.0   \n",
       "Pdays                  9023.0    34.828549    94.634851    -1.0  -1.0   -1.0   \n",
       "Previous               9023.0     0.522664     3.419387     0.0   0.0    0.0   \n",
       "Subscription           9023.0     0.000000     0.000000     0.0   0.0    0.0   \n",
       "\n",
       "                          75%      max  \n",
       "Age                      48.0     89.0  \n",
       "Balance (euros)        1330.5  59649.0  \n",
       "Last Contact Day         21.0     31.0  \n",
       "Last Contact Month        8.0     12.0  \n",
       "Last Contact Duration   281.0   4918.0  \n",
       "Campaign                  3.0     50.0  \n",
       "Pdays                    -1.0    871.0  \n",
       "Previous                  0.0    275.0  \n",
       "Subscription              0.0      0.0  "
      ]
     },
     "execution_count": 37,
     "metadata": {},
     "output_type": "execute_result"
    }
   ],
   "source": [
    "## Mostramos las métricas más importantes de las variables numéricas para personas que no acceden a la campaña.\n",
    "subcription = bank_ds.loc[bank_ds['Subscription']==0]\n",
    "subcription.describe().T"
   ]
  },
  {
   "cell_type": "markdown",
   "metadata": {
    "id": "IgYz6Znyp2X2"
   },
   "source": [
    "Se puede ver como aquellas personas que si acceden a la campaña de marketing tienen una duración de contacto promedio superior en comparación con aquellas que no acceden. Lo mismo suceden con el saldo promedio de los clientes."
   ]
  },
  {
   "cell_type": "markdown",
   "metadata": {
    "id": "bABALzIVWmob"
   },
   "source": [
    "Se procede con la división del data set en train y test.\n"
   ]
  },
  {
   "cell_type": "code",
   "execution_count": null,
   "metadata": {
    "id": "3izrpk3IHL2d"
   },
   "outputs": [],
   "source": [
    "## Dividimos el dataset en la variable dependiente \"y\", en este caso \"Subscription\", y las independientes \"x\".\n",
    "y = np.array(bank_ds[[\"Subscription\"]])\n",
    "x = bank_ds.drop(['Subscription'], axis=1)"
   ]
  },
  {
   "cell_type": "code",
   "execution_count": null,
   "metadata": {
    "id": "RQqFB4q-apEg"
   },
   "outputs": [],
   "source": [
    "## Separamos el dataset en train y test. Corresponderán a test el 30% de las muestras.\n",
    "xtrain, xtest, ytrain, ytest = train_test_split(x, y, test_size=0.3, random_state=4)"
   ]
  },
  {
   "cell_type": "code",
   "execution_count": null,
   "metadata": {
    "colab": {
     "base_uri": "https://localhost:8080/"
    },
    "executionInfo": {
     "elapsed": 16,
     "status": "ok",
     "timestamp": 1669298184586,
     "user": {
      "displayName": "MARTÍN NICOLAS AISCAR",
      "userId": "18143931623073660355"
     },
     "user_tz": 180
    },
    "id": "xTztnAZNC6S7",
    "outputId": "f6506567-dfd6-4574-c58d-9b30c4b8a9ff"
   },
   "outputs": [
    {
     "name": "stdout",
     "output_type": "stream",
     "text": [
      "Dimensiones del set de train: (7170, 14)\n",
      "Dimensiones del set de test: (3073, 14)\n"
     ]
    }
   ],
   "source": [
    "## Imprimimos las dimensiones del set de train y del de test.\n",
    "print(f'Dimensiones del set de train: {xtrain.shape}')\n",
    "print(f'Dimensiones del set de test: {xtest.shape}')"
   ]
  },
  {
   "cell_type": "markdown",
   "metadata": {
    "id": "-Pif7gnqkuX-"
   },
   "source": [
    "* Generación de variables dummies para las variables categóricas.\n",
    "\n",
    "* Estandarización de las varaibles numéricas."
   ]
  },
  {
   "cell_type": "code",
   "execution_count": null,
   "metadata": {
    "id": "ShHRILIcGYk2"
   },
   "outputs": [],
   "source": [
    "## Diferenciamos las variables numéricas de las categóricas.\n",
    "numeric_features = ['Age','Balance (euros)','Last Contact Day','Last Contact Month','Last Contact Duration','Campaign','Pdays','Previous']\n",
    "\n",
    "variables_cat= ['Job','Marital Status','Education','Credit','Housing Loan','Personal Loan']"
   ]
  },
  {
   "cell_type": "code",
   "execution_count": null,
   "metadata": {
    "id": "yJ6xzq49Hf4K"
   },
   "outputs": [],
   "source": [
    "## Definimos la transformación a realizar para las variables numéricas. \n",
    "## Las estandarizaremos utilizando StandardScaler.\n",
    "numeric_transformer = Pipeline(\n",
    "    steps=[(\"imputer\", SimpleImputer(strategy=\"median\")), (\"scaler\", StandardScaler())]\n",
    ")\n",
    "\n",
    "## Definimos la transformación a realizar para las variables categóricas.\n",
    "## Generaremos dummies utilizado OneHotEncoder.\n",
    "transformacion_cat = OneHotEncoder(handle_unknown=\"error\", sparse=False)"
   ]
  },
  {
   "cell_type": "code",
   "execution_count": null,
   "metadata": {
    "id": "nv69op8ZKZp6"
   },
   "outputs": [],
   "source": [
    "## Juntamos las transformaciones definidas previamente.\n",
    "## Definimos el ColumnTransformer que será ejecutado al momento del fitting.\n",
    "preprocesamiento = ColumnTransformer(\n",
    "    transformers=[ \n",
    "        (\"num\", numeric_transformer, numeric_features),\n",
    "        (\"cat\", transformacion_cat, variables_cat),\n",
    "    ]\n",
    ")"
   ]
  },
  {
   "cell_type": "code",
   "execution_count": null,
   "metadata": {
    "colab": {
     "base_uri": "https://localhost:8080/",
     "height": 424
    },
    "executionInfo": {
     "elapsed": 15,
     "status": "ok",
     "timestamp": 1669298184587,
     "user": {
      "displayName": "MARTÍN NICOLAS AISCAR",
      "userId": "18143931623073660355"
     },
     "user_tz": 180
    },
    "id": "1-cu_f8oViV6",
    "outputId": "9ba04f7c-5748-4f5f-e007-5bd7c9b1d0b7"
   },
   "outputs": [
    {
     "data": {
      "text/html": [
       "\n",
       "  <div id=\"df-82845a94-3147-4f7a-92c9-0b80f1ff383c\">\n",
       "    <div class=\"colab-df-container\">\n",
       "      <div>\n",
       "<style scoped>\n",
       "    .dataframe tbody tr th:only-of-type {\n",
       "        vertical-align: middle;\n",
       "    }\n",
       "\n",
       "    .dataframe tbody tr th {\n",
       "        vertical-align: top;\n",
       "    }\n",
       "\n",
       "    .dataframe thead th {\n",
       "        text-align: right;\n",
       "    }\n",
       "</style>\n",
       "<table border=\"1\" class=\"dataframe\">\n",
       "  <thead>\n",
       "    <tr style=\"text-align: right;\">\n",
       "      <th></th>\n",
       "      <th>0</th>\n",
       "      <th>1</th>\n",
       "      <th>2</th>\n",
       "      <th>3</th>\n",
       "      <th>4</th>\n",
       "      <th>5</th>\n",
       "      <th>6</th>\n",
       "      <th>7</th>\n",
       "      <th>8</th>\n",
       "      <th>9</th>\n",
       "      <th>...</th>\n",
       "      <th>21</th>\n",
       "      <th>22</th>\n",
       "      <th>23</th>\n",
       "      <th>24</th>\n",
       "      <th>25</th>\n",
       "      <th>26</th>\n",
       "      <th>27</th>\n",
       "      <th>28</th>\n",
       "      <th>29</th>\n",
       "      <th>30</th>\n",
       "    </tr>\n",
       "  </thead>\n",
       "  <tbody>\n",
       "    <tr>\n",
       "      <th>0</th>\n",
       "      <td>-1.118360</td>\n",
       "      <td>-0.330238</td>\n",
       "      <td>-1.303659</td>\n",
       "      <td>-0.490871</td>\n",
       "      <td>-0.475877</td>\n",
       "      <td>-0.579192</td>\n",
       "      <td>-0.399573</td>\n",
       "      <td>-0.177774</td>\n",
       "      <td>1.0</td>\n",
       "      <td>0.0</td>\n",
       "      <td>...</td>\n",
       "      <td>1.0</td>\n",
       "      <td>0.0</td>\n",
       "      <td>1.0</td>\n",
       "      <td>0.0</td>\n",
       "      <td>1.0</td>\n",
       "      <td>0.0</td>\n",
       "      <td>0.0</td>\n",
       "      <td>1.0</td>\n",
       "      <td>1.0</td>\n",
       "      <td>0.0</td>\n",
       "    </tr>\n",
       "    <tr>\n",
       "      <th>1</th>\n",
       "      <td>0.991795</td>\n",
       "      <td>-0.384241</td>\n",
       "      <td>-1.303659</td>\n",
       "      <td>-0.490871</td>\n",
       "      <td>0.341011</td>\n",
       "      <td>-0.579192</td>\n",
       "      <td>-0.399573</td>\n",
       "      <td>-0.177774</td>\n",
       "      <td>0.0</td>\n",
       "      <td>0.0</td>\n",
       "      <td>...</td>\n",
       "      <td>0.0</td>\n",
       "      <td>1.0</td>\n",
       "      <td>0.0</td>\n",
       "      <td>0.0</td>\n",
       "      <td>1.0</td>\n",
       "      <td>0.0</td>\n",
       "      <td>0.0</td>\n",
       "      <td>1.0</td>\n",
       "      <td>1.0</td>\n",
       "      <td>0.0</td>\n",
       "    </tr>\n",
       "    <tr>\n",
       "      <th>2</th>\n",
       "      <td>-0.734695</td>\n",
       "      <td>-0.461052</td>\n",
       "      <td>-1.303659</td>\n",
       "      <td>-0.490871</td>\n",
       "      <td>-0.789774</td>\n",
       "      <td>-0.579192</td>\n",
       "      <td>-0.399573</td>\n",
       "      <td>-0.177774</td>\n",
       "      <td>0.0</td>\n",
       "      <td>0.0</td>\n",
       "      <td>...</td>\n",
       "      <td>0.0</td>\n",
       "      <td>0.0</td>\n",
       "      <td>1.0</td>\n",
       "      <td>0.0</td>\n",
       "      <td>1.0</td>\n",
       "      <td>0.0</td>\n",
       "      <td>0.0</td>\n",
       "      <td>1.0</td>\n",
       "      <td>1.0</td>\n",
       "      <td>0.0</td>\n",
       "    </tr>\n",
       "    <tr>\n",
       "      <th>3</th>\n",
       "      <td>1.471376</td>\n",
       "      <td>-0.199759</td>\n",
       "      <td>-1.303659</td>\n",
       "      <td>-0.490871</td>\n",
       "      <td>-0.373766</td>\n",
       "      <td>-0.579192</td>\n",
       "      <td>-0.399573</td>\n",
       "      <td>-0.177774</td>\n",
       "      <td>0.0</td>\n",
       "      <td>0.0</td>\n",
       "      <td>...</td>\n",
       "      <td>0.0</td>\n",
       "      <td>0.0</td>\n",
       "      <td>0.0</td>\n",
       "      <td>1.0</td>\n",
       "      <td>1.0</td>\n",
       "      <td>0.0</td>\n",
       "      <td>0.0</td>\n",
       "      <td>1.0</td>\n",
       "      <td>1.0</td>\n",
       "      <td>0.0</td>\n",
       "    </tr>\n",
       "    <tr>\n",
       "      <th>4</th>\n",
       "      <td>-0.063282</td>\n",
       "      <td>-0.461052</td>\n",
       "      <td>-1.303659</td>\n",
       "      <td>-0.490871</td>\n",
       "      <td>-0.309474</td>\n",
       "      <td>-0.579192</td>\n",
       "      <td>-0.399573</td>\n",
       "      <td>-0.177774</td>\n",
       "      <td>0.0</td>\n",
       "      <td>0.0</td>\n",
       "      <td>...</td>\n",
       "      <td>0.0</td>\n",
       "      <td>1.0</td>\n",
       "      <td>0.0</td>\n",
       "      <td>0.0</td>\n",
       "      <td>1.0</td>\n",
       "      <td>0.0</td>\n",
       "      <td>0.0</td>\n",
       "      <td>1.0</td>\n",
       "      <td>0.0</td>\n",
       "      <td>1.0</td>\n",
       "    </tr>\n",
       "    <tr>\n",
       "      <th>...</th>\n",
       "      <td>...</td>\n",
       "      <td>...</td>\n",
       "      <td>...</td>\n",
       "      <td>...</td>\n",
       "      <td>...</td>\n",
       "      <td>...</td>\n",
       "      <td>...</td>\n",
       "      <td>...</td>\n",
       "      <td>...</td>\n",
       "      <td>...</td>\n",
       "      <td>...</td>\n",
       "      <td>...</td>\n",
       "      <td>...</td>\n",
       "      <td>...</td>\n",
       "      <td>...</td>\n",
       "      <td>...</td>\n",
       "      <td>...</td>\n",
       "      <td>...</td>\n",
       "      <td>...</td>\n",
       "      <td>...</td>\n",
       "      <td>...</td>\n",
       "    </tr>\n",
       "    <tr>\n",
       "      <th>10238</th>\n",
       "      <td>1.279543</td>\n",
       "      <td>-0.438914</td>\n",
       "      <td>-0.579460</td>\n",
       "      <td>1.991475</td>\n",
       "      <td>-0.362421</td>\n",
       "      <td>-0.579192</td>\n",
       "      <td>-0.399573</td>\n",
       "      <td>-0.177774</td>\n",
       "      <td>1.0</td>\n",
       "      <td>0.0</td>\n",
       "      <td>...</td>\n",
       "      <td>0.0</td>\n",
       "      <td>0.0</td>\n",
       "      <td>1.0</td>\n",
       "      <td>0.0</td>\n",
       "      <td>1.0</td>\n",
       "      <td>0.0</td>\n",
       "      <td>0.0</td>\n",
       "      <td>1.0</td>\n",
       "      <td>1.0</td>\n",
       "      <td>0.0</td>\n",
       "    </tr>\n",
       "    <tr>\n",
       "      <th>10239</th>\n",
       "      <td>2.814201</td>\n",
       "      <td>-0.352376</td>\n",
       "      <td>-0.096661</td>\n",
       "      <td>1.991475</td>\n",
       "      <td>-0.699009</td>\n",
       "      <td>-0.579192</td>\n",
       "      <td>0.595455</td>\n",
       "      <td>1.928405</td>\n",
       "      <td>0.0</td>\n",
       "      <td>0.0</td>\n",
       "      <td>...</td>\n",
       "      <td>0.0</td>\n",
       "      <td>1.0</td>\n",
       "      <td>0.0</td>\n",
       "      <td>0.0</td>\n",
       "      <td>1.0</td>\n",
       "      <td>0.0</td>\n",
       "      <td>1.0</td>\n",
       "      <td>0.0</td>\n",
       "      <td>1.0</td>\n",
       "      <td>0.0</td>\n",
       "    </tr>\n",
       "    <tr>\n",
       "      <th>10240</th>\n",
       "      <td>1.759124</td>\n",
       "      <td>-0.414764</td>\n",
       "      <td>0.024039</td>\n",
       "      <td>1.991475</td>\n",
       "      <td>-0.381330</td>\n",
       "      <td>-0.243444</td>\n",
       "      <td>1.528936</td>\n",
       "      <td>1.326640</td>\n",
       "      <td>0.0</td>\n",
       "      <td>0.0</td>\n",
       "      <td>...</td>\n",
       "      <td>0.0</td>\n",
       "      <td>0.0</td>\n",
       "      <td>0.0</td>\n",
       "      <td>1.0</td>\n",
       "      <td>1.0</td>\n",
       "      <td>0.0</td>\n",
       "      <td>0.0</td>\n",
       "      <td>1.0</td>\n",
       "      <td>0.0</td>\n",
       "      <td>1.0</td>\n",
       "    </tr>\n",
       "    <tr>\n",
       "      <th>10241</th>\n",
       "      <td>2.622369</td>\n",
       "      <td>-0.076659</td>\n",
       "      <td>0.024039</td>\n",
       "      <td>1.991475</td>\n",
       "      <td>-0.192236</td>\n",
       "      <td>-0.579192</td>\n",
       "      <td>1.528936</td>\n",
       "      <td>1.627523</td>\n",
       "      <td>0.0</td>\n",
       "      <td>0.0</td>\n",
       "      <td>...</td>\n",
       "      <td>0.0</td>\n",
       "      <td>0.0</td>\n",
       "      <td>1.0</td>\n",
       "      <td>0.0</td>\n",
       "      <td>1.0</td>\n",
       "      <td>0.0</td>\n",
       "      <td>1.0</td>\n",
       "      <td>0.0</td>\n",
       "      <td>1.0</td>\n",
       "      <td>0.0</td>\n",
       "    </tr>\n",
       "    <tr>\n",
       "      <th>10242</th>\n",
       "      <td>1.567292</td>\n",
       "      <td>-0.236991</td>\n",
       "      <td>0.144738</td>\n",
       "      <td>1.991475</td>\n",
       "      <td>0.927203</td>\n",
       "      <td>0.428052</td>\n",
       "      <td>-0.399573</td>\n",
       "      <td>-0.177774</td>\n",
       "      <td>0.0</td>\n",
       "      <td>1.0</td>\n",
       "      <td>...</td>\n",
       "      <td>0.0</td>\n",
       "      <td>0.0</td>\n",
       "      <td>1.0</td>\n",
       "      <td>0.0</td>\n",
       "      <td>1.0</td>\n",
       "      <td>0.0</td>\n",
       "      <td>1.0</td>\n",
       "      <td>0.0</td>\n",
       "      <td>1.0</td>\n",
       "      <td>0.0</td>\n",
       "    </tr>\n",
       "  </tbody>\n",
       "</table>\n",
       "<p>10243 rows × 31 columns</p>\n",
       "</div>\n",
       "      <button class=\"colab-df-convert\" onclick=\"convertToInteractive('df-82845a94-3147-4f7a-92c9-0b80f1ff383c')\"\n",
       "              title=\"Convert this dataframe to an interactive table.\"\n",
       "              style=\"display:none;\">\n",
       "        \n",
       "  <svg xmlns=\"http://www.w3.org/2000/svg\" height=\"24px\"viewBox=\"0 0 24 24\"\n",
       "       width=\"24px\">\n",
       "    <path d=\"M0 0h24v24H0V0z\" fill=\"none\"/>\n",
       "    <path d=\"M18.56 5.44l.94 2.06.94-2.06 2.06-.94-2.06-.94-.94-2.06-.94 2.06-2.06.94zm-11 1L8.5 8.5l.94-2.06 2.06-.94-2.06-.94L8.5 2.5l-.94 2.06-2.06.94zm10 10l.94 2.06.94-2.06 2.06-.94-2.06-.94-.94-2.06-.94 2.06-2.06.94z\"/><path d=\"M17.41 7.96l-1.37-1.37c-.4-.4-.92-.59-1.43-.59-.52 0-1.04.2-1.43.59L10.3 9.45l-7.72 7.72c-.78.78-.78 2.05 0 2.83L4 21.41c.39.39.9.59 1.41.59.51 0 1.02-.2 1.41-.59l7.78-7.78 2.81-2.81c.8-.78.8-2.07 0-2.86zM5.41 20L4 18.59l7.72-7.72 1.47 1.35L5.41 20z\"/>\n",
       "  </svg>\n",
       "      </button>\n",
       "      \n",
       "  <style>\n",
       "    .colab-df-container {\n",
       "      display:flex;\n",
       "      flex-wrap:wrap;\n",
       "      gap: 12px;\n",
       "    }\n",
       "\n",
       "    .colab-df-convert {\n",
       "      background-color: #E8F0FE;\n",
       "      border: none;\n",
       "      border-radius: 50%;\n",
       "      cursor: pointer;\n",
       "      display: none;\n",
       "      fill: #1967D2;\n",
       "      height: 32px;\n",
       "      padding: 0 0 0 0;\n",
       "      width: 32px;\n",
       "    }\n",
       "\n",
       "    .colab-df-convert:hover {\n",
       "      background-color: #E2EBFA;\n",
       "      box-shadow: 0px 1px 2px rgba(60, 64, 67, 0.3), 0px 1px 3px 1px rgba(60, 64, 67, 0.15);\n",
       "      fill: #174EA6;\n",
       "    }\n",
       "\n",
       "    [theme=dark] .colab-df-convert {\n",
       "      background-color: #3B4455;\n",
       "      fill: #D2E3FC;\n",
       "    }\n",
       "\n",
       "    [theme=dark] .colab-df-convert:hover {\n",
       "      background-color: #434B5C;\n",
       "      box-shadow: 0px 1px 3px 1px rgba(0, 0, 0, 0.15);\n",
       "      filter: drop-shadow(0px 1px 2px rgba(0, 0, 0, 0.3));\n",
       "      fill: #FFFFFF;\n",
       "    }\n",
       "  </style>\n",
       "\n",
       "      <script>\n",
       "        const buttonEl =\n",
       "          document.querySelector('#df-82845a94-3147-4f7a-92c9-0b80f1ff383c button.colab-df-convert');\n",
       "        buttonEl.style.display =\n",
       "          google.colab.kernel.accessAllowed ? 'block' : 'none';\n",
       "\n",
       "        async function convertToInteractive(key) {\n",
       "          const element = document.querySelector('#df-82845a94-3147-4f7a-92c9-0b80f1ff383c');\n",
       "          const dataTable =\n",
       "            await google.colab.kernel.invokeFunction('convertToInteractive',\n",
       "                                                     [key], {});\n",
       "          if (!dataTable) return;\n",
       "\n",
       "          const docLinkHtml = 'Like what you see? Visit the ' +\n",
       "            '<a target=\"_blank\" href=https://colab.research.google.com/notebooks/data_table.ipynb>data table notebook</a>'\n",
       "            + ' to learn more about interactive tables.';\n",
       "          element.innerHTML = '';\n",
       "          dataTable['output_type'] = 'display_data';\n",
       "          await google.colab.output.renderOutput(dataTable, element);\n",
       "          const docLink = document.createElement('div');\n",
       "          docLink.innerHTML = docLinkHtml;\n",
       "          element.appendChild(docLink);\n",
       "        }\n",
       "      </script>\n",
       "    </div>\n",
       "  </div>\n",
       "  "
      ],
      "text/plain": [
       "             0         1         2         3         4         5         6   \\\n",
       "0     -1.118360 -0.330238 -1.303659 -0.490871 -0.475877 -0.579192 -0.399573   \n",
       "1      0.991795 -0.384241 -1.303659 -0.490871  0.341011 -0.579192 -0.399573   \n",
       "2     -0.734695 -0.461052 -1.303659 -0.490871 -0.789774 -0.579192 -0.399573   \n",
       "3      1.471376 -0.199759 -1.303659 -0.490871 -0.373766 -0.579192 -0.399573   \n",
       "4     -0.063282 -0.461052 -1.303659 -0.490871 -0.309474 -0.579192 -0.399573   \n",
       "...         ...       ...       ...       ...       ...       ...       ...   \n",
       "10238  1.279543 -0.438914 -0.579460  1.991475 -0.362421 -0.579192 -0.399573   \n",
       "10239  2.814201 -0.352376 -0.096661  1.991475 -0.699009 -0.579192  0.595455   \n",
       "10240  1.759124 -0.414764  0.024039  1.991475 -0.381330 -0.243444  1.528936   \n",
       "10241  2.622369 -0.076659  0.024039  1.991475 -0.192236 -0.579192  1.528936   \n",
       "10242  1.567292 -0.236991  0.144738  1.991475  0.927203  0.428052 -0.399573   \n",
       "\n",
       "             7    8    9   ...   21   22   23   24   25   26   27   28   29  \\\n",
       "0     -0.177774  1.0  0.0  ...  1.0  0.0  1.0  0.0  1.0  0.0  0.0  1.0  1.0   \n",
       "1     -0.177774  0.0  0.0  ...  0.0  1.0  0.0  0.0  1.0  0.0  0.0  1.0  1.0   \n",
       "2     -0.177774  0.0  0.0  ...  0.0  0.0  1.0  0.0  1.0  0.0  0.0  1.0  1.0   \n",
       "3     -0.177774  0.0  0.0  ...  0.0  0.0  0.0  1.0  1.0  0.0  0.0  1.0  1.0   \n",
       "4     -0.177774  0.0  0.0  ...  0.0  1.0  0.0  0.0  1.0  0.0  0.0  1.0  0.0   \n",
       "...         ...  ...  ...  ...  ...  ...  ...  ...  ...  ...  ...  ...  ...   \n",
       "10238 -0.177774  1.0  0.0  ...  0.0  0.0  1.0  0.0  1.0  0.0  0.0  1.0  1.0   \n",
       "10239  1.928405  0.0  0.0  ...  0.0  1.0  0.0  0.0  1.0  0.0  1.0  0.0  1.0   \n",
       "10240  1.326640  0.0  0.0  ...  0.0  0.0  0.0  1.0  1.0  0.0  0.0  1.0  0.0   \n",
       "10241  1.627523  0.0  0.0  ...  0.0  0.0  1.0  0.0  1.0  0.0  1.0  0.0  1.0   \n",
       "10242 -0.177774  0.0  1.0  ...  0.0  0.0  1.0  0.0  1.0  0.0  1.0  0.0  1.0   \n",
       "\n",
       "        30  \n",
       "0      0.0  \n",
       "1      0.0  \n",
       "2      0.0  \n",
       "3      0.0  \n",
       "4      1.0  \n",
       "...    ...  \n",
       "10238  0.0  \n",
       "10239  0.0  \n",
       "10240  1.0  \n",
       "10241  0.0  \n",
       "10242  0.0  \n",
       "\n",
       "[10243 rows x 31 columns]"
      ]
     },
     "execution_count": 44,
     "metadata": {},
     "output_type": "execute_result"
    }
   ],
   "source": [
    "## Imprimimos como queda la matriz X al aplicar el preprosesamiento definido.\n",
    "pd.DataFrame(preprocesamiento.fit_transform(x))"
   ]
  },
  {
   "cell_type": "markdown",
   "metadata": {
    "id": "aIptcKRefEiS"
   },
   "source": [
    "##**Pipeline de Machine Learning**"
   ]
  },
  {
   "cell_type": "code",
   "execution_count": null,
   "metadata": {
    "id": "BVuOwEAeino7"
   },
   "outputs": [],
   "source": [
    "## Creamos un Pipeline para aplicar secuencialmente la lista de transformaciones definida previamente y un estimador final.\n",
    "pipeline1 = Pipeline(\n",
    "    steps=[(\"preprocesamiento\",preprocesamiento),(\"estimador\",SVC())]\n",
    ")"
   ]
  },
  {
   "cell_type": "code",
   "execution_count": null,
   "metadata": {
    "colab": {
     "base_uri": "https://localhost:8080/",
     "height": 227
    },
    "executionInfo": {
     "elapsed": 15,
     "status": "ok",
     "timestamp": 1669298184588,
     "user": {
      "displayName": "MARTÍN NICOLAS AISCAR",
      "userId": "18143931623073660355"
     },
     "user_tz": 180
    },
    "id": "erRpuKQsNXcz",
    "outputId": "aaa82ff2-30b3-482d-c6b9-ccf57ef33eb3"
   },
   "outputs": [
    {
     "data": {
      "text/html": [
       "<style>#sk-c2094049-3483-46c0-a794-a9a4b9e0489f {color: black;background-color: white;}#sk-c2094049-3483-46c0-a794-a9a4b9e0489f pre{padding: 0;}#sk-c2094049-3483-46c0-a794-a9a4b9e0489f div.sk-toggleable {background-color: white;}#sk-c2094049-3483-46c0-a794-a9a4b9e0489f label.sk-toggleable__label {cursor: pointer;display: block;width: 100%;margin-bottom: 0;padding: 0.3em;box-sizing: border-box;text-align: center;}#sk-c2094049-3483-46c0-a794-a9a4b9e0489f label.sk-toggleable__label-arrow:before {content: \"▸\";float: left;margin-right: 0.25em;color: #696969;}#sk-c2094049-3483-46c0-a794-a9a4b9e0489f label.sk-toggleable__label-arrow:hover:before {color: black;}#sk-c2094049-3483-46c0-a794-a9a4b9e0489f div.sk-estimator:hover label.sk-toggleable__label-arrow:before {color: black;}#sk-c2094049-3483-46c0-a794-a9a4b9e0489f div.sk-toggleable__content {max-height: 0;max-width: 0;overflow: hidden;text-align: left;background-color: #f0f8ff;}#sk-c2094049-3483-46c0-a794-a9a4b9e0489f div.sk-toggleable__content pre {margin: 0.2em;color: black;border-radius: 0.25em;background-color: #f0f8ff;}#sk-c2094049-3483-46c0-a794-a9a4b9e0489f input.sk-toggleable__control:checked~div.sk-toggleable__content {max-height: 200px;max-width: 100%;overflow: auto;}#sk-c2094049-3483-46c0-a794-a9a4b9e0489f input.sk-toggleable__control:checked~label.sk-toggleable__label-arrow:before {content: \"▾\";}#sk-c2094049-3483-46c0-a794-a9a4b9e0489f div.sk-estimator input.sk-toggleable__control:checked~label.sk-toggleable__label {background-color: #d4ebff;}#sk-c2094049-3483-46c0-a794-a9a4b9e0489f div.sk-label input.sk-toggleable__control:checked~label.sk-toggleable__label {background-color: #d4ebff;}#sk-c2094049-3483-46c0-a794-a9a4b9e0489f input.sk-hidden--visually {border: 0;clip: rect(1px 1px 1px 1px);clip: rect(1px, 1px, 1px, 1px);height: 1px;margin: -1px;overflow: hidden;padding: 0;position: absolute;width: 1px;}#sk-c2094049-3483-46c0-a794-a9a4b9e0489f div.sk-estimator {font-family: monospace;background-color: #f0f8ff;border: 1px dotted black;border-radius: 0.25em;box-sizing: border-box;margin-bottom: 0.5em;}#sk-c2094049-3483-46c0-a794-a9a4b9e0489f div.sk-estimator:hover {background-color: #d4ebff;}#sk-c2094049-3483-46c0-a794-a9a4b9e0489f div.sk-parallel-item::after {content: \"\";width: 100%;border-bottom: 1px solid gray;flex-grow: 1;}#sk-c2094049-3483-46c0-a794-a9a4b9e0489f div.sk-label:hover label.sk-toggleable__label {background-color: #d4ebff;}#sk-c2094049-3483-46c0-a794-a9a4b9e0489f div.sk-serial::before {content: \"\";position: absolute;border-left: 1px solid gray;box-sizing: border-box;top: 2em;bottom: 0;left: 50%;}#sk-c2094049-3483-46c0-a794-a9a4b9e0489f div.sk-serial {display: flex;flex-direction: column;align-items: center;background-color: white;padding-right: 0.2em;padding-left: 0.2em;}#sk-c2094049-3483-46c0-a794-a9a4b9e0489f div.sk-item {z-index: 1;}#sk-c2094049-3483-46c0-a794-a9a4b9e0489f div.sk-parallel {display: flex;align-items: stretch;justify-content: center;background-color: white;}#sk-c2094049-3483-46c0-a794-a9a4b9e0489f div.sk-parallel::before {content: \"\";position: absolute;border-left: 1px solid gray;box-sizing: border-box;top: 2em;bottom: 0;left: 50%;}#sk-c2094049-3483-46c0-a794-a9a4b9e0489f div.sk-parallel-item {display: flex;flex-direction: column;position: relative;background-color: white;}#sk-c2094049-3483-46c0-a794-a9a4b9e0489f div.sk-parallel-item:first-child::after {align-self: flex-end;width: 50%;}#sk-c2094049-3483-46c0-a794-a9a4b9e0489f div.sk-parallel-item:last-child::after {align-self: flex-start;width: 50%;}#sk-c2094049-3483-46c0-a794-a9a4b9e0489f div.sk-parallel-item:only-child::after {width: 0;}#sk-c2094049-3483-46c0-a794-a9a4b9e0489f div.sk-dashed-wrapped {border: 1px dashed gray;margin: 0 0.4em 0.5em 0.4em;box-sizing: border-box;padding-bottom: 0.4em;background-color: white;position: relative;}#sk-c2094049-3483-46c0-a794-a9a4b9e0489f div.sk-label label {font-family: monospace;font-weight: bold;background-color: white;display: inline-block;line-height: 1.2em;}#sk-c2094049-3483-46c0-a794-a9a4b9e0489f div.sk-label-container {position: relative;z-index: 2;text-align: center;}#sk-c2094049-3483-46c0-a794-a9a4b9e0489f div.sk-container {/* jupyter's `normalize.less` sets `[hidden] { display: none; }` but bootstrap.min.css set `[hidden] { display: none !important; }` so we also need the `!important` here to be able to override the default hidden behavior on the sphinx rendered scikit-learn.org. See: https://github.com/scikit-learn/scikit-learn/issues/21755 */display: inline-block !important;position: relative;}#sk-c2094049-3483-46c0-a794-a9a4b9e0489f div.sk-text-repr-fallback {display: none;}</style><div id=\"sk-c2094049-3483-46c0-a794-a9a4b9e0489f\" class=\"sk-top-container\"><div class=\"sk-text-repr-fallback\"><pre>Pipeline(steps=[(&#x27;preprocesamiento&#x27;,\n",
       "                 ColumnTransformer(transformers=[(&#x27;num&#x27;,\n",
       "                                                  Pipeline(steps=[(&#x27;imputer&#x27;,\n",
       "                                                                   SimpleImputer(strategy=&#x27;median&#x27;)),\n",
       "                                                                  (&#x27;scaler&#x27;,\n",
       "                                                                   StandardScaler())]),\n",
       "                                                  [&#x27;Age&#x27;, &#x27;Balance (euros)&#x27;,\n",
       "                                                   &#x27;Last Contact Day&#x27;,\n",
       "                                                   &#x27;Last Contact Month&#x27;,\n",
       "                                                   &#x27;Last Contact Duration&#x27;,\n",
       "                                                   &#x27;Campaign&#x27;, &#x27;Pdays&#x27;,\n",
       "                                                   &#x27;Previous&#x27;]),\n",
       "                                                 (&#x27;cat&#x27;,\n",
       "                                                  OneHotEncoder(sparse=False),\n",
       "                                                  [&#x27;Job&#x27;, &#x27;Marital Status&#x27;,\n",
       "                                                   &#x27;Education&#x27;, &#x27;Credit&#x27;,\n",
       "                                                   &#x27;Housing Loan&#x27;,\n",
       "                                                   &#x27;Personal Loan&#x27;])])),\n",
       "                (&#x27;estimador&#x27;, SVC())])</pre><b>Please rerun this cell to show the HTML repr or trust the notebook.</b></div><div class=\"sk-container\" hidden><div class=\"sk-item sk-dashed-wrapped\"><div class=\"sk-label-container\"><div class=\"sk-label sk-toggleable\"><input class=\"sk-toggleable__control sk-hidden--visually\" id=\"8c747fc6-649b-473c-8f5a-694e59b76566\" type=\"checkbox\" ><label for=\"8c747fc6-649b-473c-8f5a-694e59b76566\" class=\"sk-toggleable__label sk-toggleable__label-arrow\">Pipeline</label><div class=\"sk-toggleable__content\"><pre>Pipeline(steps=[(&#x27;preprocesamiento&#x27;,\n",
       "                 ColumnTransformer(transformers=[(&#x27;num&#x27;,\n",
       "                                                  Pipeline(steps=[(&#x27;imputer&#x27;,\n",
       "                                                                   SimpleImputer(strategy=&#x27;median&#x27;)),\n",
       "                                                                  (&#x27;scaler&#x27;,\n",
       "                                                                   StandardScaler())]),\n",
       "                                                  [&#x27;Age&#x27;, &#x27;Balance (euros)&#x27;,\n",
       "                                                   &#x27;Last Contact Day&#x27;,\n",
       "                                                   &#x27;Last Contact Month&#x27;,\n",
       "                                                   &#x27;Last Contact Duration&#x27;,\n",
       "                                                   &#x27;Campaign&#x27;, &#x27;Pdays&#x27;,\n",
       "                                                   &#x27;Previous&#x27;]),\n",
       "                                                 (&#x27;cat&#x27;,\n",
       "                                                  OneHotEncoder(sparse=False),\n",
       "                                                  [&#x27;Job&#x27;, &#x27;Marital Status&#x27;,\n",
       "                                                   &#x27;Education&#x27;, &#x27;Credit&#x27;,\n",
       "                                                   &#x27;Housing Loan&#x27;,\n",
       "                                                   &#x27;Personal Loan&#x27;])])),\n",
       "                (&#x27;estimador&#x27;, SVC())])</pre></div></div></div><div class=\"sk-serial\"><div class=\"sk-item sk-dashed-wrapped\"><div class=\"sk-label-container\"><div class=\"sk-label sk-toggleable\"><input class=\"sk-toggleable__control sk-hidden--visually\" id=\"85f242ec-6b82-4c78-9881-2e88ea4df212\" type=\"checkbox\" ><label for=\"85f242ec-6b82-4c78-9881-2e88ea4df212\" class=\"sk-toggleable__label sk-toggleable__label-arrow\">preprocesamiento: ColumnTransformer</label><div class=\"sk-toggleable__content\"><pre>ColumnTransformer(transformers=[(&#x27;num&#x27;,\n",
       "                                 Pipeline(steps=[(&#x27;imputer&#x27;,\n",
       "                                                  SimpleImputer(strategy=&#x27;median&#x27;)),\n",
       "                                                 (&#x27;scaler&#x27;, StandardScaler())]),\n",
       "                                 [&#x27;Age&#x27;, &#x27;Balance (euros)&#x27;, &#x27;Last Contact Day&#x27;,\n",
       "                                  &#x27;Last Contact Month&#x27;, &#x27;Last Contact Duration&#x27;,\n",
       "                                  &#x27;Campaign&#x27;, &#x27;Pdays&#x27;, &#x27;Previous&#x27;]),\n",
       "                                (&#x27;cat&#x27;, OneHotEncoder(sparse=False),\n",
       "                                 [&#x27;Job&#x27;, &#x27;Marital Status&#x27;, &#x27;Education&#x27;,\n",
       "                                  &#x27;Credit&#x27;, &#x27;Housing Loan&#x27;, &#x27;Personal Loan&#x27;])])</pre></div></div></div><div class=\"sk-parallel\"><div class=\"sk-parallel-item\"><div class=\"sk-item\"><div class=\"sk-label-container\"><div class=\"sk-label sk-toggleable\"><input class=\"sk-toggleable__control sk-hidden--visually\" id=\"d1b84b4a-cc6a-4c05-b1fb-3f18f73ced33\" type=\"checkbox\" ><label for=\"d1b84b4a-cc6a-4c05-b1fb-3f18f73ced33\" class=\"sk-toggleable__label sk-toggleable__label-arrow\">num</label><div class=\"sk-toggleable__content\"><pre>[&#x27;Age&#x27;, &#x27;Balance (euros)&#x27;, &#x27;Last Contact Day&#x27;, &#x27;Last Contact Month&#x27;, &#x27;Last Contact Duration&#x27;, &#x27;Campaign&#x27;, &#x27;Pdays&#x27;, &#x27;Previous&#x27;]</pre></div></div></div><div class=\"sk-serial\"><div class=\"sk-item\"><div class=\"sk-serial\"><div class=\"sk-item\"><div class=\"sk-estimator sk-toggleable\"><input class=\"sk-toggleable__control sk-hidden--visually\" id=\"ef375f74-baa5-4611-af99-bc778d48bc2c\" type=\"checkbox\" ><label for=\"ef375f74-baa5-4611-af99-bc778d48bc2c\" class=\"sk-toggleable__label sk-toggleable__label-arrow\">SimpleImputer</label><div class=\"sk-toggleable__content\"><pre>SimpleImputer(strategy=&#x27;median&#x27;)</pre></div></div></div><div class=\"sk-item\"><div class=\"sk-estimator sk-toggleable\"><input class=\"sk-toggleable__control sk-hidden--visually\" id=\"b9293316-4521-4e14-9dfd-c9da61c3d10c\" type=\"checkbox\" ><label for=\"b9293316-4521-4e14-9dfd-c9da61c3d10c\" class=\"sk-toggleable__label sk-toggleable__label-arrow\">StandardScaler</label><div class=\"sk-toggleable__content\"><pre>StandardScaler()</pre></div></div></div></div></div></div></div></div><div class=\"sk-parallel-item\"><div class=\"sk-item\"><div class=\"sk-label-container\"><div class=\"sk-label sk-toggleable\"><input class=\"sk-toggleable__control sk-hidden--visually\" id=\"fd64f694-f761-4ab4-a922-ce5cec3d33dd\" type=\"checkbox\" ><label for=\"fd64f694-f761-4ab4-a922-ce5cec3d33dd\" class=\"sk-toggleable__label sk-toggleable__label-arrow\">cat</label><div class=\"sk-toggleable__content\"><pre>[&#x27;Job&#x27;, &#x27;Marital Status&#x27;, &#x27;Education&#x27;, &#x27;Credit&#x27;, &#x27;Housing Loan&#x27;, &#x27;Personal Loan&#x27;]</pre></div></div></div><div class=\"sk-serial\"><div class=\"sk-item\"><div class=\"sk-estimator sk-toggleable\"><input class=\"sk-toggleable__control sk-hidden--visually\" id=\"7e326de1-c64a-4bb3-95b1-a9b5aad88317\" type=\"checkbox\" ><label for=\"7e326de1-c64a-4bb3-95b1-a9b5aad88317\" class=\"sk-toggleable__label sk-toggleable__label-arrow\">OneHotEncoder</label><div class=\"sk-toggleable__content\"><pre>OneHotEncoder(sparse=False)</pre></div></div></div></div></div></div></div></div><div class=\"sk-item\"><div class=\"sk-estimator sk-toggleable\"><input class=\"sk-toggleable__control sk-hidden--visually\" id=\"75964309-0b95-4519-a0b1-6576867ce5d7\" type=\"checkbox\" ><label for=\"75964309-0b95-4519-a0b1-6576867ce5d7\" class=\"sk-toggleable__label sk-toggleable__label-arrow\">SVC</label><div class=\"sk-toggleable__content\"><pre>SVC()</pre></div></div></div></div></div></div></div>"
      ],
      "text/plain": [
       "Pipeline(steps=[('preprocesamiento',\n",
       "                 ColumnTransformer(transformers=[('num',\n",
       "                                                  Pipeline(steps=[('imputer',\n",
       "                                                                   SimpleImputer(strategy='median')),\n",
       "                                                                  ('scaler',\n",
       "                                                                   StandardScaler())]),\n",
       "                                                  ['Age', 'Balance (euros)',\n",
       "                                                   'Last Contact Day',\n",
       "                                                   'Last Contact Month',\n",
       "                                                   'Last Contact Duration',\n",
       "                                                   'Campaign', 'Pdays',\n",
       "                                                   'Previous']),\n",
       "                                                 ('cat',\n",
       "                                                  OneHotEncoder(sparse=False),\n",
       "                                                  ['Job', 'Marital Status',\n",
       "                                                   'Education', 'Credit',\n",
       "                                                   'Housing Loan',\n",
       "                                                   'Personal Loan'])])),\n",
       "                ('estimador', SVC())])"
      ]
     },
     "execution_count": 46,
     "metadata": {},
     "output_type": "execute_result"
    }
   ],
   "source": [
    "## Imprimimos el gráfico del workflow diseñado hasta acá.\n",
    "set_config(display=\"diagram\")\n",
    "pipeline1"
   ]
  },
  {
   "cell_type": "code",
   "execution_count": null,
   "metadata": {
    "id": "A7BAg_NcioUG"
   },
   "outputs": [],
   "source": [
    "## Definimos los hiperparámetros de los modelos a comparar.\n",
    "parametros = [\n",
    "    {\n",
    "        \"estimador\": (LogisticRegression(),),\n",
    "          \"estimador__C\": (0.001,1,10)\n",
    "    },\n",
    "    {\n",
    "        \"estimador\": (SVC(probability=True),),\n",
    "          \"estimador__kernel\":('linear', 'rbf'), \n",
    "          \"estimador__C\":(0.1,1, 10), \n",
    "          \"estimador__gamma\":(0.001, 0.01, 0.1,1, 10)          \n",
    "    }\n",
    "]"
   ]
  },
  {
   "cell_type": "code",
   "execution_count": null,
   "metadata": {
    "id": "-e_3HU7PoEv4"
   },
   "outputs": [],
   "source": [
    "## Creamos el Grid Search + Cross Validation.\n",
    "grid_search1 = GridSearchCV(pipeline1, parametros,\n",
    "                  refit = True,\n",
    "                   cv = 5,\n",
    "                   verbose=40)"
   ]
  },
  {
   "cell_type": "code",
   "execution_count": null,
   "metadata": {
    "colab": {
     "base_uri": "https://localhost:8080/",
     "height": 245
    },
    "executionInfo": {
     "elapsed": 633537,
     "status": "ok",
     "timestamp": 1669299044666,
     "user": {
      "displayName": "MARTÍN NICOLAS AISCAR",
      "userId": "18143931623073660355"
     },
     "user_tz": 180
    },
    "id": "0v56ZpEuoKcq",
    "outputId": "26550729-d94e-4207-eb02-223014674755"
   },
   "outputs": [
    {
     "name": "stdout",
     "output_type": "stream",
     "text": [
      "Fitting 5 folds for each of 33 candidates, totalling 165 fits\n"
     ]
    },
    {
     "data": {
      "text/html": [
       "<style>#sk-2a01e718-d55c-49fc-83e8-53d2b2674bfc {color: black;background-color: white;}#sk-2a01e718-d55c-49fc-83e8-53d2b2674bfc pre{padding: 0;}#sk-2a01e718-d55c-49fc-83e8-53d2b2674bfc div.sk-toggleable {background-color: white;}#sk-2a01e718-d55c-49fc-83e8-53d2b2674bfc label.sk-toggleable__label {cursor: pointer;display: block;width: 100%;margin-bottom: 0;padding: 0.3em;box-sizing: border-box;text-align: center;}#sk-2a01e718-d55c-49fc-83e8-53d2b2674bfc label.sk-toggleable__label-arrow:before {content: \"▸\";float: left;margin-right: 0.25em;color: #696969;}#sk-2a01e718-d55c-49fc-83e8-53d2b2674bfc label.sk-toggleable__label-arrow:hover:before {color: black;}#sk-2a01e718-d55c-49fc-83e8-53d2b2674bfc div.sk-estimator:hover label.sk-toggleable__label-arrow:before {color: black;}#sk-2a01e718-d55c-49fc-83e8-53d2b2674bfc div.sk-toggleable__content {max-height: 0;max-width: 0;overflow: hidden;text-align: left;background-color: #f0f8ff;}#sk-2a01e718-d55c-49fc-83e8-53d2b2674bfc div.sk-toggleable__content pre {margin: 0.2em;color: black;border-radius: 0.25em;background-color: #f0f8ff;}#sk-2a01e718-d55c-49fc-83e8-53d2b2674bfc input.sk-toggleable__control:checked~div.sk-toggleable__content {max-height: 200px;max-width: 100%;overflow: auto;}#sk-2a01e718-d55c-49fc-83e8-53d2b2674bfc input.sk-toggleable__control:checked~label.sk-toggleable__label-arrow:before {content: \"▾\";}#sk-2a01e718-d55c-49fc-83e8-53d2b2674bfc div.sk-estimator input.sk-toggleable__control:checked~label.sk-toggleable__label {background-color: #d4ebff;}#sk-2a01e718-d55c-49fc-83e8-53d2b2674bfc div.sk-label input.sk-toggleable__control:checked~label.sk-toggleable__label {background-color: #d4ebff;}#sk-2a01e718-d55c-49fc-83e8-53d2b2674bfc input.sk-hidden--visually {border: 0;clip: rect(1px 1px 1px 1px);clip: rect(1px, 1px, 1px, 1px);height: 1px;margin: -1px;overflow: hidden;padding: 0;position: absolute;width: 1px;}#sk-2a01e718-d55c-49fc-83e8-53d2b2674bfc div.sk-estimator {font-family: monospace;background-color: #f0f8ff;border: 1px dotted black;border-radius: 0.25em;box-sizing: border-box;margin-bottom: 0.5em;}#sk-2a01e718-d55c-49fc-83e8-53d2b2674bfc div.sk-estimator:hover {background-color: #d4ebff;}#sk-2a01e718-d55c-49fc-83e8-53d2b2674bfc div.sk-parallel-item::after {content: \"\";width: 100%;border-bottom: 1px solid gray;flex-grow: 1;}#sk-2a01e718-d55c-49fc-83e8-53d2b2674bfc div.sk-label:hover label.sk-toggleable__label {background-color: #d4ebff;}#sk-2a01e718-d55c-49fc-83e8-53d2b2674bfc div.sk-serial::before {content: \"\";position: absolute;border-left: 1px solid gray;box-sizing: border-box;top: 2em;bottom: 0;left: 50%;}#sk-2a01e718-d55c-49fc-83e8-53d2b2674bfc div.sk-serial {display: flex;flex-direction: column;align-items: center;background-color: white;padding-right: 0.2em;padding-left: 0.2em;}#sk-2a01e718-d55c-49fc-83e8-53d2b2674bfc div.sk-item {z-index: 1;}#sk-2a01e718-d55c-49fc-83e8-53d2b2674bfc div.sk-parallel {display: flex;align-items: stretch;justify-content: center;background-color: white;}#sk-2a01e718-d55c-49fc-83e8-53d2b2674bfc div.sk-parallel::before {content: \"\";position: absolute;border-left: 1px solid gray;box-sizing: border-box;top: 2em;bottom: 0;left: 50%;}#sk-2a01e718-d55c-49fc-83e8-53d2b2674bfc div.sk-parallel-item {display: flex;flex-direction: column;position: relative;background-color: white;}#sk-2a01e718-d55c-49fc-83e8-53d2b2674bfc div.sk-parallel-item:first-child::after {align-self: flex-end;width: 50%;}#sk-2a01e718-d55c-49fc-83e8-53d2b2674bfc div.sk-parallel-item:last-child::after {align-self: flex-start;width: 50%;}#sk-2a01e718-d55c-49fc-83e8-53d2b2674bfc div.sk-parallel-item:only-child::after {width: 0;}#sk-2a01e718-d55c-49fc-83e8-53d2b2674bfc div.sk-dashed-wrapped {border: 1px dashed gray;margin: 0 0.4em 0.5em 0.4em;box-sizing: border-box;padding-bottom: 0.4em;background-color: white;position: relative;}#sk-2a01e718-d55c-49fc-83e8-53d2b2674bfc div.sk-label label {font-family: monospace;font-weight: bold;background-color: white;display: inline-block;line-height: 1.2em;}#sk-2a01e718-d55c-49fc-83e8-53d2b2674bfc div.sk-label-container {position: relative;z-index: 2;text-align: center;}#sk-2a01e718-d55c-49fc-83e8-53d2b2674bfc div.sk-container {/* jupyter's `normalize.less` sets `[hidden] { display: none; }` but bootstrap.min.css set `[hidden] { display: none !important; }` so we also need the `!important` here to be able to override the default hidden behavior on the sphinx rendered scikit-learn.org. See: https://github.com/scikit-learn/scikit-learn/issues/21755 */display: inline-block !important;position: relative;}#sk-2a01e718-d55c-49fc-83e8-53d2b2674bfc div.sk-text-repr-fallback {display: none;}</style><div id=\"sk-2a01e718-d55c-49fc-83e8-53d2b2674bfc\" class=\"sk-top-container\"><div class=\"sk-text-repr-fallback\"><pre>GridSearchCV(cv=5,\n",
       "             estimator=Pipeline(steps=[(&#x27;preprocesamiento&#x27;,\n",
       "                                        ColumnTransformer(transformers=[(&#x27;num&#x27;,\n",
       "                                                                         Pipeline(steps=[(&#x27;imputer&#x27;,\n",
       "                                                                                          SimpleImputer(strategy=&#x27;median&#x27;)),\n",
       "                                                                                         (&#x27;scaler&#x27;,\n",
       "                                                                                          StandardScaler())]),\n",
       "                                                                         [&#x27;Age&#x27;,\n",
       "                                                                          &#x27;Balance &#x27;\n",
       "                                                                          &#x27;(euros)&#x27;,\n",
       "                                                                          &#x27;Last &#x27;\n",
       "                                                                          &#x27;Contact &#x27;\n",
       "                                                                          &#x27;Day&#x27;,\n",
       "                                                                          &#x27;Last &#x27;\n",
       "                                                                          &#x27;Contact &#x27;\n",
       "                                                                          &#x27;Month&#x27;,\n",
       "                                                                          &#x27;Last &#x27;\n",
       "                                                                          &#x27;Contact &#x27;\n",
       "                                                                          &#x27;Duration&#x27;,\n",
       "                                                                          &#x27;Campaign&#x27;,\n",
       "                                                                          &#x27;Pdays&#x27;,\n",
       "                                                                          &#x27;Previous&#x27;]),\n",
       "                                                                        (&#x27;cat&#x27;,\n",
       "                                                                         OneHotEncoder(sparse=...\n",
       "                                                                          &#x27;Marital &#x27;\n",
       "                                                                          &#x27;Status&#x27;,\n",
       "                                                                          &#x27;Education&#x27;,\n",
       "                                                                          &#x27;Credit&#x27;,\n",
       "                                                                          &#x27;Housing &#x27;\n",
       "                                                                          &#x27;Loan&#x27;,\n",
       "                                                                          &#x27;Personal &#x27;\n",
       "                                                                          &#x27;Loan&#x27;])])),\n",
       "                                       (&#x27;estimador&#x27;, SVC())]),\n",
       "             n_jobs=-1,\n",
       "             param_grid=[{&#x27;estimador&#x27;: (LogisticRegression(),),\n",
       "                          &#x27;estimador__C&#x27;: (0.001, 1, 10)},\n",
       "                         {&#x27;estimador&#x27;: (SVC(C=1, gamma=0.1, probability=True),),\n",
       "                          &#x27;estimador__C&#x27;: (0.1, 1, 10),\n",
       "                          &#x27;estimador__gamma&#x27;: (0.001, 0.01, 0.1, 1, 10),\n",
       "                          &#x27;estimador__kernel&#x27;: (&#x27;linear&#x27;, &#x27;rbf&#x27;)}],\n",
       "             verbose=40)</pre><b>Please rerun this cell to show the HTML repr or trust the notebook.</b></div><div class=\"sk-container\" hidden><div class=\"sk-item sk-dashed-wrapped\"><div class=\"sk-label-container\"><div class=\"sk-label sk-toggleable\"><input class=\"sk-toggleable__control sk-hidden--visually\" id=\"b6166a17-4f09-4677-836f-f22fe3223947\" type=\"checkbox\" ><label for=\"b6166a17-4f09-4677-836f-f22fe3223947\" class=\"sk-toggleable__label sk-toggleable__label-arrow\">GridSearchCV</label><div class=\"sk-toggleable__content\"><pre>GridSearchCV(cv=5,\n",
       "             estimator=Pipeline(steps=[(&#x27;preprocesamiento&#x27;,\n",
       "                                        ColumnTransformer(transformers=[(&#x27;num&#x27;,\n",
       "                                                                         Pipeline(steps=[(&#x27;imputer&#x27;,\n",
       "                                                                                          SimpleImputer(strategy=&#x27;median&#x27;)),\n",
       "                                                                                         (&#x27;scaler&#x27;,\n",
       "                                                                                          StandardScaler())]),\n",
       "                                                                         [&#x27;Age&#x27;,\n",
       "                                                                          &#x27;Balance &#x27;\n",
       "                                                                          &#x27;(euros)&#x27;,\n",
       "                                                                          &#x27;Last &#x27;\n",
       "                                                                          &#x27;Contact &#x27;\n",
       "                                                                          &#x27;Day&#x27;,\n",
       "                                                                          &#x27;Last &#x27;\n",
       "                                                                          &#x27;Contact &#x27;\n",
       "                                                                          &#x27;Month&#x27;,\n",
       "                                                                          &#x27;Last &#x27;\n",
       "                                                                          &#x27;Contact &#x27;\n",
       "                                                                          &#x27;Duration&#x27;,\n",
       "                                                                          &#x27;Campaign&#x27;,\n",
       "                                                                          &#x27;Pdays&#x27;,\n",
       "                                                                          &#x27;Previous&#x27;]),\n",
       "                                                                        (&#x27;cat&#x27;,\n",
       "                                                                         OneHotEncoder(sparse=...\n",
       "                                                                          &#x27;Marital &#x27;\n",
       "                                                                          &#x27;Status&#x27;,\n",
       "                                                                          &#x27;Education&#x27;,\n",
       "                                                                          &#x27;Credit&#x27;,\n",
       "                                                                          &#x27;Housing &#x27;\n",
       "                                                                          &#x27;Loan&#x27;,\n",
       "                                                                          &#x27;Personal &#x27;\n",
       "                                                                          &#x27;Loan&#x27;])])),\n",
       "                                       (&#x27;estimador&#x27;, SVC())]),\n",
       "             n_jobs=-1,\n",
       "             param_grid=[{&#x27;estimador&#x27;: (LogisticRegression(),),\n",
       "                          &#x27;estimador__C&#x27;: (0.001, 1, 10)},\n",
       "                         {&#x27;estimador&#x27;: (SVC(C=1, gamma=0.1, probability=True),),\n",
       "                          &#x27;estimador__C&#x27;: (0.1, 1, 10),\n",
       "                          &#x27;estimador__gamma&#x27;: (0.001, 0.01, 0.1, 1, 10),\n",
       "                          &#x27;estimador__kernel&#x27;: (&#x27;linear&#x27;, &#x27;rbf&#x27;)}],\n",
       "             verbose=40)</pre></div></div></div><div class=\"sk-parallel\"><div class=\"sk-parallel-item\"><div class=\"sk-item\"><div class=\"sk-serial\"><div class=\"sk-item\"><div class=\"sk-serial\"><div class=\"sk-item sk-dashed-wrapped\"><div class=\"sk-label-container\"><div class=\"sk-label sk-toggleable\"><input class=\"sk-toggleable__control sk-hidden--visually\" id=\"1159cdb2-7187-4986-9e4e-4afa992f5648\" type=\"checkbox\" ><label for=\"1159cdb2-7187-4986-9e4e-4afa992f5648\" class=\"sk-toggleable__label sk-toggleable__label-arrow\">preprocesamiento: ColumnTransformer</label><div class=\"sk-toggleable__content\"><pre>ColumnTransformer(transformers=[(&#x27;num&#x27;,\n",
       "                                 Pipeline(steps=[(&#x27;imputer&#x27;,\n",
       "                                                  SimpleImputer(strategy=&#x27;median&#x27;)),\n",
       "                                                 (&#x27;scaler&#x27;, StandardScaler())]),\n",
       "                                 [&#x27;Age&#x27;, &#x27;Balance (euros)&#x27;, &#x27;Last Contact Day&#x27;,\n",
       "                                  &#x27;Last Contact Month&#x27;, &#x27;Last Contact Duration&#x27;,\n",
       "                                  &#x27;Campaign&#x27;, &#x27;Pdays&#x27;, &#x27;Previous&#x27;]),\n",
       "                                (&#x27;cat&#x27;, OneHotEncoder(sparse=False),\n",
       "                                 [&#x27;Job&#x27;, &#x27;Marital Status&#x27;, &#x27;Education&#x27;,\n",
       "                                  &#x27;Credit&#x27;, &#x27;Housing Loan&#x27;, &#x27;Personal Loan&#x27;])])</pre></div></div></div><div class=\"sk-parallel\"><div class=\"sk-parallel-item\"><div class=\"sk-item\"><div class=\"sk-label-container\"><div class=\"sk-label sk-toggleable\"><input class=\"sk-toggleable__control sk-hidden--visually\" id=\"b5ecf4ec-eeb3-4cab-acba-593ea8fe3d55\" type=\"checkbox\" ><label for=\"b5ecf4ec-eeb3-4cab-acba-593ea8fe3d55\" class=\"sk-toggleable__label sk-toggleable__label-arrow\">num</label><div class=\"sk-toggleable__content\"><pre>[&#x27;Age&#x27;, &#x27;Balance (euros)&#x27;, &#x27;Last Contact Day&#x27;, &#x27;Last Contact Month&#x27;, &#x27;Last Contact Duration&#x27;, &#x27;Campaign&#x27;, &#x27;Pdays&#x27;, &#x27;Previous&#x27;]</pre></div></div></div><div class=\"sk-serial\"><div class=\"sk-item\"><div class=\"sk-serial\"><div class=\"sk-item\"><div class=\"sk-estimator sk-toggleable\"><input class=\"sk-toggleable__control sk-hidden--visually\" id=\"e41d94f3-cbb6-492f-a857-23d1c3f85f07\" type=\"checkbox\" ><label for=\"e41d94f3-cbb6-492f-a857-23d1c3f85f07\" class=\"sk-toggleable__label sk-toggleable__label-arrow\">SimpleImputer</label><div class=\"sk-toggleable__content\"><pre>SimpleImputer(strategy=&#x27;median&#x27;)</pre></div></div></div><div class=\"sk-item\"><div class=\"sk-estimator sk-toggleable\"><input class=\"sk-toggleable__control sk-hidden--visually\" id=\"27b69fcf-ca58-4c5e-b6e9-f43924128d98\" type=\"checkbox\" ><label for=\"27b69fcf-ca58-4c5e-b6e9-f43924128d98\" class=\"sk-toggleable__label sk-toggleable__label-arrow\">StandardScaler</label><div class=\"sk-toggleable__content\"><pre>StandardScaler()</pre></div></div></div></div></div></div></div></div><div class=\"sk-parallel-item\"><div class=\"sk-item\"><div class=\"sk-label-container\"><div class=\"sk-label sk-toggleable\"><input class=\"sk-toggleable__control sk-hidden--visually\" id=\"2f0d0b22-586d-419c-81f8-bf8b1836f6bf\" type=\"checkbox\" ><label for=\"2f0d0b22-586d-419c-81f8-bf8b1836f6bf\" class=\"sk-toggleable__label sk-toggleable__label-arrow\">cat</label><div class=\"sk-toggleable__content\"><pre>[&#x27;Job&#x27;, &#x27;Marital Status&#x27;, &#x27;Education&#x27;, &#x27;Credit&#x27;, &#x27;Housing Loan&#x27;, &#x27;Personal Loan&#x27;]</pre></div></div></div><div class=\"sk-serial\"><div class=\"sk-item\"><div class=\"sk-estimator sk-toggleable\"><input class=\"sk-toggleable__control sk-hidden--visually\" id=\"e605dbff-80c3-4cb9-b0c7-1459092760b9\" type=\"checkbox\" ><label for=\"e605dbff-80c3-4cb9-b0c7-1459092760b9\" class=\"sk-toggleable__label sk-toggleable__label-arrow\">OneHotEncoder</label><div class=\"sk-toggleable__content\"><pre>OneHotEncoder(sparse=False)</pre></div></div></div></div></div></div></div></div><div class=\"sk-item\"><div class=\"sk-estimator sk-toggleable\"><input class=\"sk-toggleable__control sk-hidden--visually\" id=\"23efa87f-9b4f-4411-8eaa-c946ab7f575f\" type=\"checkbox\" ><label for=\"23efa87f-9b4f-4411-8eaa-c946ab7f575f\" class=\"sk-toggleable__label sk-toggleable__label-arrow\">SVC</label><div class=\"sk-toggleable__content\"><pre>SVC()</pre></div></div></div></div></div></div></div></div></div></div></div></div>"
      ],
      "text/plain": [
       "GridSearchCV(cv=5,\n",
       "             estimator=Pipeline(steps=[('preprocesamiento',\n",
       "                                        ColumnTransformer(transformers=[('num',\n",
       "                                                                         Pipeline(steps=[('imputer',\n",
       "                                                                                          SimpleImputer(strategy='median')),\n",
       "                                                                                         ('scaler',\n",
       "                                                                                          StandardScaler())]),\n",
       "                                                                         ['Age',\n",
       "                                                                          'Balance '\n",
       "                                                                          '(euros)',\n",
       "                                                                          'Last '\n",
       "                                                                          'Contact '\n",
       "                                                                          'Day',\n",
       "                                                                          'Last '\n",
       "                                                                          'Contact '\n",
       "                                                                          'Month',\n",
       "                                                                          'Last '\n",
       "                                                                          'Contact '\n",
       "                                                                          'Duration',\n",
       "                                                                          'Campaign',\n",
       "                                                                          'Pdays',\n",
       "                                                                          'Previous']),\n",
       "                                                                        ('cat',\n",
       "                                                                         OneHotEncoder(sparse=...\n",
       "                                                                          'Marital '\n",
       "                                                                          'Status',\n",
       "                                                                          'Education',\n",
       "                                                                          'Credit',\n",
       "                                                                          'Housing '\n",
       "                                                                          'Loan',\n",
       "                                                                          'Personal '\n",
       "                                                                          'Loan'])])),\n",
       "                                       ('estimador', SVC())]),\n",
       "             n_jobs=-1,\n",
       "             param_grid=[{'estimador': (LogisticRegression(),),\n",
       "                          'estimador__C': (0.001, 1, 10)},\n",
       "                         {'estimador': (SVC(C=1, gamma=0.1, probability=True),),\n",
       "                          'estimador__C': (0.1, 1, 10),\n",
       "                          'estimador__gamma': (0.001, 0.01, 0.1, 1, 10),\n",
       "                          'estimador__kernel': ('linear', 'rbf')}],\n",
       "             verbose=40)"
      ]
     },
     "execution_count": 58,
     "metadata": {},
     "output_type": "execute_result"
    }
   ],
   "source": [
    "## Entrenamos.\n",
    "grid_search1.fit(xtrain,ytrain.ravel())"
   ]
  },
  {
   "cell_type": "code",
   "execution_count": null,
   "metadata": {
    "colab": {
     "base_uri": "https://localhost:8080/",
     "height": 478
    },
    "executionInfo": {
     "elapsed": 24,
     "status": "ok",
     "timestamp": 1669298338169,
     "user": {
      "displayName": "MARTÍN NICOLAS AISCAR",
      "userId": "18143931623073660355"
     },
     "user_tz": 180
    },
    "id": "QHR-IbwNoUHV",
    "outputId": "13648189-c284-4e55-80b9-818678ab7488"
   },
   "outputs": [
    {
     "data": {
      "text/html": [
       "\n",
       "  <div id=\"df-5ed2a32a-6e37-4aef-83dd-b11e95cfb0f6\">\n",
       "    <div class=\"colab-df-container\">\n",
       "      <div>\n",
       "<style scoped>\n",
       "    .dataframe tbody tr th:only-of-type {\n",
       "        vertical-align: middle;\n",
       "    }\n",
       "\n",
       "    .dataframe tbody tr th {\n",
       "        vertical-align: top;\n",
       "    }\n",
       "\n",
       "    .dataframe thead th {\n",
       "        text-align: right;\n",
       "    }\n",
       "</style>\n",
       "<table border=\"1\" class=\"dataframe\">\n",
       "  <thead>\n",
       "    <tr style=\"text-align: right;\">\n",
       "      <th></th>\n",
       "      <th>mean_fit_time</th>\n",
       "      <th>std_fit_time</th>\n",
       "      <th>mean_score_time</th>\n",
       "      <th>std_score_time</th>\n",
       "      <th>param_estimador</th>\n",
       "      <th>param_estimador__C</th>\n",
       "      <th>param_estimador__gamma</th>\n",
       "      <th>param_estimador__kernel</th>\n",
       "      <th>params</th>\n",
       "      <th>split0_test_score</th>\n",
       "      <th>split1_test_score</th>\n",
       "      <th>split2_test_score</th>\n",
       "      <th>split3_test_score</th>\n",
       "      <th>split4_test_score</th>\n",
       "      <th>mean_test_score</th>\n",
       "      <th>std_test_score</th>\n",
       "      <th>rank_test_score</th>\n",
       "    </tr>\n",
       "  </thead>\n",
       "  <tbody>\n",
       "    <tr>\n",
       "      <th>0</th>\n",
       "      <td>0.081073</td>\n",
       "      <td>0.030052</td>\n",
       "      <td>0.016556</td>\n",
       "      <td>0.008405</td>\n",
       "      <td>LogisticRegression()</td>\n",
       "      <td>0.001</td>\n",
       "      <td>NaN</td>\n",
       "      <td>NaN</td>\n",
       "      <td>{'estimador': LogisticRegression(), 'estimador...</td>\n",
       "      <td>0.884937</td>\n",
       "      <td>0.881450</td>\n",
       "      <td>0.884240</td>\n",
       "      <td>0.879358</td>\n",
       "      <td>0.882845</td>\n",
       "      <td>0.882566</td>\n",
       "      <td>0.002002</td>\n",
       "      <td>7</td>\n",
       "    </tr>\n",
       "    <tr>\n",
       "      <th>1</th>\n",
       "      <td>0.164525</td>\n",
       "      <td>0.040824</td>\n",
       "      <td>0.019936</td>\n",
       "      <td>0.009291</td>\n",
       "      <td>LogisticRegression()</td>\n",
       "      <td>1</td>\n",
       "      <td>NaN</td>\n",
       "      <td>NaN</td>\n",
       "      <td>{'estimador': LogisticRegression(), 'estimador...</td>\n",
       "      <td>0.889121</td>\n",
       "      <td>0.889121</td>\n",
       "      <td>0.888424</td>\n",
       "      <td>0.886332</td>\n",
       "      <td>0.898187</td>\n",
       "      <td>0.890237</td>\n",
       "      <td>0.004104</td>\n",
       "      <td>2</td>\n",
       "    </tr>\n",
       "    <tr>\n",
       "      <th>2</th>\n",
       "      <td>0.173946</td>\n",
       "      <td>0.049086</td>\n",
       "      <td>0.009825</td>\n",
       "      <td>0.002109</td>\n",
       "      <td>LogisticRegression()</td>\n",
       "      <td>10</td>\n",
       "      <td>NaN</td>\n",
       "      <td>NaN</td>\n",
       "      <td>{'estimador': LogisticRegression(), 'estimador...</td>\n",
       "      <td>0.889121</td>\n",
       "      <td>0.889121</td>\n",
       "      <td>0.888424</td>\n",
       "      <td>0.886332</td>\n",
       "      <td>0.898187</td>\n",
       "      <td>0.890237</td>\n",
       "      <td>0.004104</td>\n",
       "      <td>2</td>\n",
       "    </tr>\n",
       "    <tr>\n",
       "      <th>3</th>\n",
       "      <td>0.926395</td>\n",
       "      <td>0.167808</td>\n",
       "      <td>0.186415</td>\n",
       "      <td>0.030909</td>\n",
       "      <td>SVC(C=1, gamma=0.1)</td>\n",
       "      <td>0.1</td>\n",
       "      <td>0.001</td>\n",
       "      <td>linear</td>\n",
       "      <td>{'estimador': SVC(C=1, gamma=0.1), 'estimador_...</td>\n",
       "      <td>0.880753</td>\n",
       "      <td>0.880753</td>\n",
       "      <td>0.880753</td>\n",
       "      <td>0.880753</td>\n",
       "      <td>0.880056</td>\n",
       "      <td>0.880614</td>\n",
       "      <td>0.000279</td>\n",
       "      <td>12</td>\n",
       "    </tr>\n",
       "    <tr>\n",
       "      <th>4</th>\n",
       "      <td>1.566347</td>\n",
       "      <td>0.126405</td>\n",
       "      <td>0.463261</td>\n",
       "      <td>0.067170</td>\n",
       "      <td>SVC(C=1, gamma=0.1)</td>\n",
       "      <td>0.1</td>\n",
       "      <td>0.001</td>\n",
       "      <td>rbf</td>\n",
       "      <td>{'estimador': SVC(C=1, gamma=0.1), 'estimador_...</td>\n",
       "      <td>0.880753</td>\n",
       "      <td>0.880753</td>\n",
       "      <td>0.880753</td>\n",
       "      <td>0.880753</td>\n",
       "      <td>0.880056</td>\n",
       "      <td>0.880614</td>\n",
       "      <td>0.000279</td>\n",
       "      <td>12</td>\n",
       "    </tr>\n",
       "  </tbody>\n",
       "</table>\n",
       "</div>\n",
       "      <button class=\"colab-df-convert\" onclick=\"convertToInteractive('df-5ed2a32a-6e37-4aef-83dd-b11e95cfb0f6')\"\n",
       "              title=\"Convert this dataframe to an interactive table.\"\n",
       "              style=\"display:none;\">\n",
       "        \n",
       "  <svg xmlns=\"http://www.w3.org/2000/svg\" height=\"24px\"viewBox=\"0 0 24 24\"\n",
       "       width=\"24px\">\n",
       "    <path d=\"M0 0h24v24H0V0z\" fill=\"none\"/>\n",
       "    <path d=\"M18.56 5.44l.94 2.06.94-2.06 2.06-.94-2.06-.94-.94-2.06-.94 2.06-2.06.94zm-11 1L8.5 8.5l.94-2.06 2.06-.94-2.06-.94L8.5 2.5l-.94 2.06-2.06.94zm10 10l.94 2.06.94-2.06 2.06-.94-2.06-.94-.94-2.06-.94 2.06-2.06.94z\"/><path d=\"M17.41 7.96l-1.37-1.37c-.4-.4-.92-.59-1.43-.59-.52 0-1.04.2-1.43.59L10.3 9.45l-7.72 7.72c-.78.78-.78 2.05 0 2.83L4 21.41c.39.39.9.59 1.41.59.51 0 1.02-.2 1.41-.59l7.78-7.78 2.81-2.81c.8-.78.8-2.07 0-2.86zM5.41 20L4 18.59l7.72-7.72 1.47 1.35L5.41 20z\"/>\n",
       "  </svg>\n",
       "      </button>\n",
       "      \n",
       "  <style>\n",
       "    .colab-df-container {\n",
       "      display:flex;\n",
       "      flex-wrap:wrap;\n",
       "      gap: 12px;\n",
       "    }\n",
       "\n",
       "    .colab-df-convert {\n",
       "      background-color: #E8F0FE;\n",
       "      border: none;\n",
       "      border-radius: 50%;\n",
       "      cursor: pointer;\n",
       "      display: none;\n",
       "      fill: #1967D2;\n",
       "      height: 32px;\n",
       "      padding: 0 0 0 0;\n",
       "      width: 32px;\n",
       "    }\n",
       "\n",
       "    .colab-df-convert:hover {\n",
       "      background-color: #E2EBFA;\n",
       "      box-shadow: 0px 1px 2px rgba(60, 64, 67, 0.3), 0px 1px 3px 1px rgba(60, 64, 67, 0.15);\n",
       "      fill: #174EA6;\n",
       "    }\n",
       "\n",
       "    [theme=dark] .colab-df-convert {\n",
       "      background-color: #3B4455;\n",
       "      fill: #D2E3FC;\n",
       "    }\n",
       "\n",
       "    [theme=dark] .colab-df-convert:hover {\n",
       "      background-color: #434B5C;\n",
       "      box-shadow: 0px 1px 3px 1px rgba(0, 0, 0, 0.15);\n",
       "      filter: drop-shadow(0px 1px 2px rgba(0, 0, 0, 0.3));\n",
       "      fill: #FFFFFF;\n",
       "    }\n",
       "  </style>\n",
       "\n",
       "      <script>\n",
       "        const buttonEl =\n",
       "          document.querySelector('#df-5ed2a32a-6e37-4aef-83dd-b11e95cfb0f6 button.colab-df-convert');\n",
       "        buttonEl.style.display =\n",
       "          google.colab.kernel.accessAllowed ? 'block' : 'none';\n",
       "\n",
       "        async function convertToInteractive(key) {\n",
       "          const element = document.querySelector('#df-5ed2a32a-6e37-4aef-83dd-b11e95cfb0f6');\n",
       "          const dataTable =\n",
       "            await google.colab.kernel.invokeFunction('convertToInteractive',\n",
       "                                                     [key], {});\n",
       "          if (!dataTable) return;\n",
       "\n",
       "          const docLinkHtml = 'Like what you see? Visit the ' +\n",
       "            '<a target=\"_blank\" href=https://colab.research.google.com/notebooks/data_table.ipynb>data table notebook</a>'\n",
       "            + ' to learn more about interactive tables.';\n",
       "          element.innerHTML = '';\n",
       "          dataTable['output_type'] = 'display_data';\n",
       "          await google.colab.output.renderOutput(dataTable, element);\n",
       "          const docLink = document.createElement('div');\n",
       "          docLink.innerHTML = docLinkHtml;\n",
       "          element.appendChild(docLink);\n",
       "        }\n",
       "      </script>\n",
       "    </div>\n",
       "  </div>\n",
       "  "
      ],
      "text/plain": [
       "   mean_fit_time  std_fit_time  mean_score_time  std_score_time  \\\n",
       "0       0.081073      0.030052         0.016556        0.008405   \n",
       "1       0.164525      0.040824         0.019936        0.009291   \n",
       "2       0.173946      0.049086         0.009825        0.002109   \n",
       "3       0.926395      0.167808         0.186415        0.030909   \n",
       "4       1.566347      0.126405         0.463261        0.067170   \n",
       "\n",
       "        param_estimador param_estimador__C param_estimador__gamma  \\\n",
       "0  LogisticRegression()              0.001                    NaN   \n",
       "1  LogisticRegression()                  1                    NaN   \n",
       "2  LogisticRegression()                 10                    NaN   \n",
       "3   SVC(C=1, gamma=0.1)                0.1                  0.001   \n",
       "4   SVC(C=1, gamma=0.1)                0.1                  0.001   \n",
       "\n",
       "  param_estimador__kernel                                             params  \\\n",
       "0                     NaN  {'estimador': LogisticRegression(), 'estimador...   \n",
       "1                     NaN  {'estimador': LogisticRegression(), 'estimador...   \n",
       "2                     NaN  {'estimador': LogisticRegression(), 'estimador...   \n",
       "3                  linear  {'estimador': SVC(C=1, gamma=0.1), 'estimador_...   \n",
       "4                     rbf  {'estimador': SVC(C=1, gamma=0.1), 'estimador_...   \n",
       "\n",
       "   split0_test_score  split1_test_score  split2_test_score  split3_test_score  \\\n",
       "0           0.884937           0.881450           0.884240           0.879358   \n",
       "1           0.889121           0.889121           0.888424           0.886332   \n",
       "2           0.889121           0.889121           0.888424           0.886332   \n",
       "3           0.880753           0.880753           0.880753           0.880753   \n",
       "4           0.880753           0.880753           0.880753           0.880753   \n",
       "\n",
       "   split4_test_score  mean_test_score  std_test_score  rank_test_score  \n",
       "0           0.882845         0.882566        0.002002                7  \n",
       "1           0.898187         0.890237        0.004104                2  \n",
       "2           0.898187         0.890237        0.004104                2  \n",
       "3           0.880056         0.880614        0.000279               12  \n",
       "4           0.880056         0.880614        0.000279               12  "
      ]
     },
     "execution_count": 50,
     "metadata": {},
     "output_type": "execute_result"
    }
   ],
   "source": [
    "## Mostramos información acerca de cada una de las combinaciones de hiper parámetros.\n",
    "scores = grid_search1.cv_results_\n",
    "scores_df = pd.DataFrame.from_dict(scores)\n",
    "scores_df.head()"
   ]
  },
  {
   "cell_type": "code",
   "execution_count": null,
   "metadata": {
    "colab": {
     "base_uri": "https://localhost:8080/"
    },
    "executionInfo": {
     "elapsed": 22,
     "status": "ok",
     "timestamp": 1669298338169,
     "user": {
      "displayName": "MARTÍN NICOLAS AISCAR",
      "userId": "18143931623073660355"
     },
     "user_tz": 180
    },
    "id": "vOBPzUa6up4u",
    "outputId": "0393f472-643a-4796-8b4c-9dc1d327e25f"
   },
   "outputs": [
    {
     "name": "stdout",
     "output_type": "stream",
     "text": [
      "Los mejores parámetros fueron {'estimador': SVC(C=1, gamma=0.1), 'estimador__C': 1, 'estimador__gamma': 0.1, 'estimador__kernel': 'rbf'} con un score de 0.8912\n"
     ]
    }
   ],
   "source": [
    "## Imprimimos cuál fue el mejor modelo y la combinación de parámetros.\n",
    "print(\"Los mejores parámetros fueron %s con un score de %0.4f\" % (grid_search1.best_params_, grid_search1.best_score_))"
   ]
  },
  {
   "cell_type": "code",
   "execution_count": null,
   "metadata": {
    "colab": {
     "base_uri": "https://localhost:8080/"
    },
    "executionInfo": {
     "elapsed": 18,
     "status": "ok",
     "timestamp": 1669298338170,
     "user": {
      "displayName": "MARTÍN NICOLAS AISCAR",
      "userId": "18143931623073660355"
     },
     "user_tz": 180
    },
    "id": "xjDReIWBurU-",
    "outputId": "29f7b8c8-f4e4-4c6c-8db1-1eb38acf1d88"
   },
   "outputs": [
    {
     "name": "stdout",
     "output_type": "stream",
     "text": [
      "[0 0 0 ... 0 0 0]\n"
     ]
    }
   ],
   "source": [
    "## Realizamos las predicciones sobre las muestras de test.\n",
    "ypred1 = grid_search1.predict(xtest)\n",
    "print(ypred1)"
   ]
  },
  {
   "cell_type": "code",
   "execution_count": null,
   "metadata": {
    "colab": {
     "base_uri": "https://localhost:8080/"
    },
    "executionInfo": {
     "elapsed": 16,
     "status": "ok",
     "timestamp": 1669298338171,
     "user": {
      "displayName": "MARTÍN NICOLAS AISCAR",
      "userId": "18143931623073660355"
     },
     "user_tz": 180
    },
    "id": "oDzwkelLaOc-",
    "outputId": "e567441d-b6d8-4249-b935-d78aecb68ff2"
   },
   "outputs": [
    {
     "data": {
      "text/plain": [
       "{0: 2983, 1: 90}"
      ]
     },
     "execution_count": 53,
     "metadata": {},
     "output_type": "execute_result"
    }
   ],
   "source": [
    "## Vemos como se distribuyen las predicciones.\n",
    "unique, counts = np.unique(ypred1, return_counts=True)\n",
    "dict(zip(unique, counts))"
   ]
  },
  {
   "cell_type": "code",
   "execution_count": null,
   "metadata": {
    "colab": {
     "base_uri": "https://localhost:8080/"
    },
    "executionInfo": {
     "elapsed": 13,
     "status": "ok",
     "timestamp": 1669298338171,
     "user": {
      "displayName": "MARTÍN NICOLAS AISCAR",
      "userId": "18143931623073660355"
     },
     "user_tz": 180
    },
    "id": "BsLmpTQduu3Z",
    "outputId": "5ce19e0c-a81f-4105-f8b7-84aa0bc42e07"
   },
   "outputs": [
    {
     "name": "stdout",
     "output_type": "stream",
     "text": [
      "El accuracy es 0.8906605922551253\n"
     ]
    }
   ],
   "source": [
    "## Computamos el accuracy.\n",
    "test_acc = accuracy_score(ytest, ypred1)\n",
    "print(\"El accuracy es \" + str(test_acc))"
   ]
  },
  {
   "cell_type": "code",
   "execution_count": null,
   "metadata": {
    "colab": {
     "base_uri": "https://localhost:8080/"
    },
    "executionInfo": {
     "elapsed": 313,
     "status": "ok",
     "timestamp": 1669299050617,
     "user": {
      "displayName": "MARTÍN NICOLAS AISCAR",
      "userId": "18143931623073660355"
     },
     "user_tz": 180
    },
    "id": "AFDZz3X3u6M6",
    "outputId": "d4446f88-5210-4f0e-8b9d-0795c63b1f49"
   },
   "outputs": [
    {
     "name": "stdout",
     "output_type": "stream",
     "text": [
      "El AUC es = 0.854296727635598\n"
     ]
    }
   ],
   "source": [
    "## Computamos e imprimimos el AUC.\n",
    "yproba1 = grid_search1.predict_proba(xtest)\n",
    "fpr1, tpr1, thresholds = roc_curve(ytest.astype(int), yproba1[:,1], drop_intermediate = False, pos_label=1)\n",
    "auc_value1 = auc(fpr1, tpr1)\n",
    "print(\"El AUC es = \" + str(auc_value1))"
   ]
  },
  {
   "cell_type": "code",
   "execution_count": null,
   "metadata": {
    "colab": {
     "base_uri": "https://localhost:8080/",
     "height": 295
    },
    "executionInfo": {
     "elapsed": 789,
     "status": "ok",
     "timestamp": 1669299055196,
     "user": {
      "displayName": "MARTÍN NICOLAS AISCAR",
      "userId": "18143931623073660355"
     },
     "user_tz": 180
    },
    "id": "4mxYiNFlvAMU",
    "outputId": "eb4609b0-df55-4a8e-d0a3-8bc82e235e3f"
   },
   "outputs": [
    {
     "data": {
      "image/png": "[encoded data removed]",
      "text/plain": [
       "<Figure size 432x288 with 1 Axes>"
      ]
     },
     "metadata": {
      "needs_background": "light"
     },
     "output_type": "display_data"
    }
   ],
   "source": [
    "## Graficamos la curva ROC.\n",
    "plt.plot(fpr1, tpr1, lw=2, alpha=0.7 , label=\"ROC curve (AUC = %0.3f)\" % auc_value1, color = 'b')\n",
    "plt.plot([0, 1], [0, 1], linestyle='--', lw=1, color='r', alpha=.8)\n",
    "plt.xlabel('False Positive Rate')\n",
    "plt.ylabel('True Positive Rate')\n",
    "plt.grid(False)\n",
    "plt.legend(loc=\"lower right\")\n",
    "plt.title('Curva ROC')\n",
    "\n",
    "## Descargamos la imagen del gráfico.\n",
    "#plot_name = \"roccurve\"\n",
    "#plot_save = str(plot_path + plot_name)\n",
    "#plt.savefig(plot_save+\".png\",dpi=300)\n",
    "\n",
    "plt.show()"
   ]
  },
  {
   "cell_type": "code",
   "execution_count": null,
   "metadata": {
    "colab": {
     "base_uri": "https://localhost:8080/",
     "height": 281
    },
    "executionInfo": {
     "elapsed": 1269,
     "status": "ok",
     "timestamp": 1669299070033,
     "user": {
      "displayName": "MARTÍN NICOLAS AISCAR",
      "userId": "18143931623073660355"
     },
     "user_tz": 180
    },
    "id": "a-Wcm6DwvBhi",
    "outputId": "97b10aa1-cf99-4c79-ecb8-dcccbdecd693"
   },
   "outputs": [
    {
     "data": {
      "image/png": "[encoded data removed]",
      "text/plain": [
       "<Figure size 432x288 with 2 Axes>"
      ]
     },
     "metadata": {
      "needs_background": "light"
     },
     "output_type": "display_data"
    }
   ],
   "source": [
    "## Calculamos e imprimimos la matriz de confusión.\n",
    "cm = confusion_matrix(ytest, ypred1)\n",
    "df_cm = pd.DataFrame(cm, index = ['No accede', 'Accede'], columns = ['No accede', \"Accede\"])\n",
    "plt.figure(figsize = (6,4))\n",
    "sns.heatmap(df_cm, annot=True,fmt='g')\n",
    "plt.title('Matriz de Confusión')\n",
    "\n",
    "## Descargamos la imagen.\n",
    "#plot_name = \"confusionmatrix\"\n",
    "#plot_save = str(plot_path + plot_name)\n",
    "#plt.savefig(plot_save+\".png\",dpi=300)\n",
    "\n",
    "plt.show()"
   ]
  },
  {
   "cell_type": "markdown",
   "metadata": {
    "id": "e4KAPXvw-T9O"
   },
   "source": [
    "##**Analisis de Componentes Pricipales**"
   ]
  },
  {
   "cell_type": "code",
   "execution_count": null,
   "metadata": {
    "id": "3T-kjJVx-W5i"
   },
   "outputs": [],
   "source": [
    "## Definimos la proporción de variación que queremos explicar con los componentes a extraer.\n",
    "n_comps = 0.8\n",
    "\n",
    "## Definimos el PCA.\n",
    "pca = PCA(n_components = n_comps)\n",
    "\n",
    "## ## Definimos las transformaciones a realizar para las variables numéricas. \n",
    "## Las estandarizaremos utilizando StandardScaler y luego aplicamos el método PCA\n",
    "numeric_transformer1 = Pipeline(\n",
    "    steps=[(\"imputer\", SimpleImputer(strategy=\"median\")), (\"scaler\", StandardScaler()), (\"pca\", pca)]\n",
    ")\n",
    "\n",
    "## Juntamos las transformaciones definidas previamente.\n",
    "## Definimos el ColumnTransformer que será ejecutado al momento del fitting.\n",
    "preprocesamiento1 = ColumnTransformer(\n",
    "    transformers=[ \n",
    "        (\"num\", numeric_transformer1, numeric_features),\n",
    "        (\"cat\", transformacion_cat, variables_cat),\n",
    "    ]\n",
    ")\n",
    "\n",
    "## Definimos un nuevo pipeline que incluye el método PCA.\n",
    "pipeline2=Pipeline(\n",
    "    steps=[('preprocesamiento',preprocesamiento1),('estimador',SVC())]\n",
    ")"
   ]
  },
  {
   "cell_type": "code",
   "execution_count": null,
   "metadata": {
    "colab": {
     "base_uri": "https://localhost:8080/",
     "height": 262
    },
    "executionInfo": {
     "elapsed": 5,
     "status": "ok",
     "timestamp": 1669299074597,
     "user": {
      "displayName": "MARTÍN NICOLAS AISCAR",
      "userId": "18143931623073660355"
     },
     "user_tz": 180
    },
    "id": "40TSitv3JUdr",
    "outputId": "9d231fef-f0e9-42b6-8c73-da32c57d4fdc"
   },
   "outputs": [
    {
     "data": {
      "text/html": [
       "<style>#sk-b1a64430-3a45-4182-a756-4a5f9a1c13a3 {color: black;background-color: white;}#sk-b1a64430-3a45-4182-a756-4a5f9a1c13a3 pre{padding: 0;}#sk-b1a64430-3a45-4182-a756-4a5f9a1c13a3 div.sk-toggleable {background-color: white;}#sk-b1a64430-3a45-4182-a756-4a5f9a1c13a3 label.sk-toggleable__label {cursor: pointer;display: block;width: 100%;margin-bottom: 0;padding: 0.3em;box-sizing: border-box;text-align: center;}#sk-b1a64430-3a45-4182-a756-4a5f9a1c13a3 label.sk-toggleable__label-arrow:before {content: \"▸\";float: left;margin-right: 0.25em;color: #696969;}#sk-b1a64430-3a45-4182-a756-4a5f9a1c13a3 label.sk-toggleable__label-arrow:hover:before {color: black;}#sk-b1a64430-3a45-4182-a756-4a5f9a1c13a3 div.sk-estimator:hover label.sk-toggleable__label-arrow:before {color: black;}#sk-b1a64430-3a45-4182-a756-4a5f9a1c13a3 div.sk-toggleable__content {max-height: 0;max-width: 0;overflow: hidden;text-align: left;background-color: #f0f8ff;}#sk-b1a64430-3a45-4182-a756-4a5f9a1c13a3 div.sk-toggleable__content pre {margin: 0.2em;color: black;border-radius: 0.25em;background-color: #f0f8ff;}#sk-b1a64430-3a45-4182-a756-4a5f9a1c13a3 input.sk-toggleable__control:checked~div.sk-toggleable__content {max-height: 200px;max-width: 100%;overflow: auto;}#sk-b1a64430-3a45-4182-a756-4a5f9a1c13a3 input.sk-toggleable__control:checked~label.sk-toggleable__label-arrow:before {content: \"▾\";}#sk-b1a64430-3a45-4182-a756-4a5f9a1c13a3 div.sk-estimator input.sk-toggleable__control:checked~label.sk-toggleable__label {background-color: #d4ebff;}#sk-b1a64430-3a45-4182-a756-4a5f9a1c13a3 div.sk-label input.sk-toggleable__control:checked~label.sk-toggleable__label {background-color: #d4ebff;}#sk-b1a64430-3a45-4182-a756-4a5f9a1c13a3 input.sk-hidden--visually {border: 0;clip: rect(1px 1px 1px 1px);clip: rect(1px, 1px, 1px, 1px);height: 1px;margin: -1px;overflow: hidden;padding: 0;position: absolute;width: 1px;}#sk-b1a64430-3a45-4182-a756-4a5f9a1c13a3 div.sk-estimator {font-family: monospace;background-color: #f0f8ff;border: 1px dotted black;border-radius: 0.25em;box-sizing: border-box;margin-bottom: 0.5em;}#sk-b1a64430-3a45-4182-a756-4a5f9a1c13a3 div.sk-estimator:hover {background-color: #d4ebff;}#sk-b1a64430-3a45-4182-a756-4a5f9a1c13a3 div.sk-parallel-item::after {content: \"\";width: 100%;border-bottom: 1px solid gray;flex-grow: 1;}#sk-b1a64430-3a45-4182-a756-4a5f9a1c13a3 div.sk-label:hover label.sk-toggleable__label {background-color: #d4ebff;}#sk-b1a64430-3a45-4182-a756-4a5f9a1c13a3 div.sk-serial::before {content: \"\";position: absolute;border-left: 1px solid gray;box-sizing: border-box;top: 2em;bottom: 0;left: 50%;}#sk-b1a64430-3a45-4182-a756-4a5f9a1c13a3 div.sk-serial {display: flex;flex-direction: column;align-items: center;background-color: white;padding-right: 0.2em;padding-left: 0.2em;}#sk-b1a64430-3a45-4182-a756-4a5f9a1c13a3 div.sk-item {z-index: 1;}#sk-b1a64430-3a45-4182-a756-4a5f9a1c13a3 div.sk-parallel {display: flex;align-items: stretch;justify-content: center;background-color: white;}#sk-b1a64430-3a45-4182-a756-4a5f9a1c13a3 div.sk-parallel::before {content: \"\";position: absolute;border-left: 1px solid gray;box-sizing: border-box;top: 2em;bottom: 0;left: 50%;}#sk-b1a64430-3a45-4182-a756-4a5f9a1c13a3 div.sk-parallel-item {display: flex;flex-direction: column;position: relative;background-color: white;}#sk-b1a64430-3a45-4182-a756-4a5f9a1c13a3 div.sk-parallel-item:first-child::after {align-self: flex-end;width: 50%;}#sk-b1a64430-3a45-4182-a756-4a5f9a1c13a3 div.sk-parallel-item:last-child::after {align-self: flex-start;width: 50%;}#sk-b1a64430-3a45-4182-a756-4a5f9a1c13a3 div.sk-parallel-item:only-child::after {width: 0;}#sk-b1a64430-3a45-4182-a756-4a5f9a1c13a3 div.sk-dashed-wrapped {border: 1px dashed gray;margin: 0 0.4em 0.5em 0.4em;box-sizing: border-box;padding-bottom: 0.4em;background-color: white;position: relative;}#sk-b1a64430-3a45-4182-a756-4a5f9a1c13a3 div.sk-label label {font-family: monospace;font-weight: bold;background-color: white;display: inline-block;line-height: 1.2em;}#sk-b1a64430-3a45-4182-a756-4a5f9a1c13a3 div.sk-label-container {position: relative;z-index: 2;text-align: center;}#sk-b1a64430-3a45-4182-a756-4a5f9a1c13a3 div.sk-container {/* jupyter's `normalize.less` sets `[hidden] { display: none; }` but bootstrap.min.css set `[hidden] { display: none !important; }` so we also need the `!important` here to be able to override the default hidden behavior on the sphinx rendered scikit-learn.org. See: https://github.com/scikit-learn/scikit-learn/issues/21755 */display: inline-block !important;position: relative;}#sk-b1a64430-3a45-4182-a756-4a5f9a1c13a3 div.sk-text-repr-fallback {display: none;}</style><div id=\"sk-b1a64430-3a45-4182-a756-4a5f9a1c13a3\" class=\"sk-top-container\"><div class=\"sk-text-repr-fallback\"><pre>Pipeline(steps=[(&#x27;preprocesamiento&#x27;,\n",
       "                 ColumnTransformer(transformers=[(&#x27;num&#x27;,\n",
       "                                                  Pipeline(steps=[(&#x27;imputer&#x27;,\n",
       "                                                                   SimpleImputer(strategy=&#x27;median&#x27;)),\n",
       "                                                                  (&#x27;scaler&#x27;,\n",
       "                                                                   StandardScaler()),\n",
       "                                                                  (&#x27;pca&#x27;,\n",
       "                                                                   PCA(n_components=0.8))]),\n",
       "                                                  [&#x27;Age&#x27;, &#x27;Balance (euros)&#x27;,\n",
       "                                                   &#x27;Last Contact Day&#x27;,\n",
       "                                                   &#x27;Last Contact Month&#x27;,\n",
       "                                                   &#x27;Last Contact Duration&#x27;,\n",
       "                                                   &#x27;Campaign&#x27;, &#x27;Pdays&#x27;,\n",
       "                                                   &#x27;Previous&#x27;]),\n",
       "                                                 (&#x27;cat&#x27;,\n",
       "                                                  OneHotEncoder(sparse=False),\n",
       "                                                  [&#x27;Job&#x27;, &#x27;Marital Status&#x27;,\n",
       "                                                   &#x27;Education&#x27;, &#x27;Credit&#x27;,\n",
       "                                                   &#x27;Housing Loan&#x27;,\n",
       "                                                   &#x27;Personal Loan&#x27;])])),\n",
       "                (&#x27;estimador&#x27;, SVC())])</pre><b>Please rerun this cell to show the HTML repr or trust the notebook.</b></div><div class=\"sk-container\" hidden><div class=\"sk-item sk-dashed-wrapped\"><div class=\"sk-label-container\"><div class=\"sk-label sk-toggleable\"><input class=\"sk-toggleable__control sk-hidden--visually\" id=\"1bcfe309-6d89-49d6-9278-a62f045ce4a6\" type=\"checkbox\" ><label for=\"1bcfe309-6d89-49d6-9278-a62f045ce4a6\" class=\"sk-toggleable__label sk-toggleable__label-arrow\">Pipeline</label><div class=\"sk-toggleable__content\"><pre>Pipeline(steps=[(&#x27;preprocesamiento&#x27;,\n",
       "                 ColumnTransformer(transformers=[(&#x27;num&#x27;,\n",
       "                                                  Pipeline(steps=[(&#x27;imputer&#x27;,\n",
       "                                                                   SimpleImputer(strategy=&#x27;median&#x27;)),\n",
       "                                                                  (&#x27;scaler&#x27;,\n",
       "                                                                   StandardScaler()),\n",
       "                                                                  (&#x27;pca&#x27;,\n",
       "                                                                   PCA(n_components=0.8))]),\n",
       "                                                  [&#x27;Age&#x27;, &#x27;Balance (euros)&#x27;,\n",
       "                                                   &#x27;Last Contact Day&#x27;,\n",
       "                                                   &#x27;Last Contact Month&#x27;,\n",
       "                                                   &#x27;Last Contact Duration&#x27;,\n",
       "                                                   &#x27;Campaign&#x27;, &#x27;Pdays&#x27;,\n",
       "                                                   &#x27;Previous&#x27;]),\n",
       "                                                 (&#x27;cat&#x27;,\n",
       "                                                  OneHotEncoder(sparse=False),\n",
       "                                                  [&#x27;Job&#x27;, &#x27;Marital Status&#x27;,\n",
       "                                                   &#x27;Education&#x27;, &#x27;Credit&#x27;,\n",
       "                                                   &#x27;Housing Loan&#x27;,\n",
       "                                                   &#x27;Personal Loan&#x27;])])),\n",
       "                (&#x27;estimador&#x27;, SVC())])</pre></div></div></div><div class=\"sk-serial\"><div class=\"sk-item sk-dashed-wrapped\"><div class=\"sk-label-container\"><div class=\"sk-label sk-toggleable\"><input class=\"sk-toggleable__control sk-hidden--visually\" id=\"7880dfd7-9d63-474e-b5f7-c21787a031ff\" type=\"checkbox\" ><label for=\"7880dfd7-9d63-474e-b5f7-c21787a031ff\" class=\"sk-toggleable__label sk-toggleable__label-arrow\">preprocesamiento: ColumnTransformer</label><div class=\"sk-toggleable__content\"><pre>ColumnTransformer(transformers=[(&#x27;num&#x27;,\n",
       "                                 Pipeline(steps=[(&#x27;imputer&#x27;,\n",
       "                                                  SimpleImputer(strategy=&#x27;median&#x27;)),\n",
       "                                                 (&#x27;scaler&#x27;, StandardScaler()),\n",
       "                                                 (&#x27;pca&#x27;,\n",
       "                                                  PCA(n_components=0.8))]),\n",
       "                                 [&#x27;Age&#x27;, &#x27;Balance (euros)&#x27;, &#x27;Last Contact Day&#x27;,\n",
       "                                  &#x27;Last Contact Month&#x27;, &#x27;Last Contact Duration&#x27;,\n",
       "                                  &#x27;Campaign&#x27;, &#x27;Pdays&#x27;, &#x27;Previous&#x27;]),\n",
       "                                (&#x27;cat&#x27;, OneHotEncoder(sparse=False),\n",
       "                                 [&#x27;Job&#x27;, &#x27;Marital Status&#x27;, &#x27;Education&#x27;,\n",
       "                                  &#x27;Credit&#x27;, &#x27;Housing Loan&#x27;, &#x27;Personal Loan&#x27;])])</pre></div></div></div><div class=\"sk-parallel\"><div class=\"sk-parallel-item\"><div class=\"sk-item\"><div class=\"sk-label-container\"><div class=\"sk-label sk-toggleable\"><input class=\"sk-toggleable__control sk-hidden--visually\" id=\"c56fca08-2497-4ebe-a946-348fbc300809\" type=\"checkbox\" ><label for=\"c56fca08-2497-4ebe-a946-348fbc300809\" class=\"sk-toggleable__label sk-toggleable__label-arrow\">num</label><div class=\"sk-toggleable__content\"><pre>[&#x27;Age&#x27;, &#x27;Balance (euros)&#x27;, &#x27;Last Contact Day&#x27;, &#x27;Last Contact Month&#x27;, &#x27;Last Contact Duration&#x27;, &#x27;Campaign&#x27;, &#x27;Pdays&#x27;, &#x27;Previous&#x27;]</pre></div></div></div><div class=\"sk-serial\"><div class=\"sk-item\"><div class=\"sk-serial\"><div class=\"sk-item\"><div class=\"sk-estimator sk-toggleable\"><input class=\"sk-toggleable__control sk-hidden--visually\" id=\"2869fe49-0eff-4bd0-98d1-f2ba86f5d049\" type=\"checkbox\" ><label for=\"2869fe49-0eff-4bd0-98d1-f2ba86f5d049\" class=\"sk-toggleable__label sk-toggleable__label-arrow\">SimpleImputer</label><div class=\"sk-toggleable__content\"><pre>SimpleImputer(strategy=&#x27;median&#x27;)</pre></div></div></div><div class=\"sk-item\"><div class=\"sk-estimator sk-toggleable\"><input class=\"sk-toggleable__control sk-hidden--visually\" id=\"9d87f532-e302-4aba-a54d-b3bc91bbda78\" type=\"checkbox\" ><label for=\"9d87f532-e302-4aba-a54d-b3bc91bbda78\" class=\"sk-toggleable__label sk-toggleable__label-arrow\">StandardScaler</label><div class=\"sk-toggleable__content\"><pre>StandardScaler()</pre></div></div></div><div class=\"sk-item\"><div class=\"sk-estimator sk-toggleable\"><input class=\"sk-toggleable__control sk-hidden--visually\" id=\"fa95fb14-5e07-4a0f-a443-5aa2e7c537ce\" type=\"checkbox\" ><label for=\"fa95fb14-5e07-4a0f-a443-5aa2e7c537ce\" class=\"sk-toggleable__label sk-toggleable__label-arrow\">PCA</label><div class=\"sk-toggleable__content\"><pre>PCA(n_components=0.8)</pre></div></div></div></div></div></div></div></div><div class=\"sk-parallel-item\"><div class=\"sk-item\"><div class=\"sk-label-container\"><div class=\"sk-label sk-toggleable\"><input class=\"sk-toggleable__control sk-hidden--visually\" id=\"8e212e23-d29e-4795-98be-71150a26e3e8\" type=\"checkbox\" ><label for=\"8e212e23-d29e-4795-98be-71150a26e3e8\" class=\"sk-toggleable__label sk-toggleable__label-arrow\">cat</label><div class=\"sk-toggleable__content\"><pre>[&#x27;Job&#x27;, &#x27;Marital Status&#x27;, &#x27;Education&#x27;, &#x27;Credit&#x27;, &#x27;Housing Loan&#x27;, &#x27;Personal Loan&#x27;]</pre></div></div></div><div class=\"sk-serial\"><div class=\"sk-item\"><div class=\"sk-estimator sk-toggleable\"><input class=\"sk-toggleable__control sk-hidden--visually\" id=\"da9fe657-429d-45d4-83d2-f625d2db0e01\" type=\"checkbox\" ><label for=\"da9fe657-429d-45d4-83d2-f625d2db0e01\" class=\"sk-toggleable__label sk-toggleable__label-arrow\">OneHotEncoder</label><div class=\"sk-toggleable__content\"><pre>OneHotEncoder(sparse=False)</pre></div></div></div></div></div></div></div></div><div class=\"sk-item\"><div class=\"sk-estimator sk-toggleable\"><input class=\"sk-toggleable__control sk-hidden--visually\" id=\"2ce0e891-915e-4a23-adc9-02488f4ebd81\" type=\"checkbox\" ><label for=\"2ce0e891-915e-4a23-adc9-02488f4ebd81\" class=\"sk-toggleable__label sk-toggleable__label-arrow\">SVC</label><div class=\"sk-toggleable__content\"><pre>SVC()</pre></div></div></div></div></div></div></div>"
      ],
      "text/plain": [
       "Pipeline(steps=[('preprocesamiento',\n",
       "                 ColumnTransformer(transformers=[('num',\n",
       "                                                  Pipeline(steps=[('imputer',\n",
       "                                                                   SimpleImputer(strategy='median')),\n",
       "                                                                  ('scaler',\n",
       "                                                                   StandardScaler()),\n",
       "                                                                  ('pca',\n",
       "                                                                   PCA(n_components=0.8))]),\n",
       "                                                  ['Age', 'Balance (euros)',\n",
       "                                                   'Last Contact Day',\n",
       "                                                   'Last Contact Month',\n",
       "                                                   'Last Contact Duration',\n",
       "                                                   'Campaign', 'Pdays',\n",
       "                                                   'Previous']),\n",
       "                                                 ('cat',\n",
       "                                                  OneHotEncoder(sparse=False),\n",
       "                                                  ['Job', 'Marital Status',\n",
       "                                                   'Education', 'Credit',\n",
       "                                                   'Housing Loan',\n",
       "                                                   'Personal Loan'])])),\n",
       "                ('estimador', SVC())])"
      ]
     },
     "execution_count": 64,
     "metadata": {},
     "output_type": "execute_result"
    }
   ],
   "source": [
    "## Imprimimos el gráfico del workflow diseñado hasta acá.\n",
    "set_config(display=\"diagram\")\n",
    "pipeline2"
   ]
  },
  {
   "cell_type": "code",
   "execution_count": null,
   "metadata": {
    "colab": {
     "base_uri": "https://localhost:8080/",
     "height": 424
    },
    "executionInfo": {
     "elapsed": 4,
     "status": "ok",
     "timestamp": 1669299076775,
     "user": {
      "displayName": "MARTÍN NICOLAS AISCAR",
      "userId": "18143931623073660355"
     },
     "user_tz": 180
    },
    "id": "g-L8iQBKcu5-",
    "outputId": "235a6387-47e4-4288-a950-83a62b6df89b"
   },
   "outputs": [
    {
     "data": {
      "text/html": [
       "\n",
       "  <div id=\"df-64b129e3-68d4-40e5-b265-af5958e8e43b\">\n",
       "    <div class=\"colab-df-container\">\n",
       "      <div>\n",
       "<style scoped>\n",
       "    .dataframe tbody tr th:only-of-type {\n",
       "        vertical-align: middle;\n",
       "    }\n",
       "\n",
       "    .dataframe tbody tr th {\n",
       "        vertical-align: top;\n",
       "    }\n",
       "\n",
       "    .dataframe thead th {\n",
       "        text-align: right;\n",
       "    }\n",
       "</style>\n",
       "<table border=\"1\" class=\"dataframe\">\n",
       "  <thead>\n",
       "    <tr style=\"text-align: right;\">\n",
       "      <th></th>\n",
       "      <th>0</th>\n",
       "      <th>1</th>\n",
       "      <th>2</th>\n",
       "      <th>3</th>\n",
       "      <th>4</th>\n",
       "      <th>5</th>\n",
       "      <th>6</th>\n",
       "      <th>7</th>\n",
       "      <th>8</th>\n",
       "      <th>9</th>\n",
       "      <th>...</th>\n",
       "      <th>19</th>\n",
       "      <th>20</th>\n",
       "      <th>21</th>\n",
       "      <th>22</th>\n",
       "      <th>23</th>\n",
       "      <th>24</th>\n",
       "      <th>25</th>\n",
       "      <th>26</th>\n",
       "      <th>27</th>\n",
       "      <th>28</th>\n",
       "    </tr>\n",
       "  </thead>\n",
       "  <tbody>\n",
       "    <tr>\n",
       "      <th>0</th>\n",
       "      <td>-0.644474</td>\n",
       "      <td>0.370519</td>\n",
       "      <td>-0.859680</td>\n",
       "      <td>0.792350</td>\n",
       "      <td>-1.179097</td>\n",
       "      <td>0.249241</td>\n",
       "      <td>0.0</td>\n",
       "      <td>1.0</td>\n",
       "      <td>0.0</td>\n",
       "      <td>0.0</td>\n",
       "      <td>...</td>\n",
       "      <td>0.0</td>\n",
       "      <td>1.0</td>\n",
       "      <td>0.0</td>\n",
       "      <td>0.0</td>\n",
       "      <td>1.0</td>\n",
       "      <td>0.0</td>\n",
       "      <td>1.0</td>\n",
       "      <td>0.0</td>\n",
       "      <td>1.0</td>\n",
       "      <td>0.0</td>\n",
       "    </tr>\n",
       "    <tr>\n",
       "      <th>1</th>\n",
       "      <td>0.964884</td>\n",
       "      <td>-0.522642</td>\n",
       "      <td>-0.690361</td>\n",
       "      <td>-1.947633</td>\n",
       "      <td>0.115890</td>\n",
       "      <td>1.145652</td>\n",
       "      <td>1.0</td>\n",
       "      <td>0.0</td>\n",
       "      <td>0.0</td>\n",
       "      <td>0.0</td>\n",
       "      <td>...</td>\n",
       "      <td>0.0</td>\n",
       "      <td>0.0</td>\n",
       "      <td>1.0</td>\n",
       "      <td>0.0</td>\n",
       "      <td>1.0</td>\n",
       "      <td>0.0</td>\n",
       "      <td>1.0</td>\n",
       "      <td>0.0</td>\n",
       "      <td>1.0</td>\n",
       "      <td>0.0</td>\n",
       "    </tr>\n",
       "    <tr>\n",
       "      <th>2</th>\n",
       "      <td>0.131645</td>\n",
       "      <td>0.157250</td>\n",
       "      <td>-0.519654</td>\n",
       "      <td>-1.393714</td>\n",
       "      <td>-0.729715</td>\n",
       "      <td>0.951675</td>\n",
       "      <td>0.0</td>\n",
       "      <td>0.0</td>\n",
       "      <td>0.0</td>\n",
       "      <td>0.0</td>\n",
       "      <td>...</td>\n",
       "      <td>0.0</td>\n",
       "      <td>0.0</td>\n",
       "      <td>1.0</td>\n",
       "      <td>0.0</td>\n",
       "      <td>1.0</td>\n",
       "      <td>0.0</td>\n",
       "      <td>0.0</td>\n",
       "      <td>1.0</td>\n",
       "      <td>1.0</td>\n",
       "      <td>0.0</td>\n",
       "    </tr>\n",
       "    <tr>\n",
       "      <th>3</th>\n",
       "      <td>0.161629</td>\n",
       "      <td>-1.144233</td>\n",
       "      <td>-0.464309</td>\n",
       "      <td>0.639883</td>\n",
       "      <td>-0.843985</td>\n",
       "      <td>-0.157130</td>\n",
       "      <td>0.0</td>\n",
       "      <td>0.0</td>\n",
       "      <td>0.0</td>\n",
       "      <td>1.0</td>\n",
       "      <td>...</td>\n",
       "      <td>0.0</td>\n",
       "      <td>0.0</td>\n",
       "      <td>0.0</td>\n",
       "      <td>1.0</td>\n",
       "      <td>0.0</td>\n",
       "      <td>1.0</td>\n",
       "      <td>0.0</td>\n",
       "      <td>1.0</td>\n",
       "      <td>1.0</td>\n",
       "      <td>0.0</td>\n",
       "    </tr>\n",
       "    <tr>\n",
       "      <th>4</th>\n",
       "      <td>0.665262</td>\n",
       "      <td>-1.671518</td>\n",
       "      <td>-1.222033</td>\n",
       "      <td>2.445258</td>\n",
       "      <td>0.089230</td>\n",
       "      <td>0.800221</td>\n",
       "      <td>0.0</td>\n",
       "      <td>0.0</td>\n",
       "      <td>0.0</td>\n",
       "      <td>0.0</td>\n",
       "      <td>...</td>\n",
       "      <td>1.0</td>\n",
       "      <td>0.0</td>\n",
       "      <td>1.0</td>\n",
       "      <td>0.0</td>\n",
       "      <td>1.0</td>\n",
       "      <td>0.0</td>\n",
       "      <td>0.0</td>\n",
       "      <td>1.0</td>\n",
       "      <td>1.0</td>\n",
       "      <td>0.0</td>\n",
       "    </tr>\n",
       "    <tr>\n",
       "      <th>...</th>\n",
       "      <td>...</td>\n",
       "      <td>...</td>\n",
       "      <td>...</td>\n",
       "      <td>...</td>\n",
       "      <td>...</td>\n",
       "      <td>...</td>\n",
       "      <td>...</td>\n",
       "      <td>...</td>\n",
       "      <td>...</td>\n",
       "      <td>...</td>\n",
       "      <td>...</td>\n",
       "      <td>...</td>\n",
       "      <td>...</td>\n",
       "      <td>...</td>\n",
       "      <td>...</td>\n",
       "      <td>...</td>\n",
       "      <td>...</td>\n",
       "      <td>...</td>\n",
       "      <td>...</td>\n",
       "      <td>...</td>\n",
       "      <td>...</td>\n",
       "    </tr>\n",
       "    <tr>\n",
       "      <th>7165</th>\n",
       "      <td>0.149791</td>\n",
       "      <td>-1.368057</td>\n",
       "      <td>0.607243</td>\n",
       "      <td>-0.462427</td>\n",
       "      <td>0.479346</td>\n",
       "      <td>-0.478561</td>\n",
       "      <td>0.0</td>\n",
       "      <td>0.0</td>\n",
       "      <td>0.0</td>\n",
       "      <td>0.0</td>\n",
       "      <td>...</td>\n",
       "      <td>0.0</td>\n",
       "      <td>0.0</td>\n",
       "      <td>1.0</td>\n",
       "      <td>0.0</td>\n",
       "      <td>1.0</td>\n",
       "      <td>0.0</td>\n",
       "      <td>0.0</td>\n",
       "      <td>1.0</td>\n",
       "      <td>1.0</td>\n",
       "      <td>0.0</td>\n",
       "    </tr>\n",
       "    <tr>\n",
       "      <th>7166</th>\n",
       "      <td>-1.285497</td>\n",
       "      <td>1.643290</td>\n",
       "      <td>-0.801707</td>\n",
       "      <td>-0.146292</td>\n",
       "      <td>-0.333346</td>\n",
       "      <td>-1.171242</td>\n",
       "      <td>0.0</td>\n",
       "      <td>1.0</td>\n",
       "      <td>0.0</td>\n",
       "      <td>0.0</td>\n",
       "      <td>...</td>\n",
       "      <td>0.0</td>\n",
       "      <td>1.0</td>\n",
       "      <td>0.0</td>\n",
       "      <td>0.0</td>\n",
       "      <td>1.0</td>\n",
       "      <td>0.0</td>\n",
       "      <td>0.0</td>\n",
       "      <td>1.0</td>\n",
       "      <td>0.0</td>\n",
       "      <td>1.0</td>\n",
       "    </tr>\n",
       "    <tr>\n",
       "      <th>7167</th>\n",
       "      <td>0.034736</td>\n",
       "      <td>-0.303223</td>\n",
       "      <td>-0.109122</td>\n",
       "      <td>-0.795763</td>\n",
       "      <td>0.472837</td>\n",
       "      <td>-0.277924</td>\n",
       "      <td>0.0</td>\n",
       "      <td>0.0</td>\n",
       "      <td>0.0</td>\n",
       "      <td>0.0</td>\n",
       "      <td>...</td>\n",
       "      <td>0.0</td>\n",
       "      <td>0.0</td>\n",
       "      <td>1.0</td>\n",
       "      <td>0.0</td>\n",
       "      <td>1.0</td>\n",
       "      <td>0.0</td>\n",
       "      <td>0.0</td>\n",
       "      <td>1.0</td>\n",
       "      <td>1.0</td>\n",
       "      <td>0.0</td>\n",
       "    </tr>\n",
       "    <tr>\n",
       "      <th>7168</th>\n",
       "      <td>0.138983</td>\n",
       "      <td>-0.664832</td>\n",
       "      <td>-0.354438</td>\n",
       "      <td>0.201521</td>\n",
       "      <td>0.352620</td>\n",
       "      <td>0.355163</td>\n",
       "      <td>0.0</td>\n",
       "      <td>0.0</td>\n",
       "      <td>0.0</td>\n",
       "      <td>0.0</td>\n",
       "      <td>...</td>\n",
       "      <td>1.0</td>\n",
       "      <td>0.0</td>\n",
       "      <td>0.0</td>\n",
       "      <td>1.0</td>\n",
       "      <td>1.0</td>\n",
       "      <td>0.0</td>\n",
       "      <td>0.0</td>\n",
       "      <td>1.0</td>\n",
       "      <td>1.0</td>\n",
       "      <td>0.0</td>\n",
       "    </tr>\n",
       "    <tr>\n",
       "      <th>7169</th>\n",
       "      <td>-0.209751</td>\n",
       "      <td>-0.826768</td>\n",
       "      <td>0.398671</td>\n",
       "      <td>0.081586</td>\n",
       "      <td>0.339504</td>\n",
       "      <td>-0.584725</td>\n",
       "      <td>0.0</td>\n",
       "      <td>0.0</td>\n",
       "      <td>0.0</td>\n",
       "      <td>0.0</td>\n",
       "      <td>...</td>\n",
       "      <td>1.0</td>\n",
       "      <td>0.0</td>\n",
       "      <td>0.0</td>\n",
       "      <td>1.0</td>\n",
       "      <td>1.0</td>\n",
       "      <td>0.0</td>\n",
       "      <td>0.0</td>\n",
       "      <td>1.0</td>\n",
       "      <td>0.0</td>\n",
       "      <td>1.0</td>\n",
       "    </tr>\n",
       "  </tbody>\n",
       "</table>\n",
       "<p>7170 rows × 29 columns</p>\n",
       "</div>\n",
       "      <button class=\"colab-df-convert\" onclick=\"convertToInteractive('df-64b129e3-68d4-40e5-b265-af5958e8e43b')\"\n",
       "              title=\"Convert this dataframe to an interactive table.\"\n",
       "              style=\"display:none;\">\n",
       "        \n",
       "  <svg xmlns=\"http://www.w3.org/2000/svg\" height=\"24px\"viewBox=\"0 0 24 24\"\n",
       "       width=\"24px\">\n",
       "    <path d=\"M0 0h24v24H0V0z\" fill=\"none\"/>\n",
       "    <path d=\"M18.56 5.44l.94 2.06.94-2.06 2.06-.94-2.06-.94-.94-2.06-.94 2.06-2.06.94zm-11 1L8.5 8.5l.94-2.06 2.06-.94-2.06-.94L8.5 2.5l-.94 2.06-2.06.94zm10 10l.94 2.06.94-2.06 2.06-.94-2.06-.94-.94-2.06-.94 2.06-2.06.94z\"/><path d=\"M17.41 7.96l-1.37-1.37c-.4-.4-.92-.59-1.43-.59-.52 0-1.04.2-1.43.59L10.3 9.45l-7.72 7.72c-.78.78-.78 2.05 0 2.83L4 21.41c.39.39.9.59 1.41.59.51 0 1.02-.2 1.41-.59l7.78-7.78 2.81-2.81c.8-.78.8-2.07 0-2.86zM5.41 20L4 18.59l7.72-7.72 1.47 1.35L5.41 20z\"/>\n",
       "  </svg>\n",
       "      </button>\n",
       "      \n",
       "  <style>\n",
       "    .colab-df-container {\n",
       "      display:flex;\n",
       "      flex-wrap:wrap;\n",
       "      gap: 12px;\n",
       "    }\n",
       "\n",
       "    .colab-df-convert {\n",
       "      background-color: #E8F0FE;\n",
       "      border: none;\n",
       "      border-radius: 50%;\n",
       "      cursor: pointer;\n",
       "      display: none;\n",
       "      fill: #1967D2;\n",
       "      height: 32px;\n",
       "      padding: 0 0 0 0;\n",
       "      width: 32px;\n",
       "    }\n",
       "\n",
       "    .colab-df-convert:hover {\n",
       "      background-color: #E2EBFA;\n",
       "      box-shadow: 0px 1px 2px rgba(60, 64, 67, 0.3), 0px 1px 3px 1px rgba(60, 64, 67, 0.15);\n",
       "      fill: #174EA6;\n",
       "    }\n",
       "\n",
       "    [theme=dark] .colab-df-convert {\n",
       "      background-color: #3B4455;\n",
       "      fill: #D2E3FC;\n",
       "    }\n",
       "\n",
       "    [theme=dark] .colab-df-convert:hover {\n",
       "      background-color: #434B5C;\n",
       "      box-shadow: 0px 1px 3px 1px rgba(0, 0, 0, 0.15);\n",
       "      filter: drop-shadow(0px 1px 2px rgba(0, 0, 0, 0.3));\n",
       "      fill: #FFFFFF;\n",
       "    }\n",
       "  </style>\n",
       "\n",
       "      <script>\n",
       "        const buttonEl =\n",
       "          document.querySelector('#df-64b129e3-68d4-40e5-b265-af5958e8e43b button.colab-df-convert');\n",
       "        buttonEl.style.display =\n",
       "          google.colab.kernel.accessAllowed ? 'block' : 'none';\n",
       "\n",
       "        async function convertToInteractive(key) {\n",
       "          const element = document.querySelector('#df-64b129e3-68d4-40e5-b265-af5958e8e43b');\n",
       "          const dataTable =\n",
       "            await google.colab.kernel.invokeFunction('convertToInteractive',\n",
       "                                                     [key], {});\n",
       "          if (!dataTable) return;\n",
       "\n",
       "          const docLinkHtml = 'Like what you see? Visit the ' +\n",
       "            '<a target=\"_blank\" href=https://colab.research.google.com/notebooks/data_table.ipynb>data table notebook</a>'\n",
       "            + ' to learn more about interactive tables.';\n",
       "          element.innerHTML = '';\n",
       "          dataTable['output_type'] = 'display_data';\n",
       "          await google.colab.output.renderOutput(dataTable, element);\n",
       "          const docLink = document.createElement('div');\n",
       "          docLink.innerHTML = docLinkHtml;\n",
       "          element.appendChild(docLink);\n",
       "        }\n",
       "      </script>\n",
       "    </div>\n",
       "  </div>\n",
       "  "
      ],
      "text/plain": [
       "            0         1         2         3         4         5    6    7   \\\n",
       "0    -0.644474  0.370519 -0.859680  0.792350 -1.179097  0.249241  0.0  1.0   \n",
       "1     0.964884 -0.522642 -0.690361 -1.947633  0.115890  1.145652  1.0  0.0   \n",
       "2     0.131645  0.157250 -0.519654 -1.393714 -0.729715  0.951675  0.0  0.0   \n",
       "3     0.161629 -1.144233 -0.464309  0.639883 -0.843985 -0.157130  0.0  0.0   \n",
       "4     0.665262 -1.671518 -1.222033  2.445258  0.089230  0.800221  0.0  0.0   \n",
       "...        ...       ...       ...       ...       ...       ...  ...  ...   \n",
       "7165  0.149791 -1.368057  0.607243 -0.462427  0.479346 -0.478561  0.0  0.0   \n",
       "7166 -1.285497  1.643290 -0.801707 -0.146292 -0.333346 -1.171242  0.0  1.0   \n",
       "7167  0.034736 -0.303223 -0.109122 -0.795763  0.472837 -0.277924  0.0  0.0   \n",
       "7168  0.138983 -0.664832 -0.354438  0.201521  0.352620  0.355163  0.0  0.0   \n",
       "7169 -0.209751 -0.826768  0.398671  0.081586  0.339504 -0.584725  0.0  0.0   \n",
       "\n",
       "       8    9   ...   19   20   21   22   23   24   25   26   27   28  \n",
       "0     0.0  0.0  ...  0.0  1.0  0.0  0.0  1.0  0.0  1.0  0.0  1.0  0.0  \n",
       "1     0.0  0.0  ...  0.0  0.0  1.0  0.0  1.0  0.0  1.0  0.0  1.0  0.0  \n",
       "2     0.0  0.0  ...  0.0  0.0  1.0  0.0  1.0  0.0  0.0  1.0  1.0  0.0  \n",
       "3     0.0  1.0  ...  0.0  0.0  0.0  1.0  0.0  1.0  0.0  1.0  1.0  0.0  \n",
       "4     0.0  0.0  ...  1.0  0.0  1.0  0.0  1.0  0.0  0.0  1.0  1.0  0.0  \n",
       "...   ...  ...  ...  ...  ...  ...  ...  ...  ...  ...  ...  ...  ...  \n",
       "7165  0.0  0.0  ...  0.0  0.0  1.0  0.0  1.0  0.0  0.0  1.0  1.0  0.0  \n",
       "7166  0.0  0.0  ...  0.0  1.0  0.0  0.0  1.0  0.0  0.0  1.0  0.0  1.0  \n",
       "7167  0.0  0.0  ...  0.0  0.0  1.0  0.0  1.0  0.0  0.0  1.0  1.0  0.0  \n",
       "7168  0.0  0.0  ...  1.0  0.0  0.0  1.0  1.0  0.0  0.0  1.0  1.0  0.0  \n",
       "7169  0.0  0.0  ...  1.0  0.0  0.0  1.0  1.0  0.0  0.0  1.0  0.0  1.0  \n",
       "\n",
       "[7170 rows x 29 columns]"
      ]
     },
     "execution_count": 65,
     "metadata": {},
     "output_type": "execute_result"
    }
   ],
   "source": [
    "## Observamos la cantidad de features con las que queda el nuevo dataset a entrenar luego de aplicarle el preprocesamiento que incluye el método PCA.\n",
    "pd.DataFrame(preprocesamiento1.fit_transform(xtrain))"
   ]
  },
  {
   "cell_type": "code",
   "execution_count": null,
   "metadata": {
    "colab": {
     "base_uri": "https://localhost:8080/",
     "height": 270
    },
    "executionInfo": {
     "elapsed": 1538,
     "status": "ok",
     "timestamp": 1669299080797,
     "user": {
      "displayName": "MARTÍN NICOLAS AISCAR",
      "userId": "18143931623073660355"
     },
     "user_tz": 180
    },
    "id": "GadAcA5AhXgx",
    "outputId": "8c35586f-6b00-4748-daae-511472e6caf9"
   },
   "outputs": [
    {
     "data": {
      "image/png": "[encoded data removed]",
      "text/plain": [
       "<Figure size 432x288 with 2 Axes>"
      ]
     },
     "metadata": {
      "needs_background": "light"
     },
     "output_type": "display_data"
    }
   ],
   "source": [
    "## Imprimimos un heatmap del dataset de Train luego de aplicar el preprocesamiento que no incluye el PCA.\n",
    "sns.heatmap(pd.DataFrame(preprocesamiento.fit_transform(xtrain)))\n",
    "\n",
    "## Descargamos la imagen.\n",
    "#plot_name = \"datasetsinpca\"\n",
    "#plot_save = str(plot_path + plot_name)\n",
    "#plt.savefig(plot_save+\".png\",dpi=300)"
   ]
  },
  {
   "cell_type": "code",
   "execution_count": null,
   "metadata": {
    "colab": {
     "base_uri": "https://localhost:8080/",
     "height": 270
    },
    "executionInfo": {
     "elapsed": 1199,
     "status": "ok",
     "timestamp": 1669299083829,
     "user": {
      "displayName": "MARTÍN NICOLAS AISCAR",
      "userId": "18143931623073660355"
     },
     "user_tz": 180
    },
    "id": "LJGOSLKchZWi",
    "outputId": "33b8d4e9-db42-4bba-fd33-22022977e44c"
   },
   "outputs": [
    {
     "data": {
      "image/png": "[encoded data removed]",
      "text/plain": [
       "<Figure size 432x288 with 2 Axes>"
      ]
     },
     "metadata": {
      "needs_background": "light"
     },
     "output_type": "display_data"
    }
   ],
   "source": [
    "## Imprimimos un heatmap del dataset de Train luego de aplicar el preprocesamiento que incluye el PCA.\n",
    "sns.heatmap(preprocesamiento1.fit_transform(xtrain))\n",
    "\n",
    "## Descargamos la imagen.\n",
    "#plot_name = \"datasetconpca\"\n",
    "#plot_save = str(plot_path + plot_name)\n",
    "#plt.savefig(plot_save+\".png\",dpi=300)"
   ]
  },
  {
   "cell_type": "code",
   "execution_count": null,
   "metadata": {
    "id": "aPZUH7GoW4z1"
   },
   "outputs": [],
   "source": [
    "## Creamos el Grid Search + Cross Validation. \n",
    "grid_search2 = GridSearchCV(pipeline2, parametros,\n",
    "                  refit = True, ## Refit nos devuelve el modelo con los mejores parametros encontrados.\n",
    "                   cv = 5, ## Indica la cantidad de folds.\n",
    "                   verbose=40)"
   ]
  },
  {
   "cell_type": "code",
   "execution_count": null,
   "metadata": {
    "colab": {
     "base_uri": "https://localhost:8080/",
     "height": 1000
    },
    "executionInfo": {
     "elapsed": 722109,
     "status": "ok",
     "timestamp": 1669299819874,
     "user": {
      "displayName": "MARTÍN NICOLAS AISCAR",
      "userId": "18143931623073660355"
     },
     "user_tz": 180
    },
    "id": "iG8iN_49ACi7",
    "outputId": "7a05fa56-74db-4ed4-f5e7-38455363e1c0"
   },
   "outputs": [
    {
     "name": "stdout",
     "output_type": "stream",
     "text": [
      "Fitting 5 folds for each of 33 candidates, totalling 165 fits\n",
      "[CV 1/5; 1/33] START estimador=LogisticRegression(), estimador__C=0.001.........\n",
      "[CV 1/5; 1/33] END estimador=LogisticRegression(), estimador__C=0.001;, score=0.885 total time=   0.0s\n",
      "[CV 2/5; 1/33] START estimador=LogisticRegression(), estimador__C=0.001.........\n",
      "[CV 2/5; 1/33] END estimador=LogisticRegression(), estimador__C=0.001;, score=0.883 total time=   0.0s\n",
      "[CV 3/5; 1/33] START estimador=LogisticRegression(), estimador__C=0.001.........\n",
      "[CV 3/5; 1/33] END estimador=LogisticRegression(), estimador__C=0.001;, score=0.884 total time=   0.1s\n",
      "[CV 4/5; 1/33] START estimador=LogisticRegression(), estimador__C=0.001.........\n",
      "[CV 4/5; 1/33] END estimador=LogisticRegression(), estimador__C=0.001;, score=0.879 total time=   0.1s\n",
      "[CV 5/5; 1/33] START estimador=LogisticRegression(), estimador__C=0.001.........\n",
      "[CV 5/5; 1/33] END estimador=LogisticRegression(), estimador__C=0.001;, score=0.882 total time=   0.0s\n",
      "[CV 1/5; 2/33] START estimador=LogisticRegression(), estimador__C=1.............\n",
      "[CV 1/5; 2/33] END estimador=LogisticRegression(), estimador__C=1;, score=0.888 total time=   0.1s\n",
      "[CV 2/5; 2/33] START estimador=LogisticRegression(), estimador__C=1.............\n",
      "[CV 2/5; 2/33] END estimador=LogisticRegression(), estimador__C=1;, score=0.890 total time=   0.1s\n",
      "[CV 3/5; 2/33] START estimador=LogisticRegression(), estimador__C=1.............\n",
      "[CV 3/5; 2/33] END estimador=LogisticRegression(), estimador__C=1;, score=0.889 total time=   0.1s\n",
      "[CV 4/5; 2/33] START estimador=LogisticRegression(), estimador__C=1.............\n",
      "[CV 4/5; 2/33] END estimador=LogisticRegression(), estimador__C=1;, score=0.886 total time=   0.1s\n",
      "[CV 5/5; 2/33] START estimador=LogisticRegression(), estimador__C=1.............\n",
      "[CV 5/5; 2/33] END estimador=LogisticRegression(), estimador__C=1;, score=0.896 total time=   0.1s\n",
      "[CV 1/5; 3/33] START estimador=LogisticRegression(), estimador__C=10............\n",
      "[CV 1/5; 3/33] END estimador=LogisticRegression(), estimador__C=10;, score=0.888 total time=   0.1s\n",
      "[CV 2/5; 3/33] START estimador=LogisticRegression(), estimador__C=10............\n",
      "[CV 2/5; 3/33] END estimador=LogisticRegression(), estimador__C=10;, score=0.890 total time=   0.1s\n",
      "[CV 3/5; 3/33] START estimador=LogisticRegression(), estimador__C=10............\n",
      "[CV 3/5; 3/33] END estimador=LogisticRegression(), estimador__C=10;, score=0.889 total time=   0.1s\n",
      "[CV 4/5; 3/33] START estimador=LogisticRegression(), estimador__C=10............\n",
      "[CV 4/5; 3/33] END estimador=LogisticRegression(), estimador__C=10;, score=0.886 total time=   0.1s\n",
      "[CV 5/5; 3/33] START estimador=LogisticRegression(), estimador__C=10............\n",
      "[CV 5/5; 3/33] END estimador=LogisticRegression(), estimador__C=10;, score=0.895 total time=   0.1s\n",
      "[CV 1/5; 4/33] START estimador=SVC(C=1, gamma=0.1, probability=True), estimador__C=0.1, estimador__gamma=0.001, estimador__kernel=linear\n",
      "[CV 1/5; 4/33] END estimador=SVC(C=1, gamma=0.1, probability=True), estimador__C=0.1, estimador__gamma=0.001, estimador__kernel=linear;, score=0.881 total time=   1.8s\n",
      "[CV 2/5; 4/33] START estimador=SVC(C=1, gamma=0.1, probability=True), estimador__C=0.1, estimador__gamma=0.001, estimador__kernel=linear\n",
      "[CV 2/5; 4/33] END estimador=SVC(C=1, gamma=0.1, probability=True), estimador__C=0.1, estimador__gamma=0.001, estimador__kernel=linear;, score=0.881 total time=   1.9s\n",
      "[CV 3/5; 4/33] START estimador=SVC(C=1, gamma=0.1, probability=True), estimador__C=0.1, estimador__gamma=0.001, estimador__kernel=linear\n",
      "[CV 3/5; 4/33] END estimador=SVC(C=1, gamma=0.1, probability=True), estimador__C=0.1, estimador__gamma=0.001, estimador__kernel=linear;, score=0.881 total time=   1.8s\n",
      "[CV 4/5; 4/33] START estimador=SVC(C=1, gamma=0.1, probability=True), estimador__C=0.1, estimador__gamma=0.001, estimador__kernel=linear\n",
      "[CV 4/5; 4/33] END estimador=SVC(C=1, gamma=0.1, probability=True), estimador__C=0.1, estimador__gamma=0.001, estimador__kernel=linear;, score=0.881 total time=   2.0s\n",
      "[CV 5/5; 4/33] START estimador=SVC(C=1, gamma=0.1, probability=True), estimador__C=0.1, estimador__gamma=0.001, estimador__kernel=linear\n",
      "[CV 5/5; 4/33] END estimador=SVC(C=1, gamma=0.1, probability=True), estimador__C=0.1, estimador__gamma=0.001, estimador__kernel=linear;, score=0.880 total time=   1.7s\n",
      "[CV 1/5; 5/33] START estimador=SVC(C=1, gamma=0.1, probability=True), estimador__C=0.1, estimador__gamma=0.001, estimador__kernel=rbf\n",
      "[CV 1/5; 5/33] END estimador=SVC(C=1, gamma=0.1, probability=True), estimador__C=0.1, estimador__gamma=0.001, estimador__kernel=rbf;, score=0.881 total time=   2.9s\n",
      "[CV 2/5; 5/33] START estimador=SVC(C=1, gamma=0.1, probability=True), estimador__C=0.1, estimador__gamma=0.001, estimador__kernel=rbf\n",
      "[CV 2/5; 5/33] END estimador=SVC(C=1, gamma=0.1, probability=True), estimador__C=0.1, estimador__gamma=0.001, estimador__kernel=rbf;, score=0.881 total time=   2.9s\n",
      "[CV 3/5; 5/33] START estimador=SVC(C=1, gamma=0.1, probability=True), estimador__C=0.1, estimador__gamma=0.001, estimador__kernel=rbf\n",
      "[CV 3/5; 5/33] END estimador=SVC(C=1, gamma=0.1, probability=True), estimador__C=0.1, estimador__gamma=0.001, estimador__kernel=rbf;, score=0.881 total time=   2.8s\n",
      "[CV 4/5; 5/33] START estimador=SVC(C=1, gamma=0.1, probability=True), estimador__C=0.1, estimador__gamma=0.001, estimador__kernel=rbf\n",
      "[CV 4/5; 5/33] END estimador=SVC(C=1, gamma=0.1, probability=True), estimador__C=0.1, estimador__gamma=0.001, estimador__kernel=rbf;, score=0.881 total time=   2.9s\n",
      "[CV 5/5; 5/33] START estimador=SVC(C=1, gamma=0.1, probability=True), estimador__C=0.1, estimador__gamma=0.001, estimador__kernel=rbf\n",
      "[CV 5/5; 5/33] END estimador=SVC(C=1, gamma=0.1, probability=True), estimador__C=0.1, estimador__gamma=0.001, estimador__kernel=rbf;, score=0.880 total time=   2.8s\n",
      "[CV 1/5; 6/33] START estimador=SVC(C=1, gamma=0.1, probability=True), estimador__C=0.1, estimador__gamma=0.01, estimador__kernel=linear\n",
      "[CV 1/5; 6/33] END estimador=SVC(C=1, gamma=0.1, probability=True), estimador__C=0.1, estimador__gamma=0.01, estimador__kernel=linear;, score=0.881 total time=   1.8s\n",
      "[CV 2/5; 6/33] START estimador=SVC(C=1, gamma=0.1, probability=True), estimador__C=0.1, estimador__gamma=0.01, estimador__kernel=linear\n",
      "[CV 2/5; 6/33] END estimador=SVC(C=1, gamma=0.1, probability=True), estimador__C=0.1, estimador__gamma=0.01, estimador__kernel=linear;, score=0.881 total time=   1.8s\n",
      "[CV 3/5; 6/33] START estimador=SVC(C=1, gamma=0.1, probability=True), estimador__C=0.1, estimador__gamma=0.01, estimador__kernel=linear\n",
      "[CV 3/5; 6/33] END estimador=SVC(C=1, gamma=0.1, probability=True), estimador__C=0.1, estimador__gamma=0.01, estimador__kernel=linear;, score=0.881 total time=   1.7s\n",
      "[CV 4/5; 6/33] START estimador=SVC(C=1, gamma=0.1, probability=True), estimador__C=0.1, estimador__gamma=0.01, estimador__kernel=linear\n",
      "[CV 4/5; 6/33] END estimador=SVC(C=1, gamma=0.1, probability=True), estimador__C=0.1, estimador__gamma=0.01, estimador__kernel=linear;, score=0.881 total time=   2.0s\n",
      "[CV 5/5; 6/33] START estimador=SVC(C=1, gamma=0.1, probability=True), estimador__C=0.1, estimador__gamma=0.01, estimador__kernel=linear\n",
      "[CV 5/5; 6/33] END estimador=SVC(C=1, gamma=0.1, probability=True), estimador__C=0.1, estimador__gamma=0.01, estimador__kernel=linear;, score=0.880 total time=   1.7s\n",
      "[CV 1/5; 7/33] START estimador=SVC(C=1, gamma=0.1, probability=True), estimador__C=0.1, estimador__gamma=0.01, estimador__kernel=rbf\n",
      "[CV 1/5; 7/33] END estimador=SVC(C=1, gamma=0.1, probability=True), estimador__C=0.1, estimador__gamma=0.01, estimador__kernel=rbf;, score=0.881 total time=   3.1s\n",
      "[CV 2/5; 7/33] START estimador=SVC(C=1, gamma=0.1, probability=True), estimador__C=0.1, estimador__gamma=0.01, estimador__kernel=rbf\n",
      "[CV 2/5; 7/33] END estimador=SVC(C=1, gamma=0.1, probability=True), estimador__C=0.1, estimador__gamma=0.01, estimador__kernel=rbf;, score=0.881 total time=   3.1s\n",
      "[CV 3/5; 7/33] START estimador=SVC(C=1, gamma=0.1, probability=True), estimador__C=0.1, estimador__gamma=0.01, estimador__kernel=rbf\n",
      "[CV 3/5; 7/33] END estimador=SVC(C=1, gamma=0.1, probability=True), estimador__C=0.1, estimador__gamma=0.01, estimador__kernel=rbf;, score=0.881 total time=   3.2s\n",
      "[CV 4/5; 7/33] START estimador=SVC(C=1, gamma=0.1, probability=True), estimador__C=0.1, estimador__gamma=0.01, estimador__kernel=rbf\n",
      "[CV 4/5; 7/33] END estimador=SVC(C=1, gamma=0.1, probability=True), estimador__C=0.1, estimador__gamma=0.01, estimador__kernel=rbf;, score=0.881 total time=   3.0s\n",
      "[CV 5/5; 7/33] START estimador=SVC(C=1, gamma=0.1, probability=True), estimador__C=0.1, estimador__gamma=0.01, estimador__kernel=rbf\n",
      "[CV 5/5; 7/33] END estimador=SVC(C=1, gamma=0.1, probability=True), estimador__C=0.1, estimador__gamma=0.01, estimador__kernel=rbf;, score=0.880 total time=   3.2s\n",
      "[CV 1/5; 8/33] START estimador=SVC(C=1, gamma=0.1, probability=True), estimador__C=0.1, estimador__gamma=0.1, estimador__kernel=linear\n",
      "[CV 1/5; 8/33] END estimador=SVC(C=1, gamma=0.1, probability=True), estimador__C=0.1, estimador__gamma=0.1, estimador__kernel=linear;, score=0.881 total time=   1.8s\n",
      "[CV 2/5; 8/33] START estimador=SVC(C=1, gamma=0.1, probability=True), estimador__C=0.1, estimador__gamma=0.1, estimador__kernel=linear\n",
      "[CV 2/5; 8/33] END estimador=SVC(C=1, gamma=0.1, probability=True), estimador__C=0.1, estimador__gamma=0.1, estimador__kernel=linear;, score=0.881 total time=   1.9s\n",
      "[CV 3/5; 8/33] START estimador=SVC(C=1, gamma=0.1, probability=True), estimador__C=0.1, estimador__gamma=0.1, estimador__kernel=linear\n",
      "[CV 3/5; 8/33] END estimador=SVC(C=1, gamma=0.1, probability=True), estimador__C=0.1, estimador__gamma=0.1, estimador__kernel=linear;, score=0.881 total time=   2.5s\n",
      "[CV 4/5; 8/33] START estimador=SVC(C=1, gamma=0.1, probability=True), estimador__C=0.1, estimador__gamma=0.1, estimador__kernel=linear\n",
      "[CV 4/5; 8/33] END estimador=SVC(C=1, gamma=0.1, probability=True), estimador__C=0.1, estimador__gamma=0.1, estimador__kernel=linear;, score=0.881 total time=   2.3s\n",
      "[CV 5/5; 8/33] START estimador=SVC(C=1, gamma=0.1, probability=True), estimador__C=0.1, estimador__gamma=0.1, estimador__kernel=linear\n",
      "[CV 5/5; 8/33] END estimador=SVC(C=1, gamma=0.1, probability=True), estimador__C=0.1, estimador__gamma=0.1, estimador__kernel=linear;, score=0.880 total time=   1.7s\n",
      "[CV 1/5; 9/33] START estimador=SVC(C=1, gamma=0.1, probability=True), estimador__C=0.1, estimador__gamma=0.1, estimador__kernel=rbf\n",
      "[CV 1/5; 9/33] END estimador=SVC(C=1, gamma=0.1, probability=True), estimador__C=0.1, estimador__gamma=0.1, estimador__kernel=rbf;, score=0.884 total time=   3.4s\n",
      "[CV 2/5; 9/33] START estimador=SVC(C=1, gamma=0.1, probability=True), estimador__C=0.1, estimador__gamma=0.1, estimador__kernel=rbf\n",
      "[CV 2/5; 9/33] END estimador=SVC(C=1, gamma=0.1, probability=True), estimador__C=0.1, estimador__gamma=0.1, estimador__kernel=rbf;, score=0.882 total time=   3.4s\n",
      "[CV 3/5; 9/33] START estimador=SVC(C=1, gamma=0.1, probability=True), estimador__C=0.1, estimador__gamma=0.1, estimador__kernel=rbf\n",
      "[CV 3/5; 9/33] END estimador=SVC(C=1, gamma=0.1, probability=True), estimador__C=0.1, estimador__gamma=0.1, estimador__kernel=rbf;, score=0.883 total time=   5.1s\n",
      "[CV 4/5; 9/33] START estimador=SVC(C=1, gamma=0.1, probability=True), estimador__C=0.1, estimador__gamma=0.1, estimador__kernel=rbf\n",
      "[CV 4/5; 9/33] END estimador=SVC(C=1, gamma=0.1, probability=True), estimador__C=0.1, estimador__gamma=0.1, estimador__kernel=rbf;, score=0.884 total time=   3.5s\n",
      "[CV 5/5; 9/33] START estimador=SVC(C=1, gamma=0.1, probability=True), estimador__C=0.1, estimador__gamma=0.1, estimador__kernel=rbf\n",
      "[CV 5/5; 9/33] END estimador=SVC(C=1, gamma=0.1, probability=True), estimador__C=0.1, estimador__gamma=0.1, estimador__kernel=rbf;, score=0.881 total time=   4.2s\n",
      "[CV 1/5; 10/33] START estimador=SVC(C=1, gamma=0.1, probability=True), estimador__C=0.1, estimador__gamma=1, estimador__kernel=linear\n",
      "[CV 1/5; 10/33] END estimador=SVC(C=1, gamma=0.1, probability=True), estimador__C=0.1, estimador__gamma=1, estimador__kernel=linear;, score=0.881 total time=   2.0s\n",
      "[CV 2/5; 10/33] START estimador=SVC(C=1, gamma=0.1, probability=True), estimador__C=0.1, estimador__gamma=1, estimador__kernel=linear\n",
      "[CV 2/5; 10/33] END estimador=SVC(C=1, gamma=0.1, probability=True), estimador__C=0.1, estimador__gamma=1, estimador__kernel=linear;, score=0.881 total time=   1.8s\n",
      "[CV 3/5; 10/33] START estimador=SVC(C=1, gamma=0.1, probability=True), estimador__C=0.1, estimador__gamma=1, estimador__kernel=linear\n",
      "[CV 3/5; 10/33] END estimador=SVC(C=1, gamma=0.1, probability=True), estimador__C=0.1, estimador__gamma=1, estimador__kernel=linear;, score=0.881 total time=   1.7s\n",
      "[CV 4/5; 10/33] START estimador=SVC(C=1, gamma=0.1, probability=True), estimador__C=0.1, estimador__gamma=1, estimador__kernel=linear\n",
      "[CV 4/5; 10/33] END estimador=SVC(C=1, gamma=0.1, probability=True), estimador__C=0.1, estimador__gamma=1, estimador__kernel=linear;, score=0.881 total time=   1.9s\n",
      "[CV 5/5; 10/33] START estimador=SVC(C=1, gamma=0.1, probability=True), estimador__C=0.1, estimador__gamma=1, estimador__kernel=linear\n",
      "[CV 5/5; 10/33] END estimador=SVC(C=1, gamma=0.1, probability=True), estimador__C=0.1, estimador__gamma=1, estimador__kernel=linear;, score=0.880 total time=   1.7s\n",
      "[CV 1/5; 11/33] START estimador=SVC(C=1, gamma=0.1, probability=True), estimador__C=0.1, estimador__gamma=1, estimador__kernel=rbf\n",
      "[CV 1/5; 11/33] END estimador=SVC(C=1, gamma=0.1, probability=True), estimador__C=0.1, estimador__gamma=1, estimador__kernel=rbf;, score=0.881 total time=   9.2s\n",
      "[CV 2/5; 11/33] START estimador=SVC(C=1, gamma=0.1, probability=True), estimador__C=0.1, estimador__gamma=1, estimador__kernel=rbf\n",
      "[CV 2/5; 11/33] END estimador=SVC(C=1, gamma=0.1, probability=True), estimador__C=0.1, estimador__gamma=1, estimador__kernel=rbf;, score=0.881 total time=   9.3s\n",
      "[CV 3/5; 11/33] START estimador=SVC(C=1, gamma=0.1, probability=True), estimador__C=0.1, estimador__gamma=1, estimador__kernel=rbf\n",
      "[CV 3/5; 11/33] END estimador=SVC(C=1, gamma=0.1, probability=True), estimador__C=0.1, estimador__gamma=1, estimador__kernel=rbf;, score=0.881 total time=   9.6s\n",
      "[CV 4/5; 11/33] START estimador=SVC(C=1, gamma=0.1, probability=True), estimador__C=0.1, estimador__gamma=1, estimador__kernel=rbf\n",
      "[CV 4/5; 11/33] END estimador=SVC(C=1, gamma=0.1, probability=True), estimador__C=0.1, estimador__gamma=1, estimador__kernel=rbf;, score=0.881 total time=   9.1s\n",
      "[CV 5/5; 11/33] START estimador=SVC(C=1, gamma=0.1, probability=True), estimador__C=0.1, estimador__gamma=1, estimador__kernel=rbf\n",
      "[CV 5/5; 11/33] END estimador=SVC(C=1, gamma=0.1, probability=True), estimador__C=0.1, estimador__gamma=1, estimador__kernel=rbf;, score=0.880 total time=   9.2s\n",
      "[CV 1/5; 12/33] START estimador=SVC(C=1, gamma=0.1, probability=True), estimador__C=0.1, estimador__gamma=10, estimador__kernel=linear\n",
      "[CV 1/5; 12/33] END estimador=SVC(C=1, gamma=0.1, probability=True), estimador__C=0.1, estimador__gamma=10, estimador__kernel=linear;, score=0.881 total time=   1.8s\n",
      "[CV 2/5; 12/33] START estimador=SVC(C=1, gamma=0.1, probability=True), estimador__C=0.1, estimador__gamma=10, estimador__kernel=linear\n",
      "[CV 2/5; 12/33] END estimador=SVC(C=1, gamma=0.1, probability=True), estimador__C=0.1, estimador__gamma=10, estimador__kernel=linear;, score=0.881 total time=   1.8s\n",
      "[CV 3/5; 12/33] START estimador=SVC(C=1, gamma=0.1, probability=True), estimador__C=0.1, estimador__gamma=10, estimador__kernel=linear\n",
      "[CV 3/5; 12/33] END estimador=SVC(C=1, gamma=0.1, probability=True), estimador__C=0.1, estimador__gamma=10, estimador__kernel=linear;, score=0.881 total time=   1.7s\n",
      "[CV 4/5; 12/33] START estimador=SVC(C=1, gamma=0.1, probability=True), estimador__C=0.1, estimador__gamma=10, estimador__kernel=linear\n",
      "[CV 4/5; 12/33] END estimador=SVC(C=1, gamma=0.1, probability=True), estimador__C=0.1, estimador__gamma=10, estimador__kernel=linear;, score=0.881 total time=   1.9s\n",
      "[CV 5/5; 12/33] START estimador=SVC(C=1, gamma=0.1, probability=True), estimador__C=0.1, estimador__gamma=10, estimador__kernel=linear\n",
      "[CV 5/5; 12/33] END estimador=SVC(C=1, gamma=0.1, probability=True), estimador__C=0.1, estimador__gamma=10, estimador__kernel=linear;, score=0.880 total time=   1.7s\n",
      "[CV 1/5; 13/33] START estimador=SVC(C=1, gamma=0.1, probability=True), estimador__C=0.1, estimador__gamma=10, estimador__kernel=rbf\n",
      "[CV 1/5; 13/33] END estimador=SVC(C=1, gamma=0.1, probability=True), estimador__C=0.1, estimador__gamma=10, estimador__kernel=rbf;, score=0.881 total time=  10.5s\n",
      "[CV 2/5; 13/33] START estimador=SVC(C=1, gamma=0.1, probability=True), estimador__C=0.1, estimador__gamma=10, estimador__kernel=rbf\n",
      "[CV 2/5; 13/33] END estimador=SVC(C=1, gamma=0.1, probability=True), estimador__C=0.1, estimador__gamma=10, estimador__kernel=rbf;, score=0.881 total time=  10.4s\n",
      "[CV 3/5; 13/33] START estimador=SVC(C=1, gamma=0.1, probability=True), estimador__C=0.1, estimador__gamma=10, estimador__kernel=rbf\n",
      "[CV 3/5; 13/33] END estimador=SVC(C=1, gamma=0.1, probability=True), estimador__C=0.1, estimador__gamma=10, estimador__kernel=rbf;, score=0.881 total time=  10.4s\n",
      "[CV 4/5; 13/33] START estimador=SVC(C=1, gamma=0.1, probability=True), estimador__C=0.1, estimador__gamma=10, estimador__kernel=rbf\n",
      "[CV 4/5; 13/33] END estimador=SVC(C=1, gamma=0.1, probability=True), estimador__C=0.1, estimador__gamma=10, estimador__kernel=rbf;, score=0.881 total time=  10.4s\n",
      "[CV 5/5; 13/33] START estimador=SVC(C=1, gamma=0.1, probability=True), estimador__C=0.1, estimador__gamma=10, estimador__kernel=rbf\n",
      "[CV 5/5; 13/33] END estimador=SVC(C=1, gamma=0.1, probability=True), estimador__C=0.1, estimador__gamma=10, estimador__kernel=rbf;, score=0.880 total time=  10.4s\n",
      "[CV 1/5; 14/33] START estimador=SVC(C=1, gamma=0.1, probability=True), estimador__C=1, estimador__gamma=0.001, estimador__kernel=linear\n",
      "[CV 1/5; 14/33] END estimador=SVC(C=1, gamma=0.1, probability=True), estimador__C=1, estimador__gamma=0.001, estimador__kernel=linear;, score=0.881 total time=   2.5s\n",
      "[CV 2/5; 14/33] START estimador=SVC(C=1, gamma=0.1, probability=True), estimador__C=1, estimador__gamma=0.001, estimador__kernel=linear\n",
      "[CV 2/5; 14/33] END estimador=SVC(C=1, gamma=0.1, probability=True), estimador__C=1, estimador__gamma=0.001, estimador__kernel=linear;, score=0.881 total time=   2.5s\n",
      "[CV 3/5; 14/33] START estimador=SVC(C=1, gamma=0.1, probability=True), estimador__C=1, estimador__gamma=0.001, estimador__kernel=linear\n",
      "[CV 3/5; 14/33] END estimador=SVC(C=1, gamma=0.1, probability=True), estimador__C=1, estimador__gamma=0.001, estimador__kernel=linear;, score=0.881 total time=   2.3s\n",
      "[CV 4/5; 14/33] START estimador=SVC(C=1, gamma=0.1, probability=True), estimador__C=1, estimador__gamma=0.001, estimador__kernel=linear\n",
      "[CV 4/5; 14/33] END estimador=SVC(C=1, gamma=0.1, probability=True), estimador__C=1, estimador__gamma=0.001, estimador__kernel=linear;, score=0.881 total time=   2.8s\n",
      "[CV 5/5; 14/33] START estimador=SVC(C=1, gamma=0.1, probability=True), estimador__C=1, estimador__gamma=0.001, estimador__kernel=linear\n",
      "[CV 5/5; 14/33] END estimador=SVC(C=1, gamma=0.1, probability=True), estimador__C=1, estimador__gamma=0.001, estimador__kernel=linear;, score=0.880 total time=   2.3s\n",
      "[CV 1/5; 15/33] START estimador=SVC(C=1, gamma=0.1, probability=True), estimador__C=1, estimador__gamma=0.001, estimador__kernel=rbf\n",
      "[CV 1/5; 15/33] END estimador=SVC(C=1, gamma=0.1, probability=True), estimador__C=1, estimador__gamma=0.001, estimador__kernel=rbf;, score=0.881 total time=   3.2s\n",
      "[CV 2/5; 15/33] START estimador=SVC(C=1, gamma=0.1, probability=True), estimador__C=1, estimador__gamma=0.001, estimador__kernel=rbf\n",
      "[CV 2/5; 15/33] END estimador=SVC(C=1, gamma=0.1, probability=True), estimador__C=1, estimador__gamma=0.001, estimador__kernel=rbf;, score=0.881 total time=   3.1s\n",
      "[CV 3/5; 15/33] START estimador=SVC(C=1, gamma=0.1, probability=True), estimador__C=1, estimador__gamma=0.001, estimador__kernel=rbf\n",
      "[CV 3/5; 15/33] END estimador=SVC(C=1, gamma=0.1, probability=True), estimador__C=1, estimador__gamma=0.001, estimador__kernel=rbf;, score=0.881 total time=   3.2s\n",
      "[CV 4/5; 15/33] START estimador=SVC(C=1, gamma=0.1, probability=True), estimador__C=1, estimador__gamma=0.001, estimador__kernel=rbf\n",
      "[CV 4/5; 15/33] END estimador=SVC(C=1, gamma=0.1, probability=True), estimador__C=1, estimador__gamma=0.001, estimador__kernel=rbf;, score=0.881 total time=   3.9s\n",
      "[CV 5/5; 15/33] START estimador=SVC(C=1, gamma=0.1, probability=True), estimador__C=1, estimador__gamma=0.001, estimador__kernel=rbf\n",
      "[CV 5/5; 15/33] END estimador=SVC(C=1, gamma=0.1, probability=True), estimador__C=1, estimador__gamma=0.001, estimador__kernel=rbf;, score=0.880 total time=   3.3s\n",
      "[CV 1/5; 16/33] START estimador=SVC(C=1, gamma=0.1, probability=True), estimador__C=1, estimador__gamma=0.01, estimador__kernel=linear\n",
      "[CV 1/5; 16/33] END estimador=SVC(C=1, gamma=0.1, probability=True), estimador__C=1, estimador__gamma=0.01, estimador__kernel=linear;, score=0.881 total time=   2.4s\n",
      "[CV 2/5; 16/33] START estimador=SVC(C=1, gamma=0.1, probability=True), estimador__C=1, estimador__gamma=0.01, estimador__kernel=linear\n",
      "[CV 2/5; 16/33] END estimador=SVC(C=1, gamma=0.1, probability=True), estimador__C=1, estimador__gamma=0.01, estimador__kernel=linear;, score=0.881 total time=   2.5s\n",
      "[CV 3/5; 16/33] START estimador=SVC(C=1, gamma=0.1, probability=True), estimador__C=1, estimador__gamma=0.01, estimador__kernel=linear\n",
      "[CV 3/5; 16/33] END estimador=SVC(C=1, gamma=0.1, probability=True), estimador__C=1, estimador__gamma=0.01, estimador__kernel=linear;, score=0.881 total time=   2.2s\n",
      "[CV 4/5; 16/33] START estimador=SVC(C=1, gamma=0.1, probability=True), estimador__C=1, estimador__gamma=0.01, estimador__kernel=linear\n",
      "[CV 4/5; 16/33] END estimador=SVC(C=1, gamma=0.1, probability=True), estimador__C=1, estimador__gamma=0.01, estimador__kernel=linear;, score=0.881 total time=   2.7s\n",
      "[CV 5/5; 16/33] START estimador=SVC(C=1, gamma=0.1, probability=True), estimador__C=1, estimador__gamma=0.01, estimador__kernel=linear\n",
      "[CV 5/5; 16/33] END estimador=SVC(C=1, gamma=0.1, probability=True), estimador__C=1, estimador__gamma=0.01, estimador__kernel=linear;, score=0.880 total time=   2.2s\n",
      "[CV 1/5; 17/33] START estimador=SVC(C=1, gamma=0.1, probability=True), estimador__C=1, estimador__gamma=0.01, estimador__kernel=rbf\n",
      "[CV 1/5; 17/33] END estimador=SVC(C=1, gamma=0.1, probability=True), estimador__C=1, estimador__gamma=0.01, estimador__kernel=rbf;, score=0.885 total time=   3.1s\n",
      "[CV 2/5; 17/33] START estimador=SVC(C=1, gamma=0.1, probability=True), estimador__C=1, estimador__gamma=0.01, estimador__kernel=rbf\n",
      "[CV 2/5; 17/33] END estimador=SVC(C=1, gamma=0.1, probability=True), estimador__C=1, estimador__gamma=0.01, estimador__kernel=rbf;, score=0.879 total time=   3.1s\n",
      "[CV 3/5; 17/33] START estimador=SVC(C=1, gamma=0.1, probability=True), estimador__C=1, estimador__gamma=0.01, estimador__kernel=rbf\n",
      "[CV 3/5; 17/33] END estimador=SVC(C=1, gamma=0.1, probability=True), estimador__C=1, estimador__gamma=0.01, estimador__kernel=rbf;, score=0.886 total time=   3.2s\n",
      "[CV 4/5; 17/33] START estimador=SVC(C=1, gamma=0.1, probability=True), estimador__C=1, estimador__gamma=0.01, estimador__kernel=rbf\n",
      "[CV 4/5; 17/33] END estimador=SVC(C=1, gamma=0.1, probability=True), estimador__C=1, estimador__gamma=0.01, estimador__kernel=rbf;, score=0.882 total time=   3.1s\n",
      "[CV 5/5; 17/33] START estimador=SVC(C=1, gamma=0.1, probability=True), estimador__C=1, estimador__gamma=0.01, estimador__kernel=rbf\n",
      "[CV 5/5; 17/33] END estimador=SVC(C=1, gamma=0.1, probability=True), estimador__C=1, estimador__gamma=0.01, estimador__kernel=rbf;, score=0.884 total time=   3.2s\n",
      "[CV 1/5; 18/33] START estimador=SVC(C=1, gamma=0.1, probability=True), estimador__C=1, estimador__gamma=0.1, estimador__kernel=linear\n",
      "[CV 1/5; 18/33] END estimador=SVC(C=1, gamma=0.1, probability=True), estimador__C=1, estimador__gamma=0.1, estimador__kernel=linear;, score=0.881 total time=   2.4s\n",
      "[CV 2/5; 18/33] START estimador=SVC(C=1, gamma=0.1, probability=True), estimador__C=1, estimador__gamma=0.1, estimador__kernel=linear\n",
      "[CV 2/5; 18/33] END estimador=SVC(C=1, gamma=0.1, probability=True), estimador__C=1, estimador__gamma=0.1, estimador__kernel=linear;, score=0.881 total time=   2.5s\n",
      "[CV 3/5; 18/33] START estimador=SVC(C=1, gamma=0.1, probability=True), estimador__C=1, estimador__gamma=0.1, estimador__kernel=linear\n",
      "[CV 3/5; 18/33] END estimador=SVC(C=1, gamma=0.1, probability=True), estimador__C=1, estimador__gamma=0.1, estimador__kernel=linear;, score=0.881 total time=   3.4s\n",
      "[CV 4/5; 18/33] START estimador=SVC(C=1, gamma=0.1, probability=True), estimador__C=1, estimador__gamma=0.1, estimador__kernel=linear\n",
      "[CV 4/5; 18/33] END estimador=SVC(C=1, gamma=0.1, probability=True), estimador__C=1, estimador__gamma=0.1, estimador__kernel=linear;, score=0.881 total time=   2.8s\n",
      "[CV 5/5; 18/33] START estimador=SVC(C=1, gamma=0.1, probability=True), estimador__C=1, estimador__gamma=0.1, estimador__kernel=linear\n",
      "[CV 5/5; 18/33] END estimador=SVC(C=1, gamma=0.1, probability=True), estimador__C=1, estimador__gamma=0.1, estimador__kernel=linear;, score=0.880 total time=   2.2s\n",
      "[CV 1/5; 19/33] START estimador=SVC(C=1, gamma=0.1, probability=True), estimador__C=1, estimador__gamma=0.1, estimador__kernel=rbf\n",
      "[CV 1/5; 19/33] END estimador=SVC(C=1, gamma=0.1, probability=True), estimador__C=1, estimador__gamma=0.1, estimador__kernel=rbf;, score=0.887 total time=   3.5s\n",
      "[CV 2/5; 19/33] START estimador=SVC(C=1, gamma=0.1, probability=True), estimador__C=1, estimador__gamma=0.1, estimador__kernel=rbf\n",
      "[CV 2/5; 19/33] END estimador=SVC(C=1, gamma=0.1, probability=True), estimador__C=1, estimador__gamma=0.1, estimador__kernel=rbf;, score=0.886 total time=   3.5s\n",
      "[CV 3/5; 19/33] START estimador=SVC(C=1, gamma=0.1, probability=True), estimador__C=1, estimador__gamma=0.1, estimador__kernel=rbf\n",
      "[CV 3/5; 19/33] END estimador=SVC(C=1, gamma=0.1, probability=True), estimador__C=1, estimador__gamma=0.1, estimador__kernel=rbf;, score=0.891 total time=   3.5s\n",
      "[CV 4/5; 19/33] START estimador=SVC(C=1, gamma=0.1, probability=True), estimador__C=1, estimador__gamma=0.1, estimador__kernel=rbf\n",
      "[CV 4/5; 19/33] END estimador=SVC(C=1, gamma=0.1, probability=True), estimador__C=1, estimador__gamma=0.1, estimador__kernel=rbf;, score=0.889 total time=   3.5s\n",
      "[CV 5/5; 19/33] START estimador=SVC(C=1, gamma=0.1, probability=True), estimador__C=1, estimador__gamma=0.1, estimador__kernel=rbf\n",
      "[CV 5/5; 19/33] END estimador=SVC(C=1, gamma=0.1, probability=True), estimador__C=1, estimador__gamma=0.1, estimador__kernel=rbf;, score=0.895 total time=   3.6s\n",
      "[CV 1/5; 20/33] START estimador=SVC(C=1, gamma=0.1, probability=True), estimador__C=1, estimador__gamma=1, estimador__kernel=linear\n",
      "[CV 1/5; 20/33] END estimador=SVC(C=1, gamma=0.1, probability=True), estimador__C=1, estimador__gamma=1, estimador__kernel=linear;, score=0.881 total time=   2.4s\n",
      "[CV 2/5; 20/33] START estimador=SVC(C=1, gamma=0.1, probability=True), estimador__C=1, estimador__gamma=1, estimador__kernel=linear\n",
      "[CV 2/5; 20/33] END estimador=SVC(C=1, gamma=0.1, probability=True), estimador__C=1, estimador__gamma=1, estimador__kernel=linear;, score=0.881 total time=   2.6s\n",
      "[CV 3/5; 20/33] START estimador=SVC(C=1, gamma=0.1, probability=True), estimador__C=1, estimador__gamma=1, estimador__kernel=linear\n",
      "[CV 3/5; 20/33] END estimador=SVC(C=1, gamma=0.1, probability=True), estimador__C=1, estimador__gamma=1, estimador__kernel=linear;, score=0.881 total time=   2.3s\n",
      "[CV 4/5; 20/33] START estimador=SVC(C=1, gamma=0.1, probability=True), estimador__C=1, estimador__gamma=1, estimador__kernel=linear\n",
      "[CV 4/5; 20/33] END estimador=SVC(C=1, gamma=0.1, probability=True), estimador__C=1, estimador__gamma=1, estimador__kernel=linear;, score=0.881 total time=   2.8s\n",
      "[CV 5/5; 20/33] START estimador=SVC(C=1, gamma=0.1, probability=True), estimador__C=1, estimador__gamma=1, estimador__kernel=linear\n",
      "[CV 5/5; 20/33] END estimador=SVC(C=1, gamma=0.1, probability=True), estimador__C=1, estimador__gamma=1, estimador__kernel=linear;, score=0.880 total time=   2.2s\n",
      "[CV 1/5; 21/33] START estimador=SVC(C=1, gamma=0.1, probability=True), estimador__C=1, estimador__gamma=1, estimador__kernel=rbf\n",
      "[CV 1/5; 21/33] END estimador=SVC(C=1, gamma=0.1, probability=True), estimador__C=1, estimador__gamma=1, estimador__kernel=rbf;, score=0.882 total time=   9.4s\n",
      "[CV 2/5; 21/33] START estimador=SVC(C=1, gamma=0.1, probability=True), estimador__C=1, estimador__gamma=1, estimador__kernel=rbf\n",
      "[CV 2/5; 21/33] END estimador=SVC(C=1, gamma=0.1, probability=True), estimador__C=1, estimador__gamma=1, estimador__kernel=rbf;, score=0.880 total time=   9.8s\n",
      "[CV 3/5; 21/33] START estimador=SVC(C=1, gamma=0.1, probability=True), estimador__C=1, estimador__gamma=1, estimador__kernel=rbf\n",
      "[CV 3/5; 21/33] END estimador=SVC(C=1, gamma=0.1, probability=True), estimador__C=1, estimador__gamma=1, estimador__kernel=rbf;, score=0.884 total time=   9.5s\n",
      "[CV 4/5; 21/33] START estimador=SVC(C=1, gamma=0.1, probability=True), estimador__C=1, estimador__gamma=1, estimador__kernel=rbf\n",
      "[CV 4/5; 21/33] END estimador=SVC(C=1, gamma=0.1, probability=True), estimador__C=1, estimador__gamma=1, estimador__kernel=rbf;, score=0.877 total time=  11.2s\n",
      "[CV 5/5; 21/33] START estimador=SVC(C=1, gamma=0.1, probability=True), estimador__C=1, estimador__gamma=1, estimador__kernel=rbf\n",
      "[CV 5/5; 21/33] END estimador=SVC(C=1, gamma=0.1, probability=True), estimador__C=1, estimador__gamma=1, estimador__kernel=rbf;, score=0.879 total time=  10.1s\n",
      "[CV 1/5; 22/33] START estimador=SVC(C=1, gamma=0.1, probability=True), estimador__C=1, estimador__gamma=10, estimador__kernel=linear\n",
      "[CV 1/5; 22/33] END estimador=SVC(C=1, gamma=0.1, probability=True), estimador__C=1, estimador__gamma=10, estimador__kernel=linear;, score=0.881 total time=   2.4s\n",
      "[CV 2/5; 22/33] START estimador=SVC(C=1, gamma=0.1, probability=True), estimador__C=1, estimador__gamma=10, estimador__kernel=linear\n",
      "[CV 2/5; 22/33] END estimador=SVC(C=1, gamma=0.1, probability=True), estimador__C=1, estimador__gamma=10, estimador__kernel=linear;, score=0.881 total time=   2.5s\n",
      "[CV 3/5; 22/33] START estimador=SVC(C=1, gamma=0.1, probability=True), estimador__C=1, estimador__gamma=10, estimador__kernel=linear\n",
      "[CV 3/5; 22/33] END estimador=SVC(C=1, gamma=0.1, probability=True), estimador__C=1, estimador__gamma=10, estimador__kernel=linear;, score=0.881 total time=   2.3s\n",
      "[CV 4/5; 22/33] START estimador=SVC(C=1, gamma=0.1, probability=True), estimador__C=1, estimador__gamma=10, estimador__kernel=linear\n",
      "[CV 4/5; 22/33] END estimador=SVC(C=1, gamma=0.1, probability=True), estimador__C=1, estimador__gamma=10, estimador__kernel=linear;, score=0.881 total time=   2.8s\n",
      "[CV 5/5; 22/33] START estimador=SVC(C=1, gamma=0.1, probability=True), estimador__C=1, estimador__gamma=10, estimador__kernel=linear\n",
      "[CV 5/5; 22/33] END estimador=SVC(C=1, gamma=0.1, probability=True), estimador__C=1, estimador__gamma=10, estimador__kernel=linear;, score=0.880 total time=   2.2s\n",
      "[CV 1/5; 23/33] START estimador=SVC(C=1, gamma=0.1, probability=True), estimador__C=1, estimador__gamma=10, estimador__kernel=rbf\n",
      "[CV 1/5; 23/33] END estimador=SVC(C=1, gamma=0.1, probability=True), estimador__C=1, estimador__gamma=10, estimador__kernel=rbf;, score=0.881 total time=  10.7s\n",
      "[CV 2/5; 23/33] START estimador=SVC(C=1, gamma=0.1, probability=True), estimador__C=1, estimador__gamma=10, estimador__kernel=rbf\n",
      "[CV 2/5; 23/33] END estimador=SVC(C=1, gamma=0.1, probability=True), estimador__C=1, estimador__gamma=10, estimador__kernel=rbf;, score=0.881 total time=  10.7s\n",
      "[CV 3/5; 23/33] START estimador=SVC(C=1, gamma=0.1, probability=True), estimador__C=1, estimador__gamma=10, estimador__kernel=rbf\n",
      "[CV 3/5; 23/33] END estimador=SVC(C=1, gamma=0.1, probability=True), estimador__C=1, estimador__gamma=10, estimador__kernel=rbf;, score=0.881 total time=  10.6s\n",
      "[CV 4/5; 23/33] START estimador=SVC(C=1, gamma=0.1, probability=True), estimador__C=1, estimador__gamma=10, estimador__kernel=rbf\n",
      "[CV 4/5; 23/33] END estimador=SVC(C=1, gamma=0.1, probability=True), estimador__C=1, estimador__gamma=10, estimador__kernel=rbf;, score=0.881 total time=  10.8s\n",
      "[CV 5/5; 23/33] START estimador=SVC(C=1, gamma=0.1, probability=True), estimador__C=1, estimador__gamma=10, estimador__kernel=rbf\n",
      "[CV 5/5; 23/33] END estimador=SVC(C=1, gamma=0.1, probability=True), estimador__C=1, estimador__gamma=10, estimador__kernel=rbf;, score=0.880 total time=  10.7s\n",
      "[CV 1/5; 24/33] START estimador=SVC(C=1, gamma=0.1, probability=True), estimador__C=10, estimador__gamma=0.001, estimador__kernel=linear\n",
      "[CV 1/5; 24/33] END estimador=SVC(C=1, gamma=0.1, probability=True), estimador__C=10, estimador__gamma=0.001, estimador__kernel=linear;, score=0.881 total time=   5.9s\n",
      "[CV 2/5; 24/33] START estimador=SVC(C=1, gamma=0.1, probability=True), estimador__C=10, estimador__gamma=0.001, estimador__kernel=linear\n",
      "[CV 2/5; 24/33] END estimador=SVC(C=1, gamma=0.1, probability=True), estimador__C=10, estimador__gamma=0.001, estimador__kernel=linear;, score=0.881 total time=   6.3s\n",
      "[CV 3/5; 24/33] START estimador=SVC(C=1, gamma=0.1, probability=True), estimador__C=10, estimador__gamma=0.001, estimador__kernel=linear\n",
      "[CV 3/5; 24/33] END estimador=SVC(C=1, gamma=0.1, probability=True), estimador__C=10, estimador__gamma=0.001, estimador__kernel=linear;, score=0.881 total time=   5.4s\n",
      "[CV 4/5; 24/33] START estimador=SVC(C=1, gamma=0.1, probability=True), estimador__C=10, estimador__gamma=0.001, estimador__kernel=linear\n",
      "[CV 4/5; 24/33] END estimador=SVC(C=1, gamma=0.1, probability=True), estimador__C=10, estimador__gamma=0.001, estimador__kernel=linear;, score=0.881 total time=   7.2s\n",
      "[CV 5/5; 24/33] START estimador=SVC(C=1, gamma=0.1, probability=True), estimador__C=10, estimador__gamma=0.001, estimador__kernel=linear\n",
      "[CV 5/5; 24/33] END estimador=SVC(C=1, gamma=0.1, probability=True), estimador__C=10, estimador__gamma=0.001, estimador__kernel=linear;, score=0.880 total time=   5.1s\n",
      "[CV 1/5; 25/33] START estimador=SVC(C=1, gamma=0.1, probability=True), estimador__C=10, estimador__gamma=0.001, estimador__kernel=rbf\n",
      "[CV 1/5; 25/33] END estimador=SVC(C=1, gamma=0.1, probability=True), estimador__C=10, estimador__gamma=0.001, estimador__kernel=rbf;, score=0.881 total time=   3.3s\n",
      "[CV 2/5; 25/33] START estimador=SVC(C=1, gamma=0.1, probability=True), estimador__C=10, estimador__gamma=0.001, estimador__kernel=rbf\n",
      "[CV 2/5; 25/33] END estimador=SVC(C=1, gamma=0.1, probability=True), estimador__C=10, estimador__gamma=0.001, estimador__kernel=rbf;, score=0.881 total time=   3.1s\n",
      "[CV 3/5; 25/33] START estimador=SVC(C=1, gamma=0.1, probability=True), estimador__C=10, estimador__gamma=0.001, estimador__kernel=rbf\n",
      "[CV 3/5; 25/33] END estimador=SVC(C=1, gamma=0.1, probability=True), estimador__C=10, estimador__gamma=0.001, estimador__kernel=rbf;, score=0.881 total time=   3.4s\n",
      "[CV 4/5; 25/33] START estimador=SVC(C=1, gamma=0.1, probability=True), estimador__C=10, estimador__gamma=0.001, estimador__kernel=rbf\n",
      "[CV 4/5; 25/33] END estimador=SVC(C=1, gamma=0.1, probability=True), estimador__C=10, estimador__gamma=0.001, estimador__kernel=rbf;, score=0.879 total time=   3.0s\n",
      "[CV 5/5; 25/33] START estimador=SVC(C=1, gamma=0.1, probability=True), estimador__C=10, estimador__gamma=0.001, estimador__kernel=rbf\n",
      "[CV 5/5; 25/33] END estimador=SVC(C=1, gamma=0.1, probability=True), estimador__C=10, estimador__gamma=0.001, estimador__kernel=rbf;, score=0.880 total time=   3.5s\n",
      "[CV 1/5; 26/33] START estimador=SVC(C=1, gamma=0.1, probability=True), estimador__C=10, estimador__gamma=0.01, estimador__kernel=linear\n",
      "[CV 1/5; 26/33] END estimador=SVC(C=1, gamma=0.1, probability=True), estimador__C=10, estimador__gamma=0.01, estimador__kernel=linear;, score=0.881 total time=   5.9s\n",
      "[CV 2/5; 26/33] START estimador=SVC(C=1, gamma=0.1, probability=True), estimador__C=10, estimador__gamma=0.01, estimador__kernel=linear\n",
      "[CV 2/5; 26/33] END estimador=SVC(C=1, gamma=0.1, probability=True), estimador__C=10, estimador__gamma=0.01, estimador__kernel=linear;, score=0.881 total time=   6.4s\n",
      "[CV 3/5; 26/33] START estimador=SVC(C=1, gamma=0.1, probability=True), estimador__C=10, estimador__gamma=0.01, estimador__kernel=linear\n",
      "[CV 3/5; 26/33] END estimador=SVC(C=1, gamma=0.1, probability=True), estimador__C=10, estimador__gamma=0.01, estimador__kernel=linear;, score=0.881 total time=   5.6s\n",
      "[CV 4/5; 26/33] START estimador=SVC(C=1, gamma=0.1, probability=True), estimador__C=10, estimador__gamma=0.01, estimador__kernel=linear\n",
      "[CV 4/5; 26/33] END estimador=SVC(C=1, gamma=0.1, probability=True), estimador__C=10, estimador__gamma=0.01, estimador__kernel=linear;, score=0.881 total time=   7.6s\n",
      "[CV 5/5; 26/33] START estimador=SVC(C=1, gamma=0.1, probability=True), estimador__C=10, estimador__gamma=0.01, estimador__kernel=linear\n",
      "[CV 5/5; 26/33] END estimador=SVC(C=1, gamma=0.1, probability=True), estimador__C=10, estimador__gamma=0.01, estimador__kernel=linear;, score=0.880 total time=   5.1s\n",
      "[CV 1/5; 27/33] START estimador=SVC(C=1, gamma=0.1, probability=True), estimador__C=10, estimador__gamma=0.01, estimador__kernel=rbf\n",
      "[CV 1/5; 27/33] END estimador=SVC(C=1, gamma=0.1, probability=True), estimador__C=10, estimador__gamma=0.01, estimador__kernel=rbf;, score=0.886 total time=   3.5s\n",
      "[CV 2/5; 27/33] START estimador=SVC(C=1, gamma=0.1, probability=True), estimador__C=10, estimador__gamma=0.01, estimador__kernel=rbf\n",
      "[CV 2/5; 27/33] END estimador=SVC(C=1, gamma=0.1, probability=True), estimador__C=10, estimador__gamma=0.01, estimador__kernel=rbf;, score=0.881 total time=   3.3s\n",
      "[CV 3/5; 27/33] START estimador=SVC(C=1, gamma=0.1, probability=True), estimador__C=10, estimador__gamma=0.01, estimador__kernel=rbf\n",
      "[CV 3/5; 27/33] END estimador=SVC(C=1, gamma=0.1, probability=True), estimador__C=10, estimador__gamma=0.01, estimador__kernel=rbf;, score=0.888 total time=   3.4s\n",
      "[CV 4/5; 27/33] START estimador=SVC(C=1, gamma=0.1, probability=True), estimador__C=10, estimador__gamma=0.01, estimador__kernel=rbf\n",
      "[CV 4/5; 27/33] END estimador=SVC(C=1, gamma=0.1, probability=True), estimador__C=10, estimador__gamma=0.01, estimador__kernel=rbf;, score=0.888 total time=   3.4s\n",
      "[CV 5/5; 27/33] START estimador=SVC(C=1, gamma=0.1, probability=True), estimador__C=10, estimador__gamma=0.01, estimador__kernel=rbf\n",
      "[CV 5/5; 27/33] END estimador=SVC(C=1, gamma=0.1, probability=True), estimador__C=10, estimador__gamma=0.01, estimador__kernel=rbf;, score=0.889 total time=   3.5s\n",
      "[CV 1/5; 28/33] START estimador=SVC(C=1, gamma=0.1, probability=True), estimador__C=10, estimador__gamma=0.1, estimador__kernel=linear\n",
      "[CV 1/5; 28/33] END estimador=SVC(C=1, gamma=0.1, probability=True), estimador__C=10, estimador__gamma=0.1, estimador__kernel=linear;, score=0.881 total time=   6.2s\n",
      "[CV 2/5; 28/33] START estimador=SVC(C=1, gamma=0.1, probability=True), estimador__C=10, estimador__gamma=0.1, estimador__kernel=linear\n",
      "[CV 2/5; 28/33] END estimador=SVC(C=1, gamma=0.1, probability=True), estimador__C=10, estimador__gamma=0.1, estimador__kernel=linear;, score=0.881 total time=   6.3s\n",
      "[CV 3/5; 28/33] START estimador=SVC(C=1, gamma=0.1, probability=True), estimador__C=10, estimador__gamma=0.1, estimador__kernel=linear\n",
      "[CV 3/5; 28/33] END estimador=SVC(C=1, gamma=0.1, probability=True), estimador__C=10, estimador__gamma=0.1, estimador__kernel=linear;, score=0.881 total time=   5.4s\n",
      "[CV 4/5; 28/33] START estimador=SVC(C=1, gamma=0.1, probability=True), estimador__C=10, estimador__gamma=0.1, estimador__kernel=linear\n",
      "[CV 4/5; 28/33] END estimador=SVC(C=1, gamma=0.1, probability=True), estimador__C=10, estimador__gamma=0.1, estimador__kernel=linear;, score=0.881 total time=   7.3s\n",
      "[CV 5/5; 28/33] START estimador=SVC(C=1, gamma=0.1, probability=True), estimador__C=10, estimador__gamma=0.1, estimador__kernel=linear\n",
      "[CV 5/5; 28/33] END estimador=SVC(C=1, gamma=0.1, probability=True), estimador__C=10, estimador__gamma=0.1, estimador__kernel=linear;, score=0.880 total time=   5.1s\n",
      "[CV 1/5; 29/33] START estimador=SVC(C=1, gamma=0.1, probability=True), estimador__C=10, estimador__gamma=0.1, estimador__kernel=rbf\n",
      "[CV 1/5; 29/33] END estimador=SVC(C=1, gamma=0.1, probability=True), estimador__C=10, estimador__gamma=0.1, estimador__kernel=rbf;, score=0.886 total time=   4.2s\n",
      "[CV 2/5; 29/33] START estimador=SVC(C=1, gamma=0.1, probability=True), estimador__C=10, estimador__gamma=0.1, estimador__kernel=rbf\n",
      "[CV 2/5; 29/33] END estimador=SVC(C=1, gamma=0.1, probability=True), estimador__C=10, estimador__gamma=0.1, estimador__kernel=rbf;, score=0.885 total time=   4.1s\n",
      "[CV 3/5; 29/33] START estimador=SVC(C=1, gamma=0.1, probability=True), estimador__C=10, estimador__gamma=0.1, estimador__kernel=rbf\n",
      "[CV 3/5; 29/33] END estimador=SVC(C=1, gamma=0.1, probability=True), estimador__C=10, estimador__gamma=0.1, estimador__kernel=rbf;, score=0.884 total time=   4.3s\n",
      "[CV 4/5; 29/33] START estimador=SVC(C=1, gamma=0.1, probability=True), estimador__C=10, estimador__gamma=0.1, estimador__kernel=rbf\n",
      "[CV 4/5; 29/33] END estimador=SVC(C=1, gamma=0.1, probability=True), estimador__C=10, estimador__gamma=0.1, estimador__kernel=rbf;, score=0.887 total time=   4.1s\n",
      "[CV 5/5; 29/33] START estimador=SVC(C=1, gamma=0.1, probability=True), estimador__C=10, estimador__gamma=0.1, estimador__kernel=rbf\n",
      "[CV 5/5; 29/33] END estimador=SVC(C=1, gamma=0.1, probability=True), estimador__C=10, estimador__gamma=0.1, estimador__kernel=rbf;, score=0.887 total time=   4.3s\n",
      "[CV 1/5; 30/33] START estimador=SVC(C=1, gamma=0.1, probability=True), estimador__C=10, estimador__gamma=1, estimador__kernel=linear\n",
      "[CV 1/5; 30/33] END estimador=SVC(C=1, gamma=0.1, probability=True), estimador__C=10, estimador__gamma=1, estimador__kernel=linear;, score=0.881 total time=   5.7s\n",
      "[CV 2/5; 30/33] START estimador=SVC(C=1, gamma=0.1, probability=True), estimador__C=10, estimador__gamma=1, estimador__kernel=linear\n",
      "[CV 2/5; 30/33] END estimador=SVC(C=1, gamma=0.1, probability=True), estimador__C=10, estimador__gamma=1, estimador__kernel=linear;, score=0.881 total time=   6.6s\n",
      "[CV 3/5; 30/33] START estimador=SVC(C=1, gamma=0.1, probability=True), estimador__C=10, estimador__gamma=1, estimador__kernel=linear\n",
      "[CV 3/5; 30/33] END estimador=SVC(C=1, gamma=0.1, probability=True), estimador__C=10, estimador__gamma=1, estimador__kernel=linear;, score=0.881 total time=   5.3s\n",
      "[CV 4/5; 30/33] START estimador=SVC(C=1, gamma=0.1, probability=True), estimador__C=10, estimador__gamma=1, estimador__kernel=linear\n",
      "[CV 4/5; 30/33] END estimador=SVC(C=1, gamma=0.1, probability=True), estimador__C=10, estimador__gamma=1, estimador__kernel=linear;, score=0.881 total time=   7.4s\n",
      "[CV 5/5; 30/33] START estimador=SVC(C=1, gamma=0.1, probability=True), estimador__C=10, estimador__gamma=1, estimador__kernel=linear\n",
      "[CV 5/5; 30/33] END estimador=SVC(C=1, gamma=0.1, probability=True), estimador__C=10, estimador__gamma=1, estimador__kernel=linear;, score=0.880 total time=   5.2s\n",
      "[CV 1/5; 31/33] START estimador=SVC(C=1, gamma=0.1, probability=True), estimador__C=10, estimador__gamma=1, estimador__kernel=rbf\n",
      "[CV 1/5; 31/33] END estimador=SVC(C=1, gamma=0.1, probability=True), estimador__C=10, estimador__gamma=1, estimador__kernel=rbf;, score=0.875 total time=  10.5s\n",
      "[CV 2/5; 31/33] START estimador=SVC(C=1, gamma=0.1, probability=True), estimador__C=10, estimador__gamma=1, estimador__kernel=rbf\n",
      "[CV 2/5; 31/33] END estimador=SVC(C=1, gamma=0.1, probability=True), estimador__C=10, estimador__gamma=1, estimador__kernel=rbf;, score=0.870 total time=   9.8s\n",
      "[CV 3/5; 31/33] START estimador=SVC(C=1, gamma=0.1, probability=True), estimador__C=10, estimador__gamma=1, estimador__kernel=rbf\n",
      "[CV 3/5; 31/33] END estimador=SVC(C=1, gamma=0.1, probability=True), estimador__C=10, estimador__gamma=1, estimador__kernel=rbf;, score=0.872 total time=   9.8s\n",
      "[CV 4/5; 31/33] START estimador=SVC(C=1, gamma=0.1, probability=True), estimador__C=10, estimador__gamma=1, estimador__kernel=rbf\n",
      "[CV 4/5; 31/33] END estimador=SVC(C=1, gamma=0.1, probability=True), estimador__C=10, estimador__gamma=1, estimador__kernel=rbf;, score=0.858 total time=  10.1s\n",
      "[CV 5/5; 31/33] START estimador=SVC(C=1, gamma=0.1, probability=True), estimador__C=10, estimador__gamma=1, estimador__kernel=rbf\n",
      "[CV 5/5; 31/33] END estimador=SVC(C=1, gamma=0.1, probability=True), estimador__C=10, estimador__gamma=1, estimador__kernel=rbf;, score=0.874 total time=   9.7s\n",
      "[CV 1/5; 32/33] START estimador=SVC(C=1, gamma=0.1, probability=True), estimador__C=10, estimador__gamma=10, estimador__kernel=linear\n",
      "[CV 1/5; 32/33] END estimador=SVC(C=1, gamma=0.1, probability=True), estimador__C=10, estimador__gamma=10, estimador__kernel=linear;, score=0.881 total time=   5.9s\n",
      "[CV 2/5; 32/33] START estimador=SVC(C=1, gamma=0.1, probability=True), estimador__C=10, estimador__gamma=10, estimador__kernel=linear\n",
      "[CV 2/5; 32/33] END estimador=SVC(C=1, gamma=0.1, probability=True), estimador__C=10, estimador__gamma=10, estimador__kernel=linear;, score=0.881 total time=   6.3s\n",
      "[CV 3/5; 32/33] START estimador=SVC(C=1, gamma=0.1, probability=True), estimador__C=10, estimador__gamma=10, estimador__kernel=linear\n",
      "[CV 3/5; 32/33] END estimador=SVC(C=1, gamma=0.1, probability=True), estimador__C=10, estimador__gamma=10, estimador__kernel=linear;, score=0.881 total time=   5.4s\n",
      "[CV 4/5; 32/33] START estimador=SVC(C=1, gamma=0.1, probability=True), estimador__C=10, estimador__gamma=10, estimador__kernel=linear\n",
      "[CV 4/5; 32/33] END estimador=SVC(C=1, gamma=0.1, probability=True), estimador__C=10, estimador__gamma=10, estimador__kernel=linear;, score=0.881 total time=   6.9s\n",
      "[CV 5/5; 32/33] START estimador=SVC(C=1, gamma=0.1, probability=True), estimador__C=10, estimador__gamma=10, estimador__kernel=linear\n",
      "[CV 5/5; 32/33] END estimador=SVC(C=1, gamma=0.1, probability=True), estimador__C=10, estimador__gamma=10, estimador__kernel=linear;, score=0.880 total time=   5.1s\n",
      "[CV 1/5; 33/33] START estimador=SVC(C=1, gamma=0.1, probability=True), estimador__C=10, estimador__gamma=10, estimador__kernel=rbf\n",
      "[CV 1/5; 33/33] END estimador=SVC(C=1, gamma=0.1, probability=True), estimador__C=10, estimador__gamma=10, estimador__kernel=rbf;, score=0.881 total time=  11.0s\n",
      "[CV 2/5; 33/33] START estimador=SVC(C=1, gamma=0.1, probability=True), estimador__C=10, estimador__gamma=10, estimador__kernel=rbf\n",
      "[CV 2/5; 33/33] END estimador=SVC(C=1, gamma=0.1, probability=True), estimador__C=10, estimador__gamma=10, estimador__kernel=rbf;, score=0.881 total time=  11.2s\n",
      "[CV 3/5; 33/33] START estimador=SVC(C=1, gamma=0.1, probability=True), estimador__C=10, estimador__gamma=10, estimador__kernel=rbf\n",
      "[CV 3/5; 33/33] END estimador=SVC(C=1, gamma=0.1, probability=True), estimador__C=10, estimador__gamma=10, estimador__kernel=rbf;, score=0.881 total time=  11.2s\n",
      "[CV 4/5; 33/33] START estimador=SVC(C=1, gamma=0.1, probability=True), estimador__C=10, estimador__gamma=10, estimador__kernel=rbf\n",
      "[CV 4/5; 33/33] END estimador=SVC(C=1, gamma=0.1, probability=True), estimador__C=10, estimador__gamma=10, estimador__kernel=rbf;, score=0.879 total time=  11.3s\n",
      "[CV 5/5; 33/33] START estimador=SVC(C=1, gamma=0.1, probability=True), estimador__C=10, estimador__gamma=10, estimador__kernel=rbf\n",
      "[CV 5/5; 33/33] END estimador=SVC(C=1, gamma=0.1, probability=True), estimador__C=10, estimador__gamma=10, estimador__kernel=rbf;, score=0.880 total time=  11.1s\n"
     ]
    },
    {
     "data": {
      "text/html": [
       "<style>#sk-25d485a2-3905-431a-99a1-ccc70afb347e {color: black;background-color: white;}#sk-25d485a2-3905-431a-99a1-ccc70afb347e pre{padding: 0;}#sk-25d485a2-3905-431a-99a1-ccc70afb347e div.sk-toggleable {background-color: white;}#sk-25d485a2-3905-431a-99a1-ccc70afb347e label.sk-toggleable__label {cursor: pointer;display: block;width: 100%;margin-bottom: 0;padding: 0.3em;box-sizing: border-box;text-align: center;}#sk-25d485a2-3905-431a-99a1-ccc70afb347e label.sk-toggleable__label-arrow:before {content: \"▸\";float: left;margin-right: 0.25em;color: #696969;}#sk-25d485a2-3905-431a-99a1-ccc70afb347e label.sk-toggleable__label-arrow:hover:before {color: black;}#sk-25d485a2-3905-431a-99a1-ccc70afb347e div.sk-estimator:hover label.sk-toggleable__label-arrow:before {color: black;}#sk-25d485a2-3905-431a-99a1-ccc70afb347e div.sk-toggleable__content {max-height: 0;max-width: 0;overflow: hidden;text-align: left;background-color: #f0f8ff;}#sk-25d485a2-3905-431a-99a1-ccc70afb347e div.sk-toggleable__content pre {margin: 0.2em;color: black;border-radius: 0.25em;background-color: #f0f8ff;}#sk-25d485a2-3905-431a-99a1-ccc70afb347e input.sk-toggleable__control:checked~div.sk-toggleable__content {max-height: 200px;max-width: 100%;overflow: auto;}#sk-25d485a2-3905-431a-99a1-ccc70afb347e input.sk-toggleable__control:checked~label.sk-toggleable__label-arrow:before {content: \"▾\";}#sk-25d485a2-3905-431a-99a1-ccc70afb347e div.sk-estimator input.sk-toggleable__control:checked~label.sk-toggleable__label {background-color: #d4ebff;}#sk-25d485a2-3905-431a-99a1-ccc70afb347e div.sk-label input.sk-toggleable__control:checked~label.sk-toggleable__label {background-color: #d4ebff;}#sk-25d485a2-3905-431a-99a1-ccc70afb347e input.sk-hidden--visually {border: 0;clip: rect(1px 1px 1px 1px);clip: rect(1px, 1px, 1px, 1px);height: 1px;margin: -1px;overflow: hidden;padding: 0;position: absolute;width: 1px;}#sk-25d485a2-3905-431a-99a1-ccc70afb347e div.sk-estimator {font-family: monospace;background-color: #f0f8ff;border: 1px dotted black;border-radius: 0.25em;box-sizing: border-box;margin-bottom: 0.5em;}#sk-25d485a2-3905-431a-99a1-ccc70afb347e div.sk-estimator:hover {background-color: #d4ebff;}#sk-25d485a2-3905-431a-99a1-ccc70afb347e div.sk-parallel-item::after {content: \"\";width: 100%;border-bottom: 1px solid gray;flex-grow: 1;}#sk-25d485a2-3905-431a-99a1-ccc70afb347e div.sk-label:hover label.sk-toggleable__label {background-color: #d4ebff;}#sk-25d485a2-3905-431a-99a1-ccc70afb347e div.sk-serial::before {content: \"\";position: absolute;border-left: 1px solid gray;box-sizing: border-box;top: 2em;bottom: 0;left: 50%;}#sk-25d485a2-3905-431a-99a1-ccc70afb347e div.sk-serial {display: flex;flex-direction: column;align-items: center;background-color: white;padding-right: 0.2em;padding-left: 0.2em;}#sk-25d485a2-3905-431a-99a1-ccc70afb347e div.sk-item {z-index: 1;}#sk-25d485a2-3905-431a-99a1-ccc70afb347e div.sk-parallel {display: flex;align-items: stretch;justify-content: center;background-color: white;}#sk-25d485a2-3905-431a-99a1-ccc70afb347e div.sk-parallel::before {content: \"\";position: absolute;border-left: 1px solid gray;box-sizing: border-box;top: 2em;bottom: 0;left: 50%;}#sk-25d485a2-3905-431a-99a1-ccc70afb347e div.sk-parallel-item {display: flex;flex-direction: column;position: relative;background-color: white;}#sk-25d485a2-3905-431a-99a1-ccc70afb347e div.sk-parallel-item:first-child::after {align-self: flex-end;width: 50%;}#sk-25d485a2-3905-431a-99a1-ccc70afb347e div.sk-parallel-item:last-child::after {align-self: flex-start;width: 50%;}#sk-25d485a2-3905-431a-99a1-ccc70afb347e div.sk-parallel-item:only-child::after {width: 0;}#sk-25d485a2-3905-431a-99a1-ccc70afb347e div.sk-dashed-wrapped {border: 1px dashed gray;margin: 0 0.4em 0.5em 0.4em;box-sizing: border-box;padding-bottom: 0.4em;background-color: white;position: relative;}#sk-25d485a2-3905-431a-99a1-ccc70afb347e div.sk-label label {font-family: monospace;font-weight: bold;background-color: white;display: inline-block;line-height: 1.2em;}#sk-25d485a2-3905-431a-99a1-ccc70afb347e div.sk-label-container {position: relative;z-index: 2;text-align: center;}#sk-25d485a2-3905-431a-99a1-ccc70afb347e div.sk-container {/* jupyter's `normalize.less` sets `[hidden] { display: none; }` but bootstrap.min.css set `[hidden] { display: none !important; }` so we also need the `!important` here to be able to override the default hidden behavior on the sphinx rendered scikit-learn.org. See: https://github.com/scikit-learn/scikit-learn/issues/21755 */display: inline-block !important;position: relative;}#sk-25d485a2-3905-431a-99a1-ccc70afb347e div.sk-text-repr-fallback {display: none;}</style><div id=\"sk-25d485a2-3905-431a-99a1-ccc70afb347e\" class=\"sk-top-container\"><div class=\"sk-text-repr-fallback\"><pre>GridSearchCV(cv=5,\n",
       "             estimator=Pipeline(steps=[(&#x27;preprocesamiento&#x27;,\n",
       "                                        ColumnTransformer(transformers=[(&#x27;num&#x27;,\n",
       "                                                                         Pipeline(steps=[(&#x27;imputer&#x27;,\n",
       "                                                                                          SimpleImputer(strategy=&#x27;median&#x27;)),\n",
       "                                                                                         (&#x27;scaler&#x27;,\n",
       "                                                                                          StandardScaler()),\n",
       "                                                                                         (&#x27;pca&#x27;,\n",
       "                                                                                          PCA(n_components=0.8))]),\n",
       "                                                                         [&#x27;Age&#x27;,\n",
       "                                                                          &#x27;Balance &#x27;\n",
       "                                                                          &#x27;(euros)&#x27;,\n",
       "                                                                          &#x27;Last &#x27;\n",
       "                                                                          &#x27;Contact &#x27;\n",
       "                                                                          &#x27;Day&#x27;,\n",
       "                                                                          &#x27;Last &#x27;\n",
       "                                                                          &#x27;Contact &#x27;\n",
       "                                                                          &#x27;Month&#x27;,\n",
       "                                                                          &#x27;Last &#x27;\n",
       "                                                                          &#x27;Contact &#x27;\n",
       "                                                                          &#x27;Duration&#x27;,\n",
       "                                                                          &#x27;Campaign&#x27;,\n",
       "                                                                          &#x27;Pdays&#x27;,\n",
       "                                                                          &#x27;Previous&#x27;]...\n",
       "                                                                         [&#x27;Job&#x27;,\n",
       "                                                                          &#x27;Marital &#x27;\n",
       "                                                                          &#x27;Status&#x27;,\n",
       "                                                                          &#x27;Education&#x27;,\n",
       "                                                                          &#x27;Credit&#x27;,\n",
       "                                                                          &#x27;Housing &#x27;\n",
       "                                                                          &#x27;Loan&#x27;,\n",
       "                                                                          &#x27;Personal &#x27;\n",
       "                                                                          &#x27;Loan&#x27;])])),\n",
       "                                       (&#x27;estimador&#x27;, SVC())]),\n",
       "             param_grid=[{&#x27;estimador&#x27;: (LogisticRegression(C=1),),\n",
       "                          &#x27;estimador__C&#x27;: (0.001, 1, 10)},\n",
       "                         {&#x27;estimador&#x27;: (SVC(C=1, gamma=0.1, probability=True),),\n",
       "                          &#x27;estimador__C&#x27;: (0.1, 1, 10),\n",
       "                          &#x27;estimador__gamma&#x27;: (0.001, 0.01, 0.1, 1, 10),\n",
       "                          &#x27;estimador__kernel&#x27;: (&#x27;linear&#x27;, &#x27;rbf&#x27;)}],\n",
       "             verbose=40)</pre><b>Please rerun this cell to show the HTML repr or trust the notebook.</b></div><div class=\"sk-container\" hidden><div class=\"sk-item sk-dashed-wrapped\"><div class=\"sk-label-container\"><div class=\"sk-label sk-toggleable\"><input class=\"sk-toggleable__control sk-hidden--visually\" id=\"fa41d0b9-70f5-4d1a-a9d5-fca4cd0ac74d\" type=\"checkbox\" ><label for=\"fa41d0b9-70f5-4d1a-a9d5-fca4cd0ac74d\" class=\"sk-toggleable__label sk-toggleable__label-arrow\">GridSearchCV</label><div class=\"sk-toggleable__content\"><pre>GridSearchCV(cv=5,\n",
       "             estimator=Pipeline(steps=[(&#x27;preprocesamiento&#x27;,\n",
       "                                        ColumnTransformer(transformers=[(&#x27;num&#x27;,\n",
       "                                                                         Pipeline(steps=[(&#x27;imputer&#x27;,\n",
       "                                                                                          SimpleImputer(strategy=&#x27;median&#x27;)),\n",
       "                                                                                         (&#x27;scaler&#x27;,\n",
       "                                                                                          StandardScaler()),\n",
       "                                                                                         (&#x27;pca&#x27;,\n",
       "                                                                                          PCA(n_components=0.8))]),\n",
       "                                                                         [&#x27;Age&#x27;,\n",
       "                                                                          &#x27;Balance &#x27;\n",
       "                                                                          &#x27;(euros)&#x27;,\n",
       "                                                                          &#x27;Last &#x27;\n",
       "                                                                          &#x27;Contact &#x27;\n",
       "                                                                          &#x27;Day&#x27;,\n",
       "                                                                          &#x27;Last &#x27;\n",
       "                                                                          &#x27;Contact &#x27;\n",
       "                                                                          &#x27;Month&#x27;,\n",
       "                                                                          &#x27;Last &#x27;\n",
       "                                                                          &#x27;Contact &#x27;\n",
       "                                                                          &#x27;Duration&#x27;,\n",
       "                                                                          &#x27;Campaign&#x27;,\n",
       "                                                                          &#x27;Pdays&#x27;,\n",
       "                                                                          &#x27;Previous&#x27;]...\n",
       "                                                                         [&#x27;Job&#x27;,\n",
       "                                                                          &#x27;Marital &#x27;\n",
       "                                                                          &#x27;Status&#x27;,\n",
       "                                                                          &#x27;Education&#x27;,\n",
       "                                                                          &#x27;Credit&#x27;,\n",
       "                                                                          &#x27;Housing &#x27;\n",
       "                                                                          &#x27;Loan&#x27;,\n",
       "                                                                          &#x27;Personal &#x27;\n",
       "                                                                          &#x27;Loan&#x27;])])),\n",
       "                                       (&#x27;estimador&#x27;, SVC())]),\n",
       "             param_grid=[{&#x27;estimador&#x27;: (LogisticRegression(C=1),),\n",
       "                          &#x27;estimador__C&#x27;: (0.001, 1, 10)},\n",
       "                         {&#x27;estimador&#x27;: (SVC(C=1, gamma=0.1, probability=True),),\n",
       "                          &#x27;estimador__C&#x27;: (0.1, 1, 10),\n",
       "                          &#x27;estimador__gamma&#x27;: (0.001, 0.01, 0.1, 1, 10),\n",
       "                          &#x27;estimador__kernel&#x27;: (&#x27;linear&#x27;, &#x27;rbf&#x27;)}],\n",
       "             verbose=40)</pre></div></div></div><div class=\"sk-parallel\"><div class=\"sk-parallel-item\"><div class=\"sk-item\"><div class=\"sk-serial\"><div class=\"sk-item\"><div class=\"sk-serial\"><div class=\"sk-item sk-dashed-wrapped\"><div class=\"sk-label-container\"><div class=\"sk-label sk-toggleable\"><input class=\"sk-toggleable__control sk-hidden--visually\" id=\"a73f75ce-484e-43a5-bb2b-0852549ad13d\" type=\"checkbox\" ><label for=\"a73f75ce-484e-43a5-bb2b-0852549ad13d\" class=\"sk-toggleable__label sk-toggleable__label-arrow\">preprocesamiento: ColumnTransformer</label><div class=\"sk-toggleable__content\"><pre>ColumnTransformer(transformers=[(&#x27;num&#x27;,\n",
       "                                 Pipeline(steps=[(&#x27;imputer&#x27;,\n",
       "                                                  SimpleImputer(strategy=&#x27;median&#x27;)),\n",
       "                                                 (&#x27;scaler&#x27;, StandardScaler()),\n",
       "                                                 (&#x27;pca&#x27;,\n",
       "                                                  PCA(n_components=0.8))]),\n",
       "                                 [&#x27;Age&#x27;, &#x27;Balance (euros)&#x27;, &#x27;Last Contact Day&#x27;,\n",
       "                                  &#x27;Last Contact Month&#x27;, &#x27;Last Contact Duration&#x27;,\n",
       "                                  &#x27;Campaign&#x27;, &#x27;Pdays&#x27;, &#x27;Previous&#x27;]),\n",
       "                                (&#x27;cat&#x27;, OneHotEncoder(sparse=False),\n",
       "                                 [&#x27;Job&#x27;, &#x27;Marital Status&#x27;, &#x27;Education&#x27;,\n",
       "                                  &#x27;Credit&#x27;, &#x27;Housing Loan&#x27;, &#x27;Personal Loan&#x27;])])</pre></div></div></div><div class=\"sk-parallel\"><div class=\"sk-parallel-item\"><div class=\"sk-item\"><div class=\"sk-label-container\"><div class=\"sk-label sk-toggleable\"><input class=\"sk-toggleable__control sk-hidden--visually\" id=\"4a06cc93-95b4-483f-9142-eac8e7394b09\" type=\"checkbox\" ><label for=\"4a06cc93-95b4-483f-9142-eac8e7394b09\" class=\"sk-toggleable__label sk-toggleable__label-arrow\">num</label><div class=\"sk-toggleable__content\"><pre>[&#x27;Age&#x27;, &#x27;Balance (euros)&#x27;, &#x27;Last Contact Day&#x27;, &#x27;Last Contact Month&#x27;, &#x27;Last Contact Duration&#x27;, &#x27;Campaign&#x27;, &#x27;Pdays&#x27;, &#x27;Previous&#x27;]</pre></div></div></div><div class=\"sk-serial\"><div class=\"sk-item\"><div class=\"sk-serial\"><div class=\"sk-item\"><div class=\"sk-estimator sk-toggleable\"><input class=\"sk-toggleable__control sk-hidden--visually\" id=\"68a6959d-a5dc-41b4-94a4-2c2d1f8a3cdf\" type=\"checkbox\" ><label for=\"68a6959d-a5dc-41b4-94a4-2c2d1f8a3cdf\" class=\"sk-toggleable__label sk-toggleable__label-arrow\">SimpleImputer</label><div class=\"sk-toggleable__content\"><pre>SimpleImputer(strategy=&#x27;median&#x27;)</pre></div></div></div><div class=\"sk-item\"><div class=\"sk-estimator sk-toggleable\"><input class=\"sk-toggleable__control sk-hidden--visually\" id=\"947fd3db-0678-46c1-ae8a-a189b9bb69b2\" type=\"checkbox\" ><label for=\"947fd3db-0678-46c1-ae8a-a189b9bb69b2\" class=\"sk-toggleable__label sk-toggleable__label-arrow\">StandardScaler</label><div class=\"sk-toggleable__content\"><pre>StandardScaler()</pre></div></div></div><div class=\"sk-item\"><div class=\"sk-estimator sk-toggleable\"><input class=\"sk-toggleable__control sk-hidden--visually\" id=\"0aeb154e-dac9-4661-a9c4-abb714ad0bef\" type=\"checkbox\" ><label for=\"0aeb154e-dac9-4661-a9c4-abb714ad0bef\" class=\"sk-toggleable__label sk-toggleable__label-arrow\">PCA</label><div class=\"sk-toggleable__content\"><pre>PCA(n_components=0.8)</pre></div></div></div></div></div></div></div></div><div class=\"sk-parallel-item\"><div class=\"sk-item\"><div class=\"sk-label-container\"><div class=\"sk-label sk-toggleable\"><input class=\"sk-toggleable__control sk-hidden--visually\" id=\"56856ed6-91b6-40c8-8bc3-4ecbe3a66613\" type=\"checkbox\" ><label for=\"56856ed6-91b6-40c8-8bc3-4ecbe3a66613\" class=\"sk-toggleable__label sk-toggleable__label-arrow\">cat</label><div class=\"sk-toggleable__content\"><pre>[&#x27;Job&#x27;, &#x27;Marital Status&#x27;, &#x27;Education&#x27;, &#x27;Credit&#x27;, &#x27;Housing Loan&#x27;, &#x27;Personal Loan&#x27;]</pre></div></div></div><div class=\"sk-serial\"><div class=\"sk-item\"><div class=\"sk-estimator sk-toggleable\"><input class=\"sk-toggleable__control sk-hidden--visually\" id=\"95115e09-5289-4317-99ca-4af6d81d4005\" type=\"checkbox\" ><label for=\"95115e09-5289-4317-99ca-4af6d81d4005\" class=\"sk-toggleable__label sk-toggleable__label-arrow\">OneHotEncoder</label><div class=\"sk-toggleable__content\"><pre>OneHotEncoder(sparse=False)</pre></div></div></div></div></div></div></div></div><div class=\"sk-item\"><div class=\"sk-estimator sk-toggleable\"><input class=\"sk-toggleable__control sk-hidden--visually\" id=\"d0dcfe35-ba04-4441-bcba-55784beedd88\" type=\"checkbox\" ><label for=\"d0dcfe35-ba04-4441-bcba-55784beedd88\" class=\"sk-toggleable__label sk-toggleable__label-arrow\">SVC</label><div class=\"sk-toggleable__content\"><pre>SVC()</pre></div></div></div></div></div></div></div></div></div></div></div></div>"
      ],
      "text/plain": [
       "GridSearchCV(cv=5,\n",
       "             estimator=Pipeline(steps=[('preprocesamiento',\n",
       "                                        ColumnTransformer(transformers=[('num',\n",
       "                                                                         Pipeline(steps=[('imputer',\n",
       "                                                                                          SimpleImputer(strategy='median')),\n",
       "                                                                                         ('scaler',\n",
       "                                                                                          StandardScaler()),\n",
       "                                                                                         ('pca',\n",
       "                                                                                          PCA(n_components=0.8))]),\n",
       "                                                                         ['Age',\n",
       "                                                                          'Balance '\n",
       "                                                                          '(euros)',\n",
       "                                                                          'Last '\n",
       "                                                                          'Contact '\n",
       "                                                                          'Day',\n",
       "                                                                          'Last '\n",
       "                                                                          'Contact '\n",
       "                                                                          'Month',\n",
       "                                                                          'Last '\n",
       "                                                                          'Contact '\n",
       "                                                                          'Duration',\n",
       "                                                                          'Campaign',\n",
       "                                                                          'Pdays',\n",
       "                                                                          'Previous']...\n",
       "                                                                         ['Job',\n",
       "                                                                          'Marital '\n",
       "                                                                          'Status',\n",
       "                                                                          'Education',\n",
       "                                                                          'Credit',\n",
       "                                                                          'Housing '\n",
       "                                                                          'Loan',\n",
       "                                                                          'Personal '\n",
       "                                                                          'Loan'])])),\n",
       "                                       ('estimador', SVC())]),\n",
       "             param_grid=[{'estimador': (LogisticRegression(C=1),),\n",
       "                          'estimador__C': (0.001, 1, 10)},\n",
       "                         {'estimador': (SVC(C=1, gamma=0.1, probability=True),),\n",
       "                          'estimador__C': (0.1, 1, 10),\n",
       "                          'estimador__gamma': (0.001, 0.01, 0.1, 1, 10),\n",
       "                          'estimador__kernel': ('linear', 'rbf')}],\n",
       "             verbose=40)"
      ]
     },
     "execution_count": 71,
     "metadata": {},
     "output_type": "execute_result"
    }
   ],
   "source": [
    "## Entrenamos.\n",
    "grid_search2.fit(xtrain,ytrain.ravel())"
   ]
  },
  {
   "cell_type": "code",
   "execution_count": null,
   "metadata": {
    "colab": {
     "base_uri": "https://localhost:8080/",
     "height": 444
    },
    "executionInfo": {
     "elapsed": 304,
     "status": "ok",
     "timestamp": 1669299823803,
     "user": {
      "displayName": "MARTÍN NICOLAS AISCAR",
      "userId": "18143931623073660355"
     },
     "user_tz": 180
    },
    "id": "GpHHN3irB0ul",
    "outputId": "74766f77-40bb-4ac1-e558-6609429d2974"
   },
   "outputs": [
    {
     "data": {
      "text/html": [
       "\n",
       "  <div id=\"df-1e51b09c-4212-4dfe-9cb5-5a7c7be07e15\">\n",
       "    <div class=\"colab-df-container\">\n",
       "      <div>\n",
       "<style scoped>\n",
       "    .dataframe tbody tr th:only-of-type {\n",
       "        vertical-align: middle;\n",
       "    }\n",
       "\n",
       "    .dataframe tbody tr th {\n",
       "        vertical-align: top;\n",
       "    }\n",
       "\n",
       "    .dataframe thead th {\n",
       "        text-align: right;\n",
       "    }\n",
       "</style>\n",
       "<table border=\"1\" class=\"dataframe\">\n",
       "  <thead>\n",
       "    <tr style=\"text-align: right;\">\n",
       "      <th></th>\n",
       "      <th>mean_fit_time</th>\n",
       "      <th>std_fit_time</th>\n",
       "      <th>mean_score_time</th>\n",
       "      <th>std_score_time</th>\n",
       "      <th>param_estimador</th>\n",
       "      <th>param_estimador__C</th>\n",
       "      <th>param_estimador__gamma</th>\n",
       "      <th>param_estimador__kernel</th>\n",
       "      <th>params</th>\n",
       "      <th>split0_test_score</th>\n",
       "      <th>split1_test_score</th>\n",
       "      <th>split2_test_score</th>\n",
       "      <th>split3_test_score</th>\n",
       "      <th>split4_test_score</th>\n",
       "      <th>mean_test_score</th>\n",
       "      <th>std_test_score</th>\n",
       "      <th>rank_test_score</th>\n",
       "    </tr>\n",
       "  </thead>\n",
       "  <tbody>\n",
       "    <tr>\n",
       "      <th>0</th>\n",
       "      <td>0.040509</td>\n",
       "      <td>0.001780</td>\n",
       "      <td>0.009130</td>\n",
       "      <td>0.001075</td>\n",
       "      <td>LogisticRegression(C=1)</td>\n",
       "      <td>0.001</td>\n",
       "      <td>NaN</td>\n",
       "      <td>NaN</td>\n",
       "      <td>{'estimador': LogisticRegression(C=1), 'estima...</td>\n",
       "      <td>0.884937</td>\n",
       "      <td>0.882845</td>\n",
       "      <td>0.883543</td>\n",
       "      <td>0.879358</td>\n",
       "      <td>0.882148</td>\n",
       "      <td>0.882566</td>\n",
       "      <td>0.001850</td>\n",
       "      <td>8</td>\n",
       "    </tr>\n",
       "    <tr>\n",
       "      <th>1</th>\n",
       "      <td>0.085078</td>\n",
       "      <td>0.008512</td>\n",
       "      <td>0.009849</td>\n",
       "      <td>0.002472</td>\n",
       "      <td>LogisticRegression(C=1)</td>\n",
       "      <td>1</td>\n",
       "      <td>NaN</td>\n",
       "      <td>NaN</td>\n",
       "      <td>{'estimador': LogisticRegression(C=1), 'estima...</td>\n",
       "      <td>0.888424</td>\n",
       "      <td>0.889819</td>\n",
       "      <td>0.889121</td>\n",
       "      <td>0.886332</td>\n",
       "      <td>0.896095</td>\n",
       "      <td>0.889958</td>\n",
       "      <td>0.003283</td>\n",
       "      <td>1</td>\n",
       "    </tr>\n",
       "    <tr>\n",
       "      <th>2</th>\n",
       "      <td>0.098951</td>\n",
       "      <td>0.008818</td>\n",
       "      <td>0.008809</td>\n",
       "      <td>0.000177</td>\n",
       "      <td>LogisticRegression(C=1)</td>\n",
       "      <td>10</td>\n",
       "      <td>NaN</td>\n",
       "      <td>NaN</td>\n",
       "      <td>{'estimador': LogisticRegression(C=1), 'estima...</td>\n",
       "      <td>0.888424</td>\n",
       "      <td>0.889819</td>\n",
       "      <td>0.889121</td>\n",
       "      <td>0.886332</td>\n",
       "      <td>0.895397</td>\n",
       "      <td>0.889819</td>\n",
       "      <td>0.003024</td>\n",
       "      <td>2</td>\n",
       "    </tr>\n",
       "    <tr>\n",
       "      <th>3</th>\n",
       "      <td>1.772963</td>\n",
       "      <td>0.092267</td>\n",
       "      <td>0.056888</td>\n",
       "      <td>0.002765</td>\n",
       "      <td>SVC(C=1, gamma=0.1, probability=True)</td>\n",
       "      <td>0.1</td>\n",
       "      <td>0.001</td>\n",
       "      <td>linear</td>\n",
       "      <td>{'estimador': SVC(C=1, gamma=0.1, probability=...</td>\n",
       "      <td>0.880753</td>\n",
       "      <td>0.880753</td>\n",
       "      <td>0.880753</td>\n",
       "      <td>0.880753</td>\n",
       "      <td>0.880056</td>\n",
       "      <td>0.880614</td>\n",
       "      <td>0.000279</td>\n",
       "      <td>10</td>\n",
       "    </tr>\n",
       "    <tr>\n",
       "      <th>4</th>\n",
       "      <td>2.719510</td>\n",
       "      <td>0.040963</td>\n",
       "      <td>0.144477</td>\n",
       "      <td>0.002065</td>\n",
       "      <td>SVC(C=1, gamma=0.1, probability=True)</td>\n",
       "      <td>0.1</td>\n",
       "      <td>0.001</td>\n",
       "      <td>rbf</td>\n",
       "      <td>{'estimador': SVC(C=1, gamma=0.1, probability=...</td>\n",
       "      <td>0.880753</td>\n",
       "      <td>0.880753</td>\n",
       "      <td>0.880753</td>\n",
       "      <td>0.880753</td>\n",
       "      <td>0.880056</td>\n",
       "      <td>0.880614</td>\n",
       "      <td>0.000279</td>\n",
       "      <td>10</td>\n",
       "    </tr>\n",
       "  </tbody>\n",
       "</table>\n",
       "</div>\n",
       "      <button class=\"colab-df-convert\" onclick=\"convertToInteractive('df-1e51b09c-4212-4dfe-9cb5-5a7c7be07e15')\"\n",
       "              title=\"Convert this dataframe to an interactive table.\"\n",
       "              style=\"display:none;\">\n",
       "        \n",
       "  <svg xmlns=\"http://www.w3.org/2000/svg\" height=\"24px\"viewBox=\"0 0 24 24\"\n",
       "       width=\"24px\">\n",
       "    <path d=\"M0 0h24v24H0V0z\" fill=\"none\"/>\n",
       "    <path d=\"M18.56 5.44l.94 2.06.94-2.06 2.06-.94-2.06-.94-.94-2.06-.94 2.06-2.06.94zm-11 1L8.5 8.5l.94-2.06 2.06-.94-2.06-.94L8.5 2.5l-.94 2.06-2.06.94zm10 10l.94 2.06.94-2.06 2.06-.94-2.06-.94-.94-2.06-.94 2.06-2.06.94z\"/><path d=\"M17.41 7.96l-1.37-1.37c-.4-.4-.92-.59-1.43-.59-.52 0-1.04.2-1.43.59L10.3 9.45l-7.72 7.72c-.78.78-.78 2.05 0 2.83L4 21.41c.39.39.9.59 1.41.59.51 0 1.02-.2 1.41-.59l7.78-7.78 2.81-2.81c.8-.78.8-2.07 0-2.86zM5.41 20L4 18.59l7.72-7.72 1.47 1.35L5.41 20z\"/>\n",
       "  </svg>\n",
       "      </button>\n",
       "      \n",
       "  <style>\n",
       "    .colab-df-container {\n",
       "      display:flex;\n",
       "      flex-wrap:wrap;\n",
       "      gap: 12px;\n",
       "    }\n",
       "\n",
       "    .colab-df-convert {\n",
       "      background-color: #E8F0FE;\n",
       "      border: none;\n",
       "      border-radius: 50%;\n",
       "      cursor: pointer;\n",
       "      display: none;\n",
       "      fill: #1967D2;\n",
       "      height: 32px;\n",
       "      padding: 0 0 0 0;\n",
       "      width: 32px;\n",
       "    }\n",
       "\n",
       "    .colab-df-convert:hover {\n",
       "      background-color: #E2EBFA;\n",
       "      box-shadow: 0px 1px 2px rgba(60, 64, 67, 0.3), 0px 1px 3px 1px rgba(60, 64, 67, 0.15);\n",
       "      fill: #174EA6;\n",
       "    }\n",
       "\n",
       "    [theme=dark] .colab-df-convert {\n",
       "      background-color: #3B4455;\n",
       "      fill: #D2E3FC;\n",
       "    }\n",
       "\n",
       "    [theme=dark] .colab-df-convert:hover {\n",
       "      background-color: #434B5C;\n",
       "      box-shadow: 0px 1px 3px 1px rgba(0, 0, 0, 0.15);\n",
       "      filter: drop-shadow(0px 1px 2px rgba(0, 0, 0, 0.3));\n",
       "      fill: #FFFFFF;\n",
       "    }\n",
       "  </style>\n",
       "\n",
       "      <script>\n",
       "        const buttonEl =\n",
       "          document.querySelector('#df-1e51b09c-4212-4dfe-9cb5-5a7c7be07e15 button.colab-df-convert');\n",
       "        buttonEl.style.display =\n",
       "          google.colab.kernel.accessAllowed ? 'block' : 'none';\n",
       "\n",
       "        async function convertToInteractive(key) {\n",
       "          const element = document.querySelector('#df-1e51b09c-4212-4dfe-9cb5-5a7c7be07e15');\n",
       "          const dataTable =\n",
       "            await google.colab.kernel.invokeFunction('convertToInteractive',\n",
       "                                                     [key], {});\n",
       "          if (!dataTable) return;\n",
       "\n",
       "          const docLinkHtml = 'Like what you see? Visit the ' +\n",
       "            '<a target=\"_blank\" href=https://colab.research.google.com/notebooks/data_table.ipynb>data table notebook</a>'\n",
       "            + ' to learn more about interactive tables.';\n",
       "          element.innerHTML = '';\n",
       "          dataTable['output_type'] = 'display_data';\n",
       "          await google.colab.output.renderOutput(dataTable, element);\n",
       "          const docLink = document.createElement('div');\n",
       "          docLink.innerHTML = docLinkHtml;\n",
       "          element.appendChild(docLink);\n",
       "        }\n",
       "      </script>\n",
       "    </div>\n",
       "  </div>\n",
       "  "
      ],
      "text/plain": [
       "   mean_fit_time  std_fit_time  mean_score_time  std_score_time  \\\n",
       "0       0.040509      0.001780         0.009130        0.001075   \n",
       "1       0.085078      0.008512         0.009849        0.002472   \n",
       "2       0.098951      0.008818         0.008809        0.000177   \n",
       "3       1.772963      0.092267         0.056888        0.002765   \n",
       "4       2.719510      0.040963         0.144477        0.002065   \n",
       "\n",
       "                         param_estimador param_estimador__C  \\\n",
       "0                LogisticRegression(C=1)              0.001   \n",
       "1                LogisticRegression(C=1)                  1   \n",
       "2                LogisticRegression(C=1)                 10   \n",
       "3  SVC(C=1, gamma=0.1, probability=True)                0.1   \n",
       "4  SVC(C=1, gamma=0.1, probability=True)                0.1   \n",
       "\n",
       "  param_estimador__gamma param_estimador__kernel  \\\n",
       "0                    NaN                     NaN   \n",
       "1                    NaN                     NaN   \n",
       "2                    NaN                     NaN   \n",
       "3                  0.001                  linear   \n",
       "4                  0.001                     rbf   \n",
       "\n",
       "                                              params  split0_test_score  \\\n",
       "0  {'estimador': LogisticRegression(C=1), 'estima...           0.884937   \n",
       "1  {'estimador': LogisticRegression(C=1), 'estima...           0.888424   \n",
       "2  {'estimador': LogisticRegression(C=1), 'estima...           0.888424   \n",
       "3  {'estimador': SVC(C=1, gamma=0.1, probability=...           0.880753   \n",
       "4  {'estimador': SVC(C=1, gamma=0.1, probability=...           0.880753   \n",
       "\n",
       "   split1_test_score  split2_test_score  split3_test_score  split4_test_score  \\\n",
       "0           0.882845           0.883543           0.879358           0.882148   \n",
       "1           0.889819           0.889121           0.886332           0.896095   \n",
       "2           0.889819           0.889121           0.886332           0.895397   \n",
       "3           0.880753           0.880753           0.880753           0.880056   \n",
       "4           0.880753           0.880753           0.880753           0.880056   \n",
       "\n",
       "   mean_test_score  std_test_score  rank_test_score  \n",
       "0         0.882566        0.001850                8  \n",
       "1         0.889958        0.003283                1  \n",
       "2         0.889819        0.003024                2  \n",
       "3         0.880614        0.000279               10  \n",
       "4         0.880614        0.000279               10  "
      ]
     },
     "execution_count": 72,
     "metadata": {},
     "output_type": "execute_result"
    }
   ],
   "source": [
    "## Mostramos información acerca de cada una de las combinaciones de hiper parámetros.\n",
    "scores = grid_search2.cv_results_\n",
    "scores_df = pd.DataFrame.from_dict(scores)\n",
    "scores_df.head()"
   ]
  },
  {
   "cell_type": "code",
   "execution_count": null,
   "metadata": {
    "colab": {
     "base_uri": "https://localhost:8080/"
    },
    "executionInfo": {
     "elapsed": 4,
     "status": "ok",
     "timestamp": 1669299825529,
     "user": {
      "displayName": "MARTÍN NICOLAS AISCAR",
      "userId": "18143931623073660355"
     },
     "user_tz": 180
    },
    "id": "vxhKhDENA1J2",
    "outputId": "30421699-e89b-4648-9db8-a86f5858e8c2"
   },
   "outputs": [
    {
     "name": "stdout",
     "output_type": "stream",
     "text": [
      "Los mejores parametros fueron {'estimador': LogisticRegression(C=1), 'estimador__C': 1} con un score de 0.8900\n"
     ]
    }
   ],
   "source": [
    "## Imprimimos cual fue el mejor modelo y la combinación de hiper parámetros.\n",
    "print(\"Los mejores parametros fueron %s con un score de %0.4f\" % (grid_search2.best_params_, grid_search2.best_score_))"
   ]
  },
  {
   "cell_type": "code",
   "execution_count": null,
   "metadata": {
    "colab": {
     "base_uri": "https://localhost:8080/"
    },
    "executionInfo": {
     "elapsed": 400,
     "status": "ok",
     "timestamp": 1669299829263,
     "user": {
      "displayName": "MARTÍN NICOLAS AISCAR",
      "userId": "18143931623073660355"
     },
     "user_tz": 180
    },
    "id": "KmAumWArCA01",
    "outputId": "61851530-bb12-477c-c48c-f282dbb826ba"
   },
   "outputs": [
    {
     "name": "stdout",
     "output_type": "stream",
     "text": [
      "[0 0 0 ... 0 0 0]\n"
     ]
    }
   ],
   "source": [
    "## Realizamos las predicciones sobre las muestras de test.\n",
    "ypred2 = grid_search2.predict(xtest)\n",
    "print(ypred2)"
   ]
  },
  {
   "cell_type": "code",
   "execution_count": null,
   "metadata": {
    "colab": {
     "base_uri": "https://localhost:8080/"
    },
    "executionInfo": {
     "elapsed": 3,
     "status": "ok",
     "timestamp": 1669299830276,
     "user": {
      "displayName": "MARTÍN NICOLAS AISCAR",
      "userId": "18143931623073660355"
     },
     "user_tz": 180
    },
    "id": "8voFX5InCBnd",
    "outputId": "5b839bd9-95f4-4f01-c63f-450863d01723"
   },
   "outputs": [
    {
     "name": "stdout",
     "output_type": "stream",
     "text": [
      "El accuracy es 0.8935893263911487\n"
     ]
    }
   ],
   "source": [
    "## Computamos el accuracy.\n",
    "test_acc = accuracy_score(ytest, ypred2)\n",
    "print(\"El accuracy es \" + str(test_acc))"
   ]
  },
  {
   "cell_type": "code",
   "execution_count": null,
   "metadata": {
    "colab": {
     "base_uri": "https://localhost:8080/"
    },
    "executionInfo": {
     "elapsed": 343,
     "status": "ok",
     "timestamp": 1669299833458,
     "user": {
      "displayName": "MARTÍN NICOLAS AISCAR",
      "userId": "18143931623073660355"
     },
     "user_tz": 180
    },
    "id": "jYJv0JSUCB44",
    "outputId": "003ac381-40fd-4cdf-8212-c284690e3641"
   },
   "outputs": [
    {
     "name": "stdout",
     "output_type": "stream",
     "text": [
      "El AUC es = 0.8677049233527638\n"
     ]
    }
   ],
   "source": [
    "## Computamos el AUC.\n",
    "yproba2 = grid_search2.predict_proba(xtest)\n",
    "fpr2, tpr2, thresholds = roc_curve(ytest.astype(int), yproba2[:,1], drop_intermediate = False, pos_label=1)\n",
    "auc_value2 = auc(fpr2, tpr2)\n",
    "print(\"El AUC es = \" + str(auc_value2))"
   ]
  },
  {
   "cell_type": "code",
   "execution_count": null,
   "metadata": {
    "colab": {
     "base_uri": "https://localhost:8080/",
     "height": 295
    },
    "executionInfo": {
     "elapsed": 1027,
     "status": "ok",
     "timestamp": 1669299846045,
     "user": {
      "displayName": "MARTÍN NICOLAS AISCAR",
      "userId": "18143931623073660355"
     },
     "user_tz": 180
    },
    "id": "G_E-8GkCCCAc",
    "outputId": "b3f31f77-f960-407a-e1d2-757cf4605f36"
   },
   "outputs": [
    {
     "data": {
      "image/png": "[encoded data removed]",
      "text/plain": [
       "<Figure size 432x288 with 1 Axes>"
      ]
     },
     "metadata": {
      "needs_background": "light"
     },
     "output_type": "display_data"
    }
   ],
   "source": [
    "# Graficamos la curva ROC.\n",
    "plt.plot(fpr2, tpr2, lw=2, alpha=0.7 , label=\"ROC curve (AIC = %0.3f)\" % auc_value2, color = 'b')\n",
    "plt.plot([0, 1], [0, 1], linestyle='--', lw=1, color='r', alpha=.8)\n",
    "plt.xlabel('False Positive Rate')\n",
    "plt.ylabel('True Positive Rate')\n",
    "plt.grid(False)\n",
    "plt.legend(loc=\"lower right\")\n",
    "plt.title('Curva ROC con PCA')\n",
    "\n",
    "## Descargamos la imagen.\n",
    "#plot_name = \"roccurveconpca\"\n",
    "#plot_save = str(plot_path + plot_name)\n",
    "#plt.savefig(plot_save+\".png\",dpi=300)\n",
    "\n",
    "plt.show()"
   ]
  },
  {
   "cell_type": "code",
   "execution_count": null,
   "metadata": {
    "colab": {
     "base_uri": "https://localhost:8080/",
     "height": 281
    },
    "executionInfo": {
     "elapsed": 1042,
     "status": "ok",
     "timestamp": 1669299848319,
     "user": {
      "displayName": "MARTÍN NICOLAS AISCAR",
      "userId": "18143931623073660355"
     },
     "user_tz": 180
    },
    "id": "0GjrMjk1CCE-",
    "outputId": "4ee88782-0c8d-468c-cdcd-93b58b643e0a"
   },
   "outputs": [
    {
     "data": {
      "image/png": "[encoded data removed]",
      "text/plain": [
       "<Figure size 432x288 with 2 Axes>"
      ]
     },
     "metadata": {
      "needs_background": "light"
     },
     "output_type": "display_data"
    }
   ],
   "source": [
    "## Calculamos e imprimimos la matriz de confusión.\n",
    "cm = confusion_matrix(ytest, ypred2)\n",
    "df_cm = pd.DataFrame(cm, index = ['No accede', 'Accede'], columns = ['No accede', \"Accede\"])\n",
    "plt.figure(figsize = (6,4))\n",
    "sns.heatmap(df_cm, annot=True,fmt='g')\n",
    "plt.title('Matriz de Confusión con PCA')\n",
    "\n",
    "## Descargamos la imagen.\n",
    "#plot_name = \"confusionmatrixconpca\"\n",
    "#plot_save = str(plot_path + plot_name)\n",
    "#plt.savefig(plot_save+\".png\",dpi=300)\n",
    "\n",
    "plt.show()"
   ]
  }
 ],
 "metadata": {
  "colab": {
   "collapsed_sections": [
    "hWk9Vqs8l5jg",
    "3SbYS6Q7qn4-",
    "cd4eSEt9vaji",
    "aIptcKRefEiS",
    "e4KAPXvw-T9O"
   ],
   "provenance": [
    {
     "file_id": "1GAfAamveue2kqoN3TzdKUiVJgvPuNQBI",
     "timestamp": 1669299985300
    }
   ]
  },
  "kernelspec": {
   "display_name": "Python 3 (ipykernel)",
   "language": "python",
   "name": "python3"
  },
  "language_info": {
   "codemirror_mode": {
    "name": "ipython",
    "version": 3
   },
   "file_extension": ".py",
   "mimetype": "text/x-python",
   "name": "python",
   "nbconvert_exporter": "python",
   "pygments_lexer": "ipython3",
   "version": "3.9.12"
  },
  "vscode": {
   "interpreter": {
    "hash": "c63d8c7d738c2960218a10995aedf0a7f67a49a231e71037adf0440953cdb45b"
   }
  }
 },
 "nbformat": 4,
 "nbformat_minor": 1
}
